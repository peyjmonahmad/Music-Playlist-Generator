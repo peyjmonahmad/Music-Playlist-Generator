{
 "cells": [
  {
   "cell_type": "markdown",
   "metadata": {},
   "source": [
    "Import necessary modules to gain access to spotify API."
   ]
  },
  {
   "cell_type": "markdown",
   "metadata": {},
   "source": [
    "If you would like to register for a developer account for spotify API to perform similar tasks, please visit https://developer.spotify.com/documentation/general/guides/app-settings/#register-your-app"
   ]
  },
  {
   "cell_type": "code",
   "execution_count": 5,
   "metadata": {
    "collapsed": true
   },
   "outputs": [],
   "source": [
    "import spotipy\n",
    "import json\n",
    "import sys\n",
    "import os\n",
    "import spotipy.util as util\n",
    "from PyLyrics import *"
   ]
  },
  {
   "cell_type": "code",
   "execution_count": 6,
   "metadata": {
    "collapsed": true
   },
   "outputs": [],
   "source": [
    "#Initialize spotify object\n",
    "spotify = spotipy.Spotify()"
   ]
  },
  {
   "cell_type": "code",
   "execution_count": 7,
   "metadata": {
    "scrolled": true
   },
   "outputs": [
    {
     "name": "stdout",
     "output_type": "stream",
     "text": [
      "\n",
      "\n",
      "            User authentication requires interaction with your\n",
      "            web browser. Once you enter your credentials and\n",
      "            give authorization, you will be redirected to\n",
      "            a url.  Paste that url you were directed to to\n",
      "            complete the authorization.\n",
      "\n",
      "        \n",
      "Opened https://accounts.spotify.com/authorize?client_id=cb5230258c75465ea3b7fb29eff143c6&response_type=code&redirect_uri=http%3A%2F%2Fgoogle.com%2F in your browser\n",
      "\n",
      "\n",
      "Enter the URL you were redirected to: https://www.google.com/?code=AQCI4zs3AnMAtY3yhl4kLVzKSEaGJ3LZxp-VgxDRjajia7XetqrDcGL3EV0NsmvPh-u258epSPGMR5X5OlLaFfyuGvq9HEDMlk20izD6dt2pI2BT71e9_otOkLEO-EHa9HQXFSQ8Hsxp0teg8GgjZKDovLmqXwY1IKgyBIRL3u7379nS-hhOziqb\n",
      "\n",
      "\n"
     ]
    },
    {
     "name": "stderr",
     "output_type": "stream",
     "text": [
      "warning:couldn't write token cache to .cache-https://open.spotify.com/user/12167672865?si=hYYqy3rNQNutSx90Xi529A\n"
     ]
    }
   ],
   "source": [
    "token = util.prompt_for_user_token('https://open.spotify.com/user/12167672865?si=hYYqy3rNQNutSx90Xi529A',client_id='cb5230258c75465ea3b7fb29eff143c6',client_secret='9a9b3a60275a4f069c19b0e94e17291d',redirect_uri='http://google.com/')"
   ]
  },
  {
   "cell_type": "code",
   "execution_count": null,
   "metadata": {
    "collapsed": true
   },
   "outputs": [],
   "source": [
    "token = util.prompt_for_user_token(username,client_id,client_secret,redirect_uri)"
   ]
  },
  {
   "cell_type": "markdown",
   "metadata": {},
   "source": [
    "Create token based user and application information."
   ]
  },
  {
   "cell_type": "code",
   "execution_count": 9,
   "metadata": {
    "collapsed": true
   },
   "outputs": [],
   "source": [
    "client = spotipy.client.Spotify(auth=None, requests_session=True, client_credentials_manager=None, proxies=None, requests_timeout=None)"
   ]
  },
  {
   "cell_type": "markdown",
   "metadata": {},
   "source": [
    "Create a spotify ojbejct to use your token here."
   ]
  },
  {
   "cell_type": "code",
   "execution_count": 10,
   "metadata": {
    "collapsed": true
   },
   "outputs": [],
   "source": [
    "spotifyObject = spotipy.Spotify(auth=token)"
   ]
  },
  {
   "cell_type": "markdown",
   "metadata": {},
   "source": [
    "## Get track and audio information"
   ]
  },
  {
   "cell_type": "code",
   "execution_count": 11,
   "metadata": {
    "collapsed": true
   },
   "outputs": [],
   "source": [
    "def get_lyrics_audio(lst):\n",
    "    \"\"\"This loop gathers tracks, lyrics, and audio features for any given artist\n",
    "    that we search through the spotify API.  This loops through an artist's last three albums,\n",
    "    the tracks of those albums, and also retrieves lyrics and audio features from each track.  \n",
    "    Two lists are returned, one contains a dictionary for each artist with all their track names\n",
    "    and lyrics.  The second list contains audio features for every track in this loop.\"\"\"\n",
    "    \n",
    "    # Initialize both lists\n",
    "    tracks_list = []\n",
    "    lyrics_list= []\n",
    "    \n",
    "    # Loop through artists from list we gave\n",
    "    for artist in lst:\n",
    "        \n",
    "        # Initialize dictionary for each unique artist\n",
    "        artist_dict=  {}\n",
    "\n",
    "        try:\n",
    "            # Search artist name in spotify API search\n",
    "            searchResults = spotifyObject.search(artist,1,0,'artist')\n",
    "            \n",
    "            # Get info for first artist in search\n",
    "            artist = searchResults['artists']['items'][0]\n",
    "\n",
    "        except Exception as e:\n",
    "            print(e)\n",
    "            return False\n",
    "        \n",
    "        # Put artist name and number of followers in dict\n",
    "        artist_dict['Artist'] = artist['name']\n",
    "        artist_dict['Followers'] = (artist['followers']['total'])\n",
    "        \n",
    "        # This artist ID is used to get album results below.\n",
    "        artistID = artist['id']\n",
    "\n",
    "        #Extract Album results\n",
    "        albumResults = spotifyObject.artist_albums(artistID)\n",
    "        albumResults = albumResults['items']\n",
    "        \n",
    "        # Loop through artist's three latest albums\n",
    "        for item in albumResults[:3]:\n",
    "            \n",
    "            # Album ID is used to get track results in each album\n",
    "            albumID = item['id']\n",
    "\n",
    "            #Extract track data \n",
    "            trackResults = spotifyObject.album_tracks(albumID)\n",
    "            trackResults = trackResults['items']\n",
    "            \n",
    "            # Loop through all tracks \n",
    "            for track in trackResults:\n",
    "                \n",
    "                # Intialize dictionary for each track\n",
    "                track_dict = {}\n",
    "\n",
    "                try:\n",
    "                    \n",
    "                    # Track ID used to get audio features\n",
    "                    trackID = track['id']\n",
    "                    \n",
    "                    # Get name of each track\n",
    "                    name = track['name']\n",
    "                    \n",
    "                    # Use python's PyLyrics library retrieve lyrics for each song found.\n",
    "                    # If lyrics for a song are not available in library, skip the song.\n",
    "                    lyrics = PyLyrics.getLyrics(artist['name'],name)\n",
    "                    lyrics = lyrics.replace('\\n', ' ')\n",
    "                    \n",
    "                    # Add artist name for each track in track dict\n",
    "                    track_dict['Artist'] = artist['name']\n",
    "                    \n",
    "                    # Add song name for each track\n",
    "                    track_dict['song'] = name\n",
    "\n",
    "                    track_dict['id']= trackID\n",
    "                    \n",
    "                    # Use track ID to get audio features for each track.\n",
    "                    # Key will be the word audio, and value will be all the audio features\n",
    "                    track_dict['audio']= spotifyObject.audio_features(tracks=trackID)\n",
    "                    \n",
    "                    # For artist dict, each track name is a key, and the value is lyrics for the song.\n",
    "                    artist_dict[name] = lyrics\n",
    "                    \n",
    "                    # Only add track to tracks dictionary if the track name is already in the artist dictionary.\n",
    "                    # We only want tracks that will be in both dictionaries, for ease of analysis.\n",
    "                    if name in artist_dict.keys():\n",
    "                        \n",
    "                        # Append each track dictionary to list of track dicts\n",
    "                        tracks_list.append(track_dict)\n",
    "\n",
    "                except:\n",
    "                    pass\n",
    "                 \n",
    "        try:\n",
    "            \n",
    "            # Append dictionary for each artist to list of artist dicts\n",
    "            lyrics_list.append(artist_dict)\n",
    "            \n",
    "        except:\n",
    "            pass\n",
    "    \n",
    "    # Return list of artist dicts and list of track dicts\n",
    "    return lyrics_list,tracks_list"
   ]
  },
  {
   "cell_type": "markdown",
   "metadata": {},
   "source": [
    "The function above was applied for all four genres that were included in this project.  The only argument that is necessary for input is a list of artists, so for each genre this function will loop through the given list. "
   ]
  },
  {
   "cell_type": "markdown",
   "metadata": {},
   "source": [
    "### Here is an example."
   ]
  },
  {
   "cell_type": "markdown",
   "metadata": {},
   "source": [
    "To show how exactly what this function returns, we will input a list of a few music artists."
   ]
  },
  {
   "cell_type": "code",
   "execution_count": 12,
   "metadata": {
    "collapsed": true
   },
   "outputs": [],
   "source": [
    "ex_list = ['Eminem','Drake','Ariana Grande']"
   ]
  },
  {
   "cell_type": "code",
   "execution_count": 13,
   "metadata": {},
   "outputs": [
    {
     "name": "stderr",
     "output_type": "stream",
     "text": [
      "/Users/peyjmonahmad/anaconda3/lib/python3.6/site-packages/bs4/__init__.py:181: UserWarning: No parser was explicitly specified, so I'm using the best available HTML parser for this system (\"lxml\"). This usually isn't a problem, but if you run this code on another system, or in a different virtual environment, it may use a different parser and behave differently.\n",
      "\n",
      "The code that caused this warning is on line 193 of the file /Users/peyjmonahmad/anaconda3/lib/python3.6/runpy.py. To get rid of this warning, change code that looks like this:\n",
      "\n",
      " BeautifulSoup(YOUR_MARKUP})\n",
      "\n",
      "to this:\n",
      "\n",
      " BeautifulSoup(YOUR_MARKUP, \"lxml\")\n",
      "\n",
      "  markup_type=markup_type))\n"
     ]
    }
   ],
   "source": [
    "# Input example list into the functio (Returns 2 lists)\n",
    "lyrics_list,audio_list = get_lyrics_audio(ex_list)"
   ]
  },
  {
   "cell_type": "markdown",
   "metadata": {},
   "source": [
    "Let's see what these lists look like "
   ]
  },
  {
   "cell_type": "code",
   "execution_count": 14,
   "metadata": {},
   "outputs": [
    {
     "data": {
      "text/plain": [
       "3"
      ]
     },
     "execution_count": 14,
     "metadata": {},
     "output_type": "execute_result"
    }
   ],
   "source": [
    "len(lyrics_list)"
   ]
  },
  {
   "cell_type": "markdown",
   "metadata": {},
   "source": [
    "Lyrics_list consists of 3 seperate dictionaries.  For each artist dictionary, it contains keys of song names, and the corresponding lyrics to that song as values.  Also, one key should be 'artist', with the artist name as the value."
   ]
  },
  {
   "cell_type": "code",
   "execution_count": 15,
   "metadata": {},
   "outputs": [
    {
     "data": {
      "text/plain": [
       "{'Arose': \"If I could rewind time like a tape Inside a boombox, one day for every pill or Percocet that I ate Cut down on the Valium, I'da heard everything But death is turning so definite-wait  They got me all hooked up to some machine I love you, being, didn't want you to know I was struggling Feels like I'm underwater submerged like a submarine Just heard that nurse say my liver and kidneys aren't functioning  Been flirtatious with death, skirt-chasing, I guess It's arrivederci, same nurse, just heard say they're unplugging me And it's your birthday, Jade, I'm missing your birthday Baby girl, I'm sorry, I fucking hate when you hurt, Hai  And sweeties, thank you for waiting to open gifts But, girls, you can just open 'em Dad ain't making it home for Christmas Wish I had the strength to just blow a kiss I go to make a fist, but I can't make one, I'm frozen stiff  I yell, but nothing comes out, I'm crying inside, I shout My vocal cords won't permit me, I scream, but it's not aloud You put your arm around Mama to calm her, wow I just thought about the aisle, I'll never get to walk us down  Never see you graduate in your caps and gowns It's 'bout to be 2008, how's this happening now? I've got so much more to do And, Proof, I'm truly sorry if I let you down, but this tore me in two  The thought of no more me and you You gave me shoes, Nikes like new for me for school Doody, I'm trying, but you, you were the glue that binded So many things-time, I'd give anything to rewind it  I had to walk down my halls and constantly be reminded By pictures all on my walls and I couldn't sleep at night 'cause That image burned in my brain of you on that table Me falling across your body, not able to stand to save you  God, why did you take him? I'm tryna keep his legacy alive, but I'm dying, where's Nathan? Little ladies, be brave, take care of your mother Smile pretty for pictures, always cherish each other  I'll always love ya and I'll be in the back of your memory And I know you'll never forget me Just don't get sad when remembering And, little bro, keep making me proud You better marry that girl 'cause she's faithfully down  And when you're exchanging those sacred vows Just know that if I could be there, I would And should you ever see parenthood, I know you'll be good at it Oh, almost forgot to do something, thank my father too I actually learned a lot from you You taught me what not to do  And, Mom, wish I'd have had the chance To have one last heart-to-heart honest and open talk with you Doody, I see you, I go to walk to you And I can feel my soul leave my body and float across the room  Nurses lean over the bed, pulling tubes out Then the sheet over my head, shut the room down Girls, please don't get upset I see them cheeks soaking and wet As you squeeze hold of my neck, so forcibly, don't wanna let  Me go, pillow drenched, emotional wrecks With every second, each closer to death But suddenly I feel my heart begin to beat slow Then a breath, machines go Must've guessed the cheat codes to this shit  I'm tryna rewind time like a tape Find an escape, make a beeline, try and awake From this dream, I need to re-find my inner strength To remind me, even if a steep climb I must take To rewrite a mistake, I'm rewinding the tape  Part II: Castle Extended  (I don't want it) I'll put out this last album, then I'm done with it One hundred percent finished, fed up with it I'm hanging it up, fuck it! Excuse the cursing, baby, but just know That I'm a good person, though they portray me as cold  And if things should worsen, but I bet you they won't I'm pledging to throw this methadone in the toilet Shred these old letters I wrote All that old pathetic loathing, closing credits can roll I'm proud to be back  I'm 'bout to, like a rematch, outdo Relapse With Recovery, Mathers LP2 Help propel me to victory laps Gas toward 'em and fast forward the past Consider the last four minutes as  The song I'da sang to my daughters If I'da made it to the hospital less than two hours later, but I fought it And came back like a boomerang on 'em Now a new day is dawnin' I'm up, Tuesday, it's mornin'-now I know\",\n",
       " 'Artist': 'Eminem',\n",
       " 'Bad Husband': 'We never saw from each other\\'s sides or eye to eye Just eye for eye, lie for lie, fight or flight So much baggage, need a luggage rack But we carry on with our public spats and our feuds Up back in the news, love taps when I dissed you Like it was fun, actually used to run back to the booth Jump back in the studio, give you a tongue lashing, then you Laughed at a stomach tat with the tomb stone It was funny back in our youth But then it wasn\\'t after we knew That we were done and actually through (and actually through)  But if there\\'s one fraction of truth If it could be spun back I would do So many things different, \\'cause it was such a dumbass excuse You hit me once and that I would use To continue the pattern of abuse Why did I punch back? Girls, your dad is a scumbag, I\\'m confused Because  How come you can be a lord and a loser? How come, how come, you can be a liar and a good father? A good dad, but a bad husband Why are you a good father? A great dad, but a bad husband  You were the beat I loved with a writer\\'s block The line that\\'s hot, that I forgot We laughed a little, cried a lot I\\'ll never forget when you came home and you held Hailie Day before you went to jail and daily How we\\'d wait for that mail lady Or by the phone for Mom to call  And I watched you pull yourself up and we decided on Giving it one more try despite it all You\\'re my lightning rod when my sky gets dark I\\'m your shiny rocks in that tiny box When we tied the knot, when we broke the knot Every line we crossed we were supposed to not Every time we fought, the insults, they got thrown too far  Words that we said that we didn\\'t mean The words that we meant that we didn\\'t say The ones that we thought that we shoulda said Letters written that we could have read Which maybe woulda lead to some good instead And had this put to bed But I\\'d be lyin\\' still if I said I wasn\\'t sittin\\' here askin\\' myself  How come you can be a lord and a loser? How come, how come, you can be a liar and a good father? A good dad, but a bad husband Why are you a good father? A great dad, but a bad husband (Dad) (you said) Forever be a hero in my eyes (I reply) But there\\'s always another side to a good father A great dad, but a bad husband  We brought out the worst in each other Someone had to make the sparring end \\'Cause I loved you, but I hated that me And I don\\'t wanna see that side again But I\\'m sorry, Kim More than you could ever comprehend Leaving you was fucking harder than Sawing off a fucking body limb  Once upon a time we\\'re all we had Maybe that\\'s what drew us To each other, it was true love Shit we never knew was possible We might have loved each other too much And maybe that\\'s what made us do what We did to each other, all the screw-ups \\'Cause you always thought that you was More in love with me, and I was thinking I was more in love than you was  For all the times that we thought it worked Till we saw how wrong we were When the dust settles now and all the dirt If I touch the rawest nerve All I want is for us not to hurt  And it\\'s been an exhaustive search to find the words But I just heard \"Mockingbird\" And got the urge to jot some verses and thoughts The purpose was not to stir up or open wounds I\\'ve caused a few and so have you Or argue whose fault it was partly yours  Partly mine, but really no one\\'s This is so tough, I\\'m getting choked up Oh fuck it, we both suck We broke up, got back together We both thought we had forever Not bad people, just bad together We were so nuts, backstabbed each other Another blow struck  But there\\'s no duckin\\' this blow \\'Cause it\\'s over and it\\'s closure But I\\'m not so sure how to close this I just don\\'t know how some people can be so good At one thing and so fucked at a whole \\'nother Shit, it\\'s no wonder  How come, how come, you can be a lord and a loser? How come, how come, you can be a liar and a good father? A good dad, but a bad husband Why are you a good father? A great dad, but a bad husband (Dad) (you said) Forever be a hero in my eyes (I reply) But there\\'s always another side to a good father A great dad, but a bad husband',\n",
       " 'Believe': 'And I started from the bottom Like a snowman, ground-up Like round chuck and still put hands on you Stayin\\' wound up is how I spend time Sucker free, confidence high Such a breeze when I pen rhymes I just got the air about me like wind chimes (yeah)  Another day in the life (uh) Used to have to scrape to get by (yeah) Now my community\\'s gated and I Made it and my neighbors say hi I\\'m givin\\' \\'em pounds, I\\'m upscale now Guess it means I\\'m way in the sky  But I still remember the days of Minimum wage for general labor Welfare recipient since a minor Look how government assistance has made ya Adversity, if at first you don\\'t succeed Put your temper to more use \\'Cause bein\\' broke\\'s a poor excuse  That should only give you more fuel Show \\'em why you\\'re you So close, God, it\\'s like I almost got it But close only counts in time bombs and horseshoes So I Unabomb shit-tick, tick, tick-no remorse, pew Screw it, I\\'m lit, and that attitude I blew up on quick That\\'s why they call me firecracker I grew up on wick-wick, wick, wick-with a short fuse I got some important news to report to Anyone who thought I was done: nah bitch, not quite Spotlight\\'s back on, got my faith, where\\'s yours?  Do you still believe in me? Didn\\'t I give everything I had to give you to make you see? I\\'ll never forget if you turn your back on me now and walk out I will never let you live it down (I\\'ll never quit) Do you still believe in me?  Man, I know sometimes These thoughts can be harsh and cold as ice To me they\\'re just ink blots I just fling \\'em like slingshots and so precise  So you might want to think it over twice When you retards can roll the dice But beef will at least cost you your career \\'Cause even my cheap shots are overpriced  But this middle finger\\'s free as a bird Nuke warheaded birth, hugest forehead on Earth Too short for the verse, studied his formula, learned How to incorporate a curse Point it towards corporate America  Stick a fork in and turn \\'Cause four-letter words are more better heard The world force-fed a turd to me You\\'re gettin\\' yours  But sometimes I overdo it, but I just get so into it I was there consolin\\' you when no one knew it When your situation showed no improvement I was that door, you walked over to it I\\'m the light at the end of tunnel So people are always lookin\\' at me as they\\'re goin\\' through it  When that tunnel vision is unclear Shit becomes too much to bear Since \"Cleanin\\' Out My Closet\" When I was havin\\' trouble with the snare  I\\'m that unrealistic prayer answered And I\\'ma get you jacked up Like you\\'re tryin\\' to fix a flat, uh When you struggle with despair That double-fisted, bare-knuckles coupled with this pair Of nuts I\\'m cuppin\\', I am your fuckin\\' switch, nothin\\' can compare  Do you still believe in me? Didn\\'t I give everything I had to give you to make you see? I\\'ll never forget if you turn your back on me now And walk out, I will never let you live it down (I\\'ll never quit) Do you still believe in me?  Started from the bottom like a snowman Oh man, put that in your corncob pipe and smoke that But my battery\\'s low, I\\'ma need a boost to my pack And I know that I always got Proof at my back I called you \"Proof\" because I knew for a fact  My ace in the hole, homie, I\\'m callin\\' on you \\'Cause I think I\\'m slowly startin\\' to lose faith in it, so Give me that apron and mo- -Tivation to go, Hussein with the flow Fake fans left you two-faced at the show Let heartbeats loop, produce hate in my soul Layin\\' vocals two days in a row  True statement, hate to go down this road But there\\'s only one route to cross this bridge So I walk in this bitch with loose change \\'Cause all my dues paid, but this booth\\'s takin\\' its toll  But it\\'s never too late to start a new beginning That goes for you too, so what the fuck you gon\\' do? Use the tools you\\'re given Or you\\'re gon\\' use the cards you\\'re dealt As an excuse for you to not do shit with \\'em? I used to play the loser/victim Till I saw the way Proof was driven  I found my vehicle and I haven\\'t ran out of gas yet And when they stacked decks, turn handicaps into assets Fanny packs, hourglasses If time was on my side, I\\'d still have none to waste Man, in my younger days That dream was so much fun to chase  It\\'s like I run in place While this shit dangled in front of my face But how do you keep up the pace And the hunger pains once you\\'ve won the race?  When that fuel exhaust is coolin\\' off \\'Cause you don\\'t got nothin\\' left to prove at all \\'Cause you done already hit \\'em with the coup de grâce Still you feel the need to go full tilt That Bruce Willis, that Blue Steel, that true skill When that wheel\\'s loose, I won\\'t lose will Do you still believe?',\n",
       " 'Castle': \"I built this castle Now we are trapped on the throne I'm sorry we're alone I wrote my chapter You'll turn the page when I'm gone I hope you'll sing along This is your song  I just want you to know that I ain't scared Whatever it takes to raise you, I'm prepared To do whatever, to do whatever December 1st, 1995, dear Hailie This is your song  You'll be coming out of Mommy's stomach soon I better do something quick if I'mma be able to support you I can barely support me, but as long as you're healthy That's all that matters for the time being But obviously assuming you will be  Just thinking ahead, I'ma make it if it kills me Let's see how far I can take it with this music I'm getting sick of chasing this illusion Sorry for sloppy writing The pen in my hand is shaking, please excuse me  Dad's a little nervous, but at the same time excited If I use this same energy while I'm saying rhymes and write 'em With the same passion and the same exact enthusiasm As I'm using in this letter, maybe they can feel me as I'm  Trying to build these castles out of sand, baby girl For you to sit on the throne, I got plans, baby girl Welcome to Mom and Dad's crazy world Love, Daddy, maple-flavored kisses, buttered pancakes and syrup  I built this castle Now we are trapped on the throne I'm sorry we're alone I wrote my chapter You'll turn the page when I'm gone I hope you'll sing along This is your song  I just want you to know that I ain't scared Whatever it takes to raise you, I'm prepared To do whatever, to do whatever December 1st, 1996, dear Hailie  You got your mama's personality, same eyes as I got Her beautiful smile, but your ears are the same size as mine are Sorry for that, a little minor mishap But you'll grow into 'em, baby, I'm on the grind now  I'm doing little shows, open mics, all-nighters at studios While I'm tryna keep the lights on Why does it seem like I'm so close to this dream, yet so far? I just keep steering, I'mma turn into someone  I haven't the slightest clue what I'mma do if it falls through You took your first steps today, you'll probably walk soon My Infinite CD flopped, too many soft tunes They're talking bad about Dad, it's ticking me off too  Makes me feel like I don't belong or something, ooh I think I might have just stumbled onto something new Got a prediction for the future, I'm hoping that you Open this envelope when you're older and it holds true  I built this castle Now we are trapped on the throne I'm sorry we're alone I wrote my chapter You'll turn the page when I'm gone I hope you'll sing along This is your song  I just want you to know that I ain't scared Whatever it takes to raise you, I'm prepared To do whatever, to do whatever December 24th, 2007, dear Hailie  Now if you found these letters, I guess I better try to explain A lot's happened in between them since I rised to this fame I've said your name but always tried to hide your face This game is crazy, I wanted to claim my love for you, but dang  I never knew it'd be like this, if I did I wouldn't have done it You ain't asked for none of this shit, now you're being punished?! Things that should've been private with me and your mother is public I can't stomach, they can take this fame back, I don't want it  I'll put out this last album then I'm done with it One-hundred percent finished Fed up with it, I'm hanging it up, fuck it Excuse the cursing, baby, but just know That I'm a good person, though they portray me as cold  And if things should worsen, don't take this letter I wrote As a goodbye note, 'cause your dad's at the end of his rope I'm sliding down a slippery slope Anyways sweetie, I better go I'm getting sleepy, love, Dad... shit, I don't know\",\n",
       " 'Chloraseptic': \"Instinctive nature to bring the anguish (yeah) To the English language With this ink, you haters get rode on like a piece of paper This rap shit got me travellin' place to place You barely leave your house 'Cause you're always stuck at your pad, it's stationary  Yeah, that's why when I brainstorm, gotta write it out Simon Cowell of rhymin' foul, that's why you sound so shook Wire bound notebook got tied around your throat Hook it inside your mouth, go-hruh That's what it's like when the mic is out  'Cause I'm tearin' at your flesh with it Till your larynx and neck are split With these lyrics, weapons, expert with Like hair extensions, extra clips And you're scared to effin' death of it Bitch, you're starin' at a legend, that In a pair of Skechers, sweatshirt ripped And hoodie black, should be strapped  To a chair or stretcher, electric, swear on every record, bitch Finger so high in the air, I'll bet your senses flip Like a barometric pressure switch Carin' less who I offend with this I'm at your neck like Pez dispense Go 'head, spit your flow, bitch  I'm at your throat like chloraseptic, 'septic And you got strep, I'm too complex with, 'plex with This shit I wrote is on some next shit, next shit I'm at your throat, I'm feelin' reckless, reckless, yeah  And I'll take a hundred of you, hundred of you All at once like I had nothin' to lose, what can I do? My appetite for destruction is loose, destruction is loose And all it wants is to have somethin' to chew Somethin' to chew (somethin' to chew)  Yeah, uh, and still conjoined at The hip with hop, still on point and poignant Skilled as Floyd is In this field, and still no filter, boy I'll put you in your place (yeah) like a realtor, boy You still ain't in the building, boy  I will destroy shit, even as I build it Get the drillbit, pen is filled with poison Which is the source, easy to still pinpoint it (Like what?) Like a real thin joint it (What?) Comes on Quilted Northern (And what?) In a built-in toilet (Yeah) Bitch, I told you I'm a dog (woof)  I wouldn't heal with ointment Way I'm kickin' these fairies tales Should write a children's storybook (yeah, yeah, yeah) Million voices in my head But still get a little bit of thrill and some real enjoyment (Off what?) Off the feel of going in (Like?) Like your bitch when she gives me brain  Like she thinks I'm dumb Grabs the crown of my dick and blows me to kingdom come Till I feel anointed She makes iller noises When she's with me, must be from the Windy City Pretty apparent, she's a MILF when blowin' me  'Cause I conned her into Rippin' the condom in two (woo) Dick is a bargaining tool Now I'm gettin' blew like Klonopins, Rude Jude I go there, you wouldn't? Well, I still have a few views in common with you Just not YouTube, 'cause  I'm at your throat like chloraseptic, 'septic And you got strep, I'm too complex with, 'plex with This shit I wrote is on some next shit, next shit I'm at your throat, I'm feelin' reckless, reckless, yeah  You're a has-been That has been the case since back when You last went and threw your hat in the race You've been trash, stick your raps in the trash bin Or end up in my next rhyme You're a fuckboy, so next time It's gonna be heads flyin' like Dez Bryant With a TEC-9 against Rex Ryan (yeah)  Now watch me set it like correct time All you get is sloppy seconds like a Timex, I Clock rejects into the next life Talkin' reckless, but it's just my Strongest suit, but you can get my Columbian neck tie Prostitute, just climb in the Humvee and let's ride  Why you hitching at night? I put an end to your life, sex crime Kidding aside, insidious vibe Girl, you know you got the prettiest eyes But all you're getting is bribe Ending your life to try to get you inside Then we gon' end up spending the night And I'm skinning your hide like an Indian tribe  What kind of nut drives a Budweiser truck Finds a slut, tries to surprise her, cuffs, ties her up Binds up, cuts, slices her twice? But the muff diver must just like it rough Fuck right in her vagina, blood Flies up on the visor, like a geyser, uh (Music, please)  Enthusiast of the roofie Goal is to get a floozy inside the Jacuzzi And have a loosey-goosey as Cool C is with an Uzi But I am to rap what blue jeans mean to Bruce Springsteen Glued we be, I'm truTV, you're too PG I'm Schoolly D, you're Spoonie Gee  No diss there, just notice there Are no similarities that we share Besides the fact we breathe air Happily married to rap and I'm glad that we buried The hatchet and patched it up Now I'm back to ratchet up my attack And I'm at your motherfuckin' throat like  Chloraseptic, 'septic And you got strep, I'm too complex with, 'plex with This shit I wrote is on some next shit, next shit I'm at your throat, I'm feelin' reckless, reckless, yeah  And I'll take a hundred of you, hundred of you All at once like I had nothin' to lose, what can I do? My appetite for destruction is loose, destruction is loose And all it wants is to have somethin' to chew Somethin' to chew (somethin' to chew)\",\n",
       " 'Em Calls Paul - Skit': \"Aye yo Paul, it's Em I got your call about the Michael Jackson thing And I know that he's not thrilled about the video What does he wanna be startin' somethin'? Well I'll show him who's really bad  Paul, the way you make me feel with these calls You should really take a look at the man in the mirror and tell him to beat it because I won't stop till I get enough Do you remember the time we were watching the Billy Jean video? Well he'll always be that Michael to me, and it doesn't matter if he's black or white Because I can't stop loving him And I hate plastic surgeons, and I hope they all fucking die  How do you like that? And I like him, I like him a lot I want to touch him, but I can't  Excuse me, I'm taking a shit, sorry  Anyways, call me back, I have this idea about how I want to end the show So, hit me when you get this message, fucker Oh, and by the way, no I don't have a new gun (Goddamn it)\",\n",
       " 'Fall': 'You know, everybody\\'s been tellin\\' me what they think about me for the last few months It\\'s too loud Maybe it\\'s time I tell \\'em what I think about them Can\\'t hear it coming down the hallway stairs from the parking lot It\\'s too loud Freeze my crown all up in it Slow fire Don\\'t fall on my face Don\\'t fall on my faith, oh Don\\'t fall on my fate Don\\'t fall on my faith, oh Don\\'t fall on my fate Don\\'t fall on my-  Gotta concentrate against the clock I race Got no time to waste, I\\'m already late, I got a marathoner\\'s pace Went from addict to a workaholic, word to Dr. Dre in that first marijuana tape Guess I got a chronic case And I ain\\'t just blowin\\' smoke, \\'less it\\'s in your mama\\'s face I know this time Paul and Dre, they won\\'t tell me what not to say And though me and my party days have all pretty much parted ways You\\'d swear to God I\\'ve forgot I\\'m the guy that made \"Not Afraid\" One last time for Charlemagne If my response is late, it\\'s just how long it takes To hit my fuckin\\' radar, I\\'m so far away These rappers are like Hunger Games One minute, they\\'re mocking Jay Next minute, they get they style from Migos, then they copy Drake Maybe I just don\\'t know when to turn around and walk away But all the hate I call it \"Walk on Water\" gate I\\'ve had as much as I can tolerate I\\'m sick and tired of waitin\\', I done lost my patience I can take all of you motherfuckers on at once You want it, Shady? You got it!  Don\\'t fall on my face Yeah Don\\'t fall on my faith, oh Don\\'t fall on my fate Light him up! Don\\'t fall on my faith, oh Rrr Don\\'t fall on my fate Look  Somebody tell Budden before I snap, he better fasten it Or have his body baggage zipped The closest thing he\\'s had to hits is smacking bitches And don\\'t make me have to give it back to Akademiks Say this shit is trash again, I\\'ll have you twisted like you had it when you thought you had me slippin\\' at the telly Even when I\\'m gettin\\' brain, you\\'ll never catch me with a thot Lacking with it, \"he ain\\'t spit like this in his last shit\" Hoe, you better go back and listen You know me better, thinkin\\' I\\'ll slow up, let up Call it traps \\'cause it\\'s a total setup Hopin\\' that you rappers fall in that Dre said, \"Hold your head up\" Kathy Griffin stackin\\' ammunition, slap the clip and cock it back on competition, this is how I shot a head (pew) Gabby Giffords, my attack is viscous, jack the ripper, back in business Tyler create nothing, I see why you called yourself a faggot, bitch It\\'s not just \\'cause you lack attention It\\'s \\'cause you worship D12\\'s balls, you\\'re sacrilegious If you\\'re gonna critique me, you better at least be as good or better Get Earl, the Hooded Sweater, whatever his name is to help you put together some words, more than two letters The fans waited for this moment Like the feature when I stole this show Sorry if I took forever  Don\\'t fall on my face Yeah Don\\'t fall on my faith, oh I won\\'t Don\\'t fall on my fate Light him up! Don\\'t fall on my faith, oh Don\\'t fall on my fate It\\'s too easy  Just remember-I was here before you And I\\'ll be here after you make your run-in for you Detract this, I might have to fuck Pitchfork with a corkscrew Just what the doctor ordered Revenge is the best medicine Increase the dose, unleash the monster Then tell the Grammys to go and fuck themselves, they suck the blood from all the biggest artists like some leeches So they nominate \\'em, get \\'em there, get a name to \\'em See the show, every parasite needs a host Then give Album of the Year to somebody that no one\\'s ever even heard of All I know is I wrote every single word of everything I ever murdered Time to separate the sheep from goats And I got no faith in your writers, I don\\'t believe in ghosts When rap needed it most, I was that wing in the prayer A beacon of hope, the B-I-R-D in the air Somewhere, some kid is bumping this while he lip-syncs in the mirror That\\'s who I\\'m doin\\' it for, the rest I don\\'t really even care But you would think I\\'m carryin\\' a Oxford dictionary in my pocket how I\\'m buryin\\' these artists On the scale it turns to minus Mines is various as hardly and what\\'s scary is you prolly can compare me to your car \\'cause I\\'m barely gettin\\' started And as far as Lord Jamar, you better leave me the hell alone Or I\\'ll show you an Elvis clone Walk up in this house you own Brush my pelvic bone You should tell a phone and go fetch me the remote Put my feet up and just make myself at home I belong here, clown! Don\\'t tell me \\'bout the culture I inspire the Hopsins, the Logics, the Coles, the Seans, the K-Dots, the 5\\'9\"s, and oh Brought the world 50 Cent, you did squat, pissed and moaned, but I\\'m not gonna fall... bitch!  It\\'s too loud Can\\'t hear it coming down the hallway stairs from the parking lot It\\'s too loud Freeze my crown all up in it Slow fire',\n",
       " 'Followers': 22931450,\n",
       " 'Framed': 'Feeling kinky Lip syncing to Too $hort\\'s \"Freaky Tales\" (Biatch) Having creepy visions of whiskey drinking Envisioning sneaking into where Christie Brinkley dwells I know this is risky thinking but I wanna stick her like she decals  But when murdering females Better pay attention to these details or you could be derailed Better wear at least three layers of clothing or be in jail If you get scratched because your DNA\\'ll Be all up under her fingernails  Man, he hears you, I don\\'t think he cares He gives a fuck, even his pinky swears Three personalities burstin\\' out of me, please beware Her TV blares, can\\'t hear the creaking stairs She\\'s unaware in no underwear  She\\'s completely bare Turns around and screams, I remember distinctly I said \"I\\'m here to do sink repairs.\" Chop her up, put her body parts In front of Steven Avery\\'s trailer and leave \\'em there  But damnit, I was framed I know what this looks like, officers Please just give me one minute I think I can explain I ain\\'t murdered nobody I know these words are so nutty But I\\'m just here to entertain  How come your shirt is so bloody? There\\'s a missing person, so what? He\\'s got nothin\\' to do with me I\\'m almost certain I was framed  Woke up, it was dawn, musta knew somethin\\' was wrong Think I\\'m becomin\\' a monster \\'cause of the drugs that I\\'m on Donald Duck\\'s on as the Tonka Truck in the yard But dog, how the fuck is Ivanka Trump in the trunk of my car?  Gotta get to the bottom of it to try to solve it Must go above and beyond, \\'cause it\\'s incumbent upon Me, \\'cause I feel somewhat responsible for the dumb little blonde Girl, that motherfuckin\\' baton twirler that got dumped in the pond  Second murder with no recollection of it Collectin\\' newspaper articles, cuttin\\' up sections from it Memory\\'s too fucked to remember Destructive temper cut my public defender\\'s Jugular then stuck him up in a blender  Another dismembered toddler Discovered this winter probably \\'Cause the disassembled body Was covered up in the snow since the month of November oddly I\\'m wanted for questioning Them son of a bitches probably just wanna pin this on me  But hey man, I was framed I know what this looks like, officers Please just give me one minute I think I can explain I ain\\'t murdered nobody I know these words are so nutty But I\\'m just here to entertain  How come your shirt is so bloody? There\\'s a missing person, so what? He\\'s got nothin\\' to do with me I\\'m almost certain I was framed  Still on the loose, they Spotted me inside McDonald\\'s, Tuesday In a Toronto Blue Jays cap, lookin\\' like your college roommate With Rihanna, Lupe, Saddam Hussein, Bobby Boucher Or was it Cool J? The cops is on a goose chase  Just escaped from the state pen For rapin\\' eight women who hate men Don\\'t make it no weirder, I\\'m naked When I break in your basement  Under your baby\\'s play pen, I lay and wait adjacent Facin\\' the door, remaining patient While stayin\\' complacent blatant Sexual implications are continuing to get thrown Insinuations are placed in little riddles and poems Left on your pillow in hopes, that when you get home You\\'ll get the hint, ho, I\\'m in your window  But it never occurred to me I could describe a murder scene In a verse and be charged with first degree \\'Cause it just happened to match up perfectly With the massacre or the Burger King burglary No, officer, you see  I was framed I know what this looks like, officers Please just give me one minute I think I can explain I ain\\'t murdered nobody I know these words are so nutty But I\\'m just here to entertain  How come your shirt is so bloody? There\\'s a missing person, so what? He\\'s got nothin\\' to do with me I\\'m almost certain I was framed',\n",
       " 'Good Guy (feat. Jessie Reyez)': 'Here we go again from heroes to villains Used to be your Romeo, but we both were jilted A couple of times, so we had a slippery slope to deal with But still it gave me hope that we\\'ll get Through it together, a severed earlobe Mailed to you in an E-N-V-E-lope would be dope But what kind of lengths can you go? Pull a Vincent van Gogh, just to convince a damn ho To be a housewife who outright lies She\\'s blackout drunk, now she\\'s backin\\' out my drive I ran outside, why\\'s she tryna act out? She\\'s just about my size, hit me in the mouth twice Guys, when someone you\\'d die for Sticks a steak knife in your heart, do you try more? Another late night in, she stumbles through my door Lets the daylight in and all we do\\'s fight more And I ain\\'t violent, but she\\'s goin\\' through my drawers To plant the K-Y in; I\\'m gettin\\' accused by a whore Who smells like St. Ides and who\\'s probably screwed five more Guys, sucked eight/nine men I\\'m takin\\' two-by-fours to our eight-by-tens Bitch it\\'s you I tore out the frame, I win Put up a new high score, beat this game I\\'m in And here\\'s some two-ply for when you date my friends In order to wipe your ass when you moved your bowels When we renewed our vows, this the thanks I get? I\\'m waitin\\' for the day I can Hear you say, \"Marshall, what a skank I\\'ve been And there\\'s a new guy, you\\'re being replaced by him\" Got your tubes tied for him, got that boob job for him Hurts me to my core, but the pain I\\'m in After you, I swore to make the gray skies end Here comes the rays like wind, you get a pay hike and Am I the good guy or do I just play like him And hope that he dumps you? It\\'s like a dream come true, just to scream \"Fuck you!\" Guess you take life in the same way you play dice then \\'Cause you just look at me and roll them little snake eyes in  Since you bought the jury, they\\'ll call me guilty They\\'ll call me guilty You bought the jury, they\\'ll call me guilty Even though you know the real me You can\\'t be the cheater, convincin\\' nonbeliever And I ain\\'t in my feelings, I\\'m out But I let you say that you\\'re the good guy \\'Cause this ain\\'t what love looks like You can\\'t be the cheater, convincin\\' nonbeliever And I ain\\'t in my feelings, I\\'m out But I let you say that you\\'re the good guy They like, \"You\\'re the good guy\" They like, they like, they like, \"You\\'re the good guy\"',\n",
       " 'Greatest': 'Motherfuckers talkin\\' crazy (yeah), sayin\\' I should quit (yeah) I fuckin\\' tell them make me (bitch), eat a fuckin\\' dick (yeah) I\\'m feelin\\' like the greatest (woo), wanna be whoever did it Mike Will the one who made it, it\\'s Shady on the lyrics  I\\'m somewhat outlandish they say You say that we\\'re cut from the same cloth but I guess you fabricate, eh? You better bring more men than the latter day saints Manic states, even padded with automatic stay pray Gat anything that may stay in their way As I stand at the bay window with a hand grenade And a tray eh, at the Mandalay Bay Common sense, I\\'m a dollar short and a day late James Holmes at the Saturday Batman matinee Must have missed my cat-scan that day I just threw a Tampax at Dre Trashcan tasks cam and ashtray I\\'m turning back to a madman can\\'t take anymore But I try to get away from the anger and rage my basic alias is an A to the K Get your ass spayed like bidets breakin\\' your legs ain\\'t givin\\' ways ankle The ways you chumps don\\'t even know how to do somethin\\' to give goosebumps a day when you say That somethin\\' you won\\'t give someone a lump in their throat if you had them choked up you\\'d be yankin\\' my chain Feelin\\' like I\\'m headed for a padded cell the- Bar for me what I rap, is it there? But, guess that\\'s the standard I\\'m held to But if somethin\\' like that doesn\\'t tell you You set a mark too high when platinum sales are looked at as a failure But you better take it back to the shelter and Hamburger Helper \\'cause dammit I\\'m still the...  Greatest in the world, greatest in the world, greatest in the world (No lie) I might be The best to ever do it, the best to ever do it, the best to ever do it I feel like the greatest joker to honkey sounding like me Never be as good, never be as good Packing up wife-beaters, white t-shirts, but what? I\\'m the greatest  So you sold 10 million albums, eh? (What?) Only problem is, you put out 10 million albums, eh? (Haha) Wait, what was I just about to say? Oh yeah, let me get this out the way I know there\\'s people that are pissed about the way I misprounouced a name \"Die antwoord!\" Fuck! I still can\\'t say the shit But how quickly they forget who the fuck I was Now ninja try to duck my slugs to let ya girl get fucked by monks I\\'d like to give a shout to Cypress This can\\'t be real, you dissed me and I was just tryin\\' to give you a shout Now get the fuck out my rhyme book No more shiners, already too much time tokin\\' rappers I hear you talkin\\' shit, I\\'m just too big to respond to it God forbid I forget, go and jump out the window, somebody better child-proof it \\'Cause if I lose it we can rewind to some old Ja Rule shit And I can remind motherfuckers I\\'ll do shit You don\\'t got the tools, I got my toolkit, I bullshit you not Y\\'all fools just forgot that I\\'m so fuckin\\' awful with the thoughts And when I\\'m hostile and impossible to stop So you call it an Austral \\'cause it\\'s not-gonna-ever I\\'ll never let up on the pedal might as well get the mop \\'Cause I\\'m wiping everyone up in this genre \\'Cause on the mic I fee like I\\'m the...  Greatest in the world, greatest in the world, greatest in the world (No lie) I might be The best to ever do it, the best to ever do it, the best to ever do it I feel like the greatest joker to honkey sounding like me Never be as good, never be as good Packing up wife-beaters, white t-shirts, but what? I\\'m the greatest  Oh yeah and one more thing I want to mention Is you\\'re one dimension I\\'m a monkey wrench and I can flunk detention I love contentions so welcome to the gun convention Muscles flexin\\', gotta strut like I flunked suspension And you just stuck the key up in the ignition And gave me enough gas to flood my engine (yeah) Psychopath, Michael\\'s Jack\\'s blowin\\' up like a raft I just slapped ISIS with a ISIS flag, bet you I come back twice as bad (uh) Revival didn\\'t go viral! Denaun and Royce tell me that I should take the high road Fuck that I\\'m finna hip back till I run out of gun powder and split the scene Hold the mic like similar to pistol squeeze And I shoot from the hip when I grip them things And my lips and the clips got the cig lit like it\\'s nicotine drinking, [?] gets mean Bars on these boys when I split them schemes That\\'s why I call the motherfuckers M-16\\'s Float like a butterfly, I\\'ma sting like a bee you ain\\'t harming a thing I get a day hard as I\\'m gonna swing, I\\'m gonna need to put my arm in a sling But like a wedding band you gotta be diamond to even climb in the ring An anomaly, I\\'m Muhammad Ali \\'cause I know one day I\\'m gonna be the  Greatest in the world, greatest in the world, greatest in the world (No lie) I might be The best to ever do it, the best to ever do it, the best to ever do it I feel like the greatest joker to honkey sounding like me Never be as good, never be as good Packing up wife-beaters, white t-shirts, but what? I\\'m the greatest',\n",
       " 'Heat': 'Wanna take it from the top?  Lady, you remind me of my raps on that Relapse shit \\'Cause you got an ass thick as them accents Two asscheek implants, call that an asset \\'Cause you could set a glass on it, it\\'s massive  From the first time I saw you, I actually said to myself \"I gotta meet her\" like a taxi Exactly, love affair in the backseat Sorry if I\\'m being graphic  But I\\'m stiff as a statue, you sat on a shelf I feel like I\\'mma bust, maybe I\\'m just ahead of myself Let me slow down, slow your Camaro I\\'m tryna catch up, I\\'m tryna jump your bones to the marrow  Got me under your control and your spell Wanna wrap you up, put you in a bow like an arrow Grab you by the (meow), hope it\\'s not a problem, in fact About the only thing I agree on with Donald is that  So when I put this palm on your cat Don\\'t snap, it\\'s supposed to get grabbed Why do you think they call it a snatch?  I just wanna climb in the sack I\\'ma keep it a hundred like my speedometer\\'s at I\\'m watchin\\' you rap, I\\'m the dude followin\\' back About six cars, I\\'m in the \\'lac, and I want to (ah)  All day, all day, all night You ask, I stay the night With you, you say you\\'re fire Me too, you\\'re burning up, I\\'m running  All day, all night You feel, my heat (fire) Feel, feel, feel, feel, feel My heat  Hate to inconvenience you at the convenience store But them jeans you wore, like I\\'ve never seen before I pretend I work there while I clean the floor Checkin\\' you out, like the clerk while he rings you up Pull up behind you when you\\'re leavin\\' And you don\\'t even know it (ayo Rick, man)  She\\'s brushin\\' her hair, adjustin\\' her mirror She\\'s rappin\\' my shit, but she wasn\\'t aware I was there, or maybe she was and just didn\\'t care Who knows? At least that ain\\'t up in the air  It\\'s somethin\\' to see So like a chick who thinks her coochie don\\'t stink If she ain\\'t plannin\\' to do shit this summer\\'s eve Maybe she wants to keep me company But fuck the Pepé Le Pew shit  \"Ain\\'t steppin\\' to you, bitch,\" I say to myself Plus she\\'s bumpin\\' my music, ain\\'t chasin\\' no tail Like a skunk in heat, I could sweat her to some degree But fuck it, I\\'m the male, let her come to me (Could you repeat that again?) Let her come to me  Male sweater, heat, some degree, fail Fuck it, pull up beside her Sideswipe her, Dodge Vipe-her, with a so bright a Ass that she wants a computer lodged in her vagina Said my dick is an apple, she said put it inside her I said  All day, all day, all night You ask, I stay the night With you, you say you\\'re fire Me too, you\\'re burning up, I\\'m running  All day, all night You feel, my heat (fire) Feel, feel, feel, feel, feel My heat  Black out, come to, hands covered in blood Motherfuckin\\' gloves and a shovel stuck in the mud I just bodied the beat, so that ho musta been dug \\'Cause it just died like food coloring (duh)  So let\\'s get turnt like a shish kabab Twist it, ma, like an air-conditioning knob We\\'d be great together, don\\'t care if it takes forever If I gotta wait, I guess it\\'s better late than never  You felt my heat rubbin\\' off on ya I love your personality, come on, little mama You\\'re hot enough to melt Rick\\'s beat, come jump in the water I bet you get your self-esteem from your persona  With an ass to match, girl, your body is lit You\\'re striking, I\\'m a gas, girl, you\\'re Just gonna have to put them other chumps on the back burner You got buns, I got Asperger\\'s  Just let me rest my head between that set of D\\'s While I shred MC\\'s like cheddar cheese That\\'s just the thoroughbred in me, ain\\'t a better breed My dog thinks so too, look at my pedigree  Ma, the world is what I think of you I think you\\'re divine, so I might swing on you I\\'m just kiddin\\', girl, I wouldn\\'t lift a finger or two Unless it\\'s the middle one to finger you  All day, all day, all night You ask, I stay the night With you, you say you\\'re fire Me too, you\\'re burning up, I\\'m running  Feel, feel, feel, feel, feel My heat  On the ones and twos, to three or four in the mornin\\' Rick\\'s on the cut like Neosporin (what?) He\\'s mixin\\' it up for me and Lauren A teddy like short for Theodore We\\'re outtie, five thousand Who the fuck? It\\'s my big dick So everybody get ready right fucking now!',\n",
       " 'In Your Head': \"What's in your head, in your head Zombie, zombie, zombie-ie-ie What's in your head, in your head Zombie, zombie, zombie-ie-ie, oh  I'm packin' up my shit, as much shit in the car as I can fit And I'm just drivin' as far as I can get Away from these problems till all of my sorrows I forget What's tomorrow like? 'Cause tonight I'm startin' life again  Get to the corner and stop, fuck am I goin'? Besides psycho when I fantasize startin' my whole life over Yeah right, oh and I might go and Get hypnotized so I don't even recognize no one  I try to look alive because there's nothin' like holdin' Your head up high when you're dead inside and I just hide, so in Case you're wonderin' why my inside's showin' 'Cause I done spilled all my guts and those are mine so I'm  Pickin' 'em up and stuffin' 'em back Fuck it, I've done enough in this rap shit Recovery brought me nothin' but back To where I was and perhaps This coulda been my victory lap if I wasn't on the verge of Relapse  What's in your head, in your head Zombie, zombie, zombie-ie-ie What's in your head, in your head Zombie, zombie, zombie-ie-ie, oh  It seems to be the reoccurring main thing The shit I would daydream as a kid, I was eighteen I went from an irate teenager to still raging Isn't it though amazing, back then I put anything  Into the rhyme, whether it was sad, mad, happy or angry I spit it, the mainstream, I hit it Yay me, I did it! Did what? Hailie, baby, I didn't mean to make you eighty  Percent of what I rapped about Maybe I shoulda did a better job at separating Shady and entertaining from real life But this dang thing is still the hardest thing to explain  It's the craziest shit I Ever seen, and back then it was like I ain't even Bothered taking into consideration You one day being older and may hear me say things I did it, pay me, and be, it just ain't me  Okay, so ladies and gentlemen let's strip away everything And see the main reason that I feel like a lame piece of shit Or should I sound cranky and bitter Complain, beef and bicker 'bout the same things  'Cause when I look at me, I don't see what they see I feel ashamed, greedy And lately I've been contemplating Escaping to get away and go wherever this road takes me It's making me crazy what's in my  What's in your head, in your head Zombie, zombie, zombie-ie-ie What's in your head, in your head Zombie, zombie, zombie-ie-ie, oh\",\n",
       " 'Kamikaze': 'Okay, how do I say this? (fack, fack, fack) Last year didn\\'t work out so well for me (fack, fack, fack) (fack last year) 2018, welp (fack, fack)  Yeah, I\\'m a fucking kamikaze crashing into everything You beat me Islamic Nazi, that means there is no such thing I\\'ve been going for your jugular since Craig G Duck Alert Wedgie in my underwear, the whole bedsheet and the comforter Stuck up in my rectal crack, kiss my disrespectful ass I\\'ll ride through your cul-de-sac Window cracked bumpin\\' your reference tracks You collab on a referent rap, I have never said his raps Overstayed my welcome Stepped in crap and ruined your welcome mat So spit that shit from the heart, you didn\\'t write like you wrote it While I T-bagged the microphone \\'cause I go nuts on it Like a fighter jet lined with explosives that\\'ll strike any moment Headed right at opponents and I\\'m the fucking pilot that flown it I\\'m \\'bout to  Smash into everyone, crash into everything Back and I just begun, \"FACK\" 2017 Fack, fack on everyone Fack, fack on everyone Fack, fack on everyone I\\'m a Kamikaze, gonna Smash into everyone, crash like an F-15 Damage already done, y\\'all shoulda\\' let me be Fack, fack on everyone Fack, fack on everyone Fack, fack on everyone I\\'m a Kamikaze, gonna  I turned on rap \\'cause it made me feel tough when I wasn\\'t From the moment I heard rap was cussin\\', I wasn\\'t Which is why I identify with the guy who I was invented by Dre\\'s Frankenstein, energized like a nine volt Ice cold like Snake Eyes, buy some rope on a dice roll But if the only reason I blow is \\'cause I\\'m white though Why don\\'t every other white rapper sell what I sold? (ooh) Kamikaze pilot, I wrote my suicide note Here come the guys in white coats tryna stop me \\'Fore I jump behind the controls and try to fly into foes \\'Cause I\\'m takin\\' y\\'all with me when I go cyclone I don\\'t think this typhoon\\'s letting up any time soon, here I go Eyes closed, blindfolded, I\\'m \\'bout to  Smash into everyone, crash into everything Back and I just begun, \"FACK\" 2017 Fack, fack on everyone Fack, fack on everyone Fack, fack on everyone I\\'m a Kamikaze, gonna Smash into everyone, crash like an F-15 Damage already done, y\\'all shoulda\\' let me be Fack, fack on everyone Fack, fack on everyone Fack, fack on everyone I\\'m a Kamikaze, gonna  Smash Kamikaze, kamikaze Kamikaze, kamikaze, kami-kamikaze Look at what I\\'ve done  I heard your freestyle on Shade 45, that shit was embarrassing There is no way we ever hear that shit again, I guarantee That way, that shit was so ass, it\\'s something we wouldn\\'t dare re-air it Shit\\'s embarrassing, is me rear ending Terreri Bear In my therapy chair, my dick is the hair length of Cher Each nut is the chair with [?] beware Lyrically I\\'m terrible, better get your lyrics prepared Richard Ramirez is here Serially killing every therapist, is it-  Wait, wait, got the eeriest feeling something evil is lurking I\\'m no conspiracy theorist but something here is afoot Oh yeah, it\\'s my dick Get the measurement stick (what) Twelve inches of wood Wait, but I\\'ve been going for your jugular like Craig G Duck Alert And I\\'ve come to pay respects \\'cause if you sleep, you\\'re fucked Other words, you get laid to rest And I hope your butt is hurt Put me on a track, I go cray on it like a color book You got some views, but you\\'re still below me Mine are higher so when you compare our views, you get overlooked And I don\\'t say the hook unless I wrote the hook And now I\\'m just freestylin\\' in the vocal booth And you know I\\'ve always spoke the truth You lyin\\' through your teeth so much, you broke a tooth And it ain\\'t somethin\\' I need a phone to do When I say I can\\'t wait till I get ahold of you And I don\\'t know what I\\'m s\\'posed to do Line up the rappers, take my pic like a photo shoot',\n",
       " 'Like Home': 'Yeah, shout to everybody Who\\'s been on this trip with me You don\\'t have to agree But if you feel like me  Someone get this Aryan a sheet Time to bury him, so tell him to prepare to get impeached Everybody on your feet This is where terrorism and heroism meet, square off in the street  This chump barely even sleeps All he does is watch Fox News like a parrot and repeats While he looks like a canary with a beak Why you think he banned transgenders from the military with a tweet?  He\\'s tryin\\' to divide us The shit\\'s like a cult, but like Johnny he\\'ll only unite us \\'Cause nothin\\' inside drives us like this fight does Similar to when two cars collide \\'cause  Our spirit\\'s crushed, and this spot\\'s a tight one But here the jaws of life come To pull us from the wreckage that\\'s what we get pride from When we can\\'t wear stars and stripes  \\'Cause this type of pickle we\\'re in is hard to deal But there\\'s always tomorrow still If we start from the scratch like a scab, get the scars to heal And band together for Charlottesville  And for Heather, fallen heroes, fill this wall with murals Nevada get up, hit the damn resetter Let\\'s start from zero, this is our renewal Spray tan, get ride of, get a brand new, better America, and here\\'s to where we\\'re from  And here\\'s to where we all began, all began (stand up) Here\\'s to the land that made me And made me who I am, who I am (hands up) Here\\'s to the land that raised me This one\\'s for the only place that really knows me From the cracks in the road that drove me There\\'s no place like home  Didn\\'t wanna piss your base off, did ya? Can\\'t denounce the Klan, \\'cause they play golf with ya You stay on Twitter, way to get your hate off Nazi I do not see a way y\\'all differ  And all you got are race cards, bigot The swastika with your name carved in it Should be your trademark, \\'cause hate\\'s all you played off And you just lick the plate off So I guess it pays to feed off of chaos So basically, you ate off Hitler  But you ain\\'t ruinin\\' our country, punk Or takin\\' our pride from us, you won\\'t define us \\'Cause like a dictionary, things are lookin\\' up So much, got a sprained neck, know we would rise up  Against this train wreck and take a stand Even if it means sittin\\' when they raise the flag To sing \"The Star-Spangled Banner\", this man Just praised a statue of General Lee \\'cause he generally  Hates the black people, degrades Hispanics Take it back to the Shady national convention Wish I woulda spit on it before I went To shake his hand at the event  Or maybe had the wherewithal To know that he was gonna try to tear apart Our sacred land we cherish and stand for So, hands in the air, let\\'s hear it for The start of a brand new America Without him and be proud of where we\\'re from And here\\'s to where we\\'re from  And here\\'s to where we all began, all began (stand up) Here\\'s to the land that made me And made me who I am, who I am (hands up) Here\\'s to the land that raised me This one for the only place that really knows me From the cracks in the road that drove me There\\'s no place like home  I won\\'t give up I won\\'t give up on my home, that so many died for You already know that I won\\'t give up I won\\'t give up on my home, that so many died for You already know There\\'s no place like home, no place like home Wherever I go, no place like home No place like home, no place like home Wherever I go  Here\\'s to where we all began, all began (stand up) Here\\'s to the land that made me And made me who I am, who I am (hands up) Here\\'s to the land that raised me This one for the only place that really knows me From the cracks in the road that drove me There\\'s no place like home',\n",
       " 'Lucky You (feat. Joyner Lucas)': 'Whoa, Joyner, Joyner, yeah, yeah, yeah Yeah, I done did a lot of things in my day, I admit it I don\\'t take back what I say, if I said it then I meant it All my life I want a Grammy but I\\'ll prolly never get it I ain\\'t never had no trophy or no motherfuckin\\' ribbon Fuck the system, I\\'m that nigga, bend the law, cut the rules I\\'m about to risk it all, I ain\\'t got too much to lose Y\\'all been eatin\\' long enough, it\\'s my turn to cut the food Pass the plate! Where my drink? This my day, lucky you Fuck you too, woo!  Y\\'all gotta move, y\\'all gotta move, y\\'all gotta move Give me some room, give me some room, give me the juice Hop out the coupe, hop out the coupe, hop out and shoot Y\\'all gotta move, y\\'all gotta move, give me the juice  Back on my bullshit, my back to the wall Turn my back on you, all of you finished Back to these bullets, it\\'s back to the job Pull my MAC out and all of you runnin\\' Back on my hood shit, it\\'s back to the pushin\\' These packs and I\\'m actually pumpin\\' Can\\'t fuck with you rappers, you practically suckin\\' You mighta went platinum, but that don\\'t mean nothin\\' I\\'m actually buzzin\\' this time Straight out the kitchen, I told \\'em the oven is mine I do not fuck with you guys If I don\\'t kill you, just know you gon\\' suffer this time I ain\\'t no gangster but I got some bangers Some chains and some blades and a couple of knives Choppers and jammies, a partridge, a pear tree My twelve days of Christmas was nothin\\' but lies I run at you hard like a sumo (sumo) They say I talk like a chulo (chulo) I live in Mars, I\\'m not Bruno (woo) Bitch I\\'m a dog, call me Cujo (rah) You play your cards, I reverse on you all And I might just drop all like a Uno (bup) Cállate boca mejor, maricón, little puto, and all of you culo They\\'ve invented a level off in the ghetto to ghetto Lookin\\' for somethin\\' I prolly can never find now Shit get relevant until the beef die down In truth a nigga just really want me tied down I\\'ve been alone and I never needed nobody Just only me and my shawty, I\\'ll tell these niggas to lie down Keep all of the money, I never wanted the lifestyle I just pray to God that my son\\'ll be alright now I said ain\\'t no love for the other side Or anyone who ever want smoke (Joyner) When I die, I\\'m goin\\' out as the underdog who never lost hope You in the wrong cab down the wrong path Nigga, wrong way, wrong road Snakes in the grass tryna slither fast I just bought a fuckin\\' lawn mower  I have said a lotta things in my day, I admit it This is payback in a way, I regret it that I did it I done won a couple Grammys but I sold my soul to get \\'em Wasn\\'t in it for the trophies, just the fuckin\\' recognition Fuck\\'s the difference? I\\'m that cracker, bend the law, fuck the rules Man I used to risk it all, now I got too much to lose I been eatin\\' long enough, man my stomach should be full I just ate, lick the plate, my buffet, lucky me Fuck you think? (woo!)  I got a couple of mansions Still I don\\'t have any manners You got a couple of ghost writers But to these kids it don\\'t actually matter They\\'re askin\\' me, \"What the fuck happened to hip-hop?\" I said, \"I don\\'t have any answers.\" \\'Cause I took an L when I dropped my last album It hurt me like hell but I\\'m back on these rappers And actually comin\\' from humble beginnings I\\'m somewhat uncomfortable winning I wish I could say \"What a wonderful feeling!\" We\\'re on the upswing like we\\'re punchin\\' the ceiling But nothin\\' is sealing, like anyone has any fuckin\\' ability To even stick to a subject, it\\'s killin\\' me The inability to pin humility Hatata batata, why don\\'t we make a bunch of fuckin\\' Songs about nothin\\' and mumble! And fuck it, I\\'m goin\\' for the jugular Shit is a circus, you clowns that are comin\\' up Don\\'t give an ounce of a motherfuck About the ones that were here before you to make raps, it\\'s recap Way back, MC\\'s that wreak havoc on tape decks ADAT\\'s with the G raps and Kane\\'s hat We need 3 stacks ASAP, and bring Masta Ace back Because half of these rappers have brain damage All the lean rappin\\', face tats, syruped out like tree sap I don\\'t hate trap, and I don\\'t wanna seem mad But in fact with a old-me at the same cat That would take that feedback and aim back, I need that But I think it\\'s inevitable They know a button to press or a lever to pull They give me the snap though (bitch) And if I payin\\' attention I\\'m probably makin\\' it bigger But you\\'ve been takin\\' the dicks in the fuckin\\' back, ho (get it?) On the brink in a minute Got me thinkin\\' of finishin\\' everything With acetaminophen then reapin\\' the benefits I\\'m asleep at the wheel again As I peak into thinkin\\' about an evil intent Of another beat I\\'ma kill again \\'Cause even if I gotta end up eating a pill again Even ketamine or methamphetamine with the minithin It better be at least 70 to 300 milligram And I might as well \\'cause I\\'ma end up bein\\' a villain again Levels to this shit, I got an elevator You could never say to me I\\'m not a fuckin\\' record breaker I sound like a broken record every time I break a record Nobody could ever take away the legacy, I made a navigator Motherfucker know I got a right to be this way I got spite inside my DNA But I wrote till the wheels fall off, I\\'m workin\\' tirelessly, ay It\\'s the moment y\\'all been waitin\\' for Like California wishin\\' rain would pour And that drought y\\'all have been prayin\\' for My downfall from the 8 Mile to the Southpaws Still the same Marshall that outlaw That they say is a rider mighta fell off But back on that bull like the cowboys  So y\\'all gotta move (yeah), y\\'all gotta move (yeah), y\\'all gotta move Give me some room, give me some room, give me the juice Hop out the coupe, hop out the coupe, hop out and shoot Y\\'all gotta move, y\\'all gotta move, give me the juice',\n",
       " 'Need Me': 'You\\'re drunk, the carpet is burned I hate to find you like this I always find you like this I come home and clean up your mess What would you do without that? Why do I always come back? Oh, what I wouldn\\'t do for you  And I\\'m startin\\' to think that maybe you need me Maybe you need me Maybe you need me And I\\'m startin\\' to think that maybe you need me Maybe you need me Maybe you need me  Some nights I want to run for the hills It\\'s never easy with you I cannot reason with you But your smile is as rare as it comes What would I do without that? Maybe that\\'s why I come back Oh, what I wouldn\\'t do for you  And I\\'m startin\\' to think that maybe you need me Maybe you need me Maybe you need me And I\\'m startin\\' to think that maybe you need me Maybe you need me Maybe you need me  Startin\\' to think we were made for each other But one of us in this relationship is raisin\\' the other You remind me of my mother We drive one another crazy as each other And we\\'re both adults so there\\'s no excuse For the games that we play with each other Where you at? At a friend\\'s? No, you ain\\'t, motherfucker  But I give her the benefit of the doubt Whenever the doubt kicks in, shiver when I touch her \\'Cause I love her so much, I\\'m a sucker Our bottom lip can quiver when she\\'s in trouble She\\'s in hot water, think I caught her cheatin\\' again Give her another chance? Another one after that? I\\'m swimmin\\' in that Egyptian river, \\'cause I\\'m in denial Say I don\\'t eat shit, but I got a shit-eatin\\' grin when I smile Makin\\' an excuse for us to act it out She\\'s just actin\\' out, with her inner child  Then I set the truth on fire \\'Cause I\\'d rather believe a lie Than to breathe a sigh of relieve I don\\'t believe in Going to bed mad, I keep on tryin\\' To make a bad girl good But haven\\'t I stood by you in good times? And bad? I\\'m startin\\' to feel like your goddamn dad \\'Cause I literally feel like you could die of a \"should I Leave you for good?\"-so never would I It\\'d be all bad, never understood why they call it goodbye But I think I\\'m a pretty damn good guy And you\\'re a good person too I can save you, I can make you change But I keep puttin\\' my fuckin\\' foot in my mouth  Every time I gotta come and bail you out When you get in trouble that you get yourself in And I\\'m in trouble but I can\\'t leave, I\\'ll sell you out I could never turn my fuckin\\' back on you, what is that? I\\'m co-dependent, I\\'m just now noticin\\' it But somehow it\\'s like every time I\\'m about to go to end it  I ain\\'t got the cojones to do it, nor the heart Our apartment\\'s tore apart You\\'re usin\\' my heart for a dartboard But God must\\'ve aligned stars for us \\'Cause somebody paired us up And they say He ain\\'t capable of makin\\' a mistake But this one\\'s perfect  \\'Cause I\\'m startin\\' to think that maybe you need me Maybe you need me Maybe you need me And I\\'m startin\\' to think that maybe you need me Maybe you need me Maybe you need me',\n",
       " 'Nice Guy (with Jessie Reyez)': 'You\\'re such a nice guy, a nice guy You\\'re faithful, you don\\'t lie After the club, you go back home, right? Right?! Sike!  Suck my dick, you fuckin\\' suck, man Suck my dick, you fuckin\\' suck, man I hope that your heart get hit by a semi-truck Suck my dick, you fuckin\\' suck, man  I hop in your whip and take a sip, then I gun it I don\\'t, I don\\'t got much self-control, I hope that you run it I\\'m bipolar with the switch up just as quick like you cummin\\' I don\\'t, I don\\'t got much self-control, I hope that you run it  I\\'m not a cheater, but if I\\'ma be accused, might as well be You tell me you\\'ll take me back when hell freezes, but females be Rushin\\' me outside my telly, temptation overwhelms me Like my monthly bill from Sprint, they chargin\\' me for a selfie Chargin\\' me, so I gave my hotel key Eh, I was tryna be nice  You\\'re such a nice guy, a nice guy You\\'re faithful, you don\\'t lie After the club, you go back home, right? Right?! Sike!  Suck my dick, you fuckin\\' suck, bitch Suck my dick, you fuckin\\' suck, man I hope that your heart get hit by a semi-truck Suck my dick, you fuckin\\' suck, bitch  I play your music while you suffer like I\\'m Carmichael Polar You tied up in the basement while I chill on your sofa La próxima yo sé que mejor me quedo sola Estas de buenas que yo ya vendí mi pistola  I\\'m an emotional wreck, weak (uh-huh) Everything over-affects me (yeah) When you joke it upsets me (yeah) You say I\\'m no good at sex And you think I\\'m gross and unsexy (uh-huh) I need Scope \\'cause my breath stinks (yep) You hope I choke on a Pepsi (yep) Bitch, you was supposed to correct me! (oh) Been textin\\' you since three, I still get no fucking reply You say you sleep alone, but yet your mattress is king size Fuck you goin\\' in those knee-high boots? Cut it out, bitch I doubt that you\\'re goin\\' to house sit In that outfit, no skin-tight Levi\\'s Every word that comes out your mouth\\'s a fucking lie Oh, it\\'s spring time, time for you to have a fling like a slingshot You say \"don\\'t come over\" \\'cause you got pink eye But I think I got just the thing, why Don\\'t I bring my fuckin\\' bat and just swing by?',\n",
       " 'Normal': \"Yo, how do I keep (Man, I don't know what's up with these hoes, man) Getting in relationships like this? (I'm just sayin') Maybe it says something about me (Yeah, yup) Should I look in the mirror?  I just want you to be normal Why can't you bitches be normal? Always gotta be so extra Why you always need a lecture? My ex hates to talk, she's a texter Even when I'm in bed layin' right next to her Wants to get back together Said not till she gets her act together  She thinks I'm bein' mean and now She starts to scream and shout She's about to let the demons out She don't want to see me with other females out I tell the bitch to beat it, take the scenic route She retaliates by tryin' to leave the house In an evening gown with her cleavage out We've been down this road too many times for me to count And all I can think is how-  I just want you to be normal Why can't you bitches be normal? Always gotta be so extra Like a fuckin' terrestrial Guess it comes with the territory My ex girl, she just declared war Therefore, I better prepare for it I guess bein' weird's normal  And I don't know what's got a hold of me Most notably I've been zonin' to Jodeci I'm totally open, hopelessly devoted So much so that I bet you she don't know that she's The first thing I think of when I wake up And the last thing I think of 'fore I go to sleep Sike, hope she don't notice me goin' through her purse I know she cheats, so do I, I'm soulless, she's heartless No wonder we're partners Both got hundreds of charges Domestic disputes but we've always Swept it under the carpet Even when 911 gets the call that I slipped up and busted her jaw with A Louisville Slugger 'cause all's it Really does is make our love For each other grow stronger She won me over the second she tried to run me over Told her I'd keep it a hun' We over; kicked her out, called her back, now she's coming over But why is she so wicked? And how the fuck did I get so twisted? I'm with someone so unlikeable and shifty We're like nitrogen and hydrogen mixed with Ignitable liquids, but I'm finally seeing She's only mine for the time being That's why I keep bringin' up that one time she Tried to two-time me And throw it up in her face till I dry heave How could I be so naive? Should I leave or turn this entire evening Into a motherfucking crime scene?  Maybe I'm just too ugly to compete with him You weren't supposed to agree, you fucking bitch! Especially when you're the one cheated first Now the argument immediately becomes heated You don't want me to flip, little conceded cunt Eat a monkey dick wrapped in a stuffed pita fajita Slut, treat it just like a drum, beat it Complete it, and once you've succeeded, repeat it! I love you but I hope you fuckin' die though In our business your friends like to pry so You've got 'em all under cover just like moles Hopin' they'll come back with intel But I'm the one who's thrown into the spiral 'Cause now the roles are reversed so here I go Thinkin' I'm sly as I scroll through your iPhone Who the fuck's Milo? The guy at work who drives a hi-lo I put a tracking device on your Chrysler And follow you while you drive home But like a cyclone, I just got my disguise blown You recognize me and had Milo flip me off Right out the passenger side window I hit a light pole, you skrt off And then pull up at 5am in the drive in a stretched white limo Stumble in the side door and hit me head with Milo's demo But like a drunk bum, what do I know? Let's sleep on it like they did Revival I told you you're the apple of my eye so shut your pie hole  Just wanna be normal Why can't you be normal? (yeah) I just wanna be normal Why can't you be normal?\",\n",
       " \"Not Alike (feat. Royce Da 5'9)\": \"Tay Keith, fuck these niggas up Yeah  Brain dead, eye drops Pain meds, cyclops They bed, iPod Maybach, my bach Trainwrecks, sidewalks Pay less, high-tops K-Fed, iHop Playtex, ice spots That's how much we have in common (yeah!) That's how much we have in common (whoa!) Up on this mic, we were on it That's how much we have in common (yeah!) That's how much we have in common (woo!) That's how much we have in common We are not alike, there's not alike us on the mic (yeah!)  I don't do Jordans and Audemars I do explosions and Molotovs Y'all blowing smoke as if y'all ain't washed I blow the smoke from the car exhaust Flying to a party I am not invited to, feeling like the streets need me (whoa) I ain't gotta dance as long as my Ferrari Spyder move, like C Breezy I don't gotta hire goons, I'd rather try to buy the moon, and breathe freely The sky is blue, the tie is new, the Masarati white and cool like G-Eazy While these dudes tryna figure out how to do a freestyle as fly as me I'm confused trying to figure out how to do Capri styles, am I a G? Everybody doing chick joints, probably rob these little dudes at fist point Remember everybody used to bite Nickel, now everybody doing Bitcoin We don't got nothing in common (no) We don't got nothing in common (no) Y'all in the stuff like doubled-up Styrofoam cups on them uppers-and-downers (woo!) I'm into stuff like doubling commas Find me a brother who's solid To count the shit up, then bust the shit down When the cops set us up, we can flush the shit down We can no give a fuck, shit, a fucking Kehlani Selling your cock and your butt for a follower Possible cup, for dollars you powder sniff Now you're slipping, call it a power trip A product of politics Y'all went from profit and topping the charts To dropped in the park in a pile of shit Knowledge is power, but powerless if you got it and you do not acknowledge it Y'all music sound like Dr. Seuss inspired it Hiring strippers, prostitutes retiring We can spit it for ya it vans I'm fit to be king, you're cut out to fit in prince pants You niggas  Brain dead, eye drops Pain meds, cyclops They bed, iPod Maybach, my bach Trainwrecks, sidewalks Payless, high-tops K-Fed, iHop Playtex, ice spots That's how much we have in common (yeah!) That's how much we have in common (whoa!) Up on this mic, we we're on it That's how much we have in common (yeah!) That's how much we have in common (woo!) That's how much we have in common We are not alike, there's not alike us on the mic (yeah!)  You say you're affiliated with murderers, killers (ay) The people you run with are fucking (gang) But you're just a wanna be gunner (gang) Like you was gonna do something Acting like you catching bodies (ay) And you got juice, lil youngin', you're bugging You ain't never even been charged in connection with battery, bitch, you ain't plugged in nothing Rap god spit lyrical bullets (boom) And gats cock, your partners better tool up This has not to do with muscular But have guns for sure, you better put up Strap on, in other words if you're a gunner Roll up with your (gang) You're gon' need a arsenal 'Cause this bar is over your head So you better have arms if you're gonna pull up (skrt) Oh, you run the streets, huh? Now you wanna come and fuck with me, huh? This little cock-sucker, he must be feeling himself He wants to keep up It's tough to me now, so he does a feature Decides to team up with Nina But next time you don't gotta use Tech N9ne if you wanna come at me with a sub-machine gun And I'm talking to you but you already know who the fuck you are, Kelly I don't use sublims and sure as fuck don't sneak-diss But keep commenting on my daughter Hailie I keep on telling motherfucker, bitches, in case you forgot Really I need jaw memories, jaw like strawberry or pineapple, apricot jelly I respond, really, but this time Shady 'bout to sound off like a fucking cocked semi Glock Demi god, let me put a silencer on this little non-threatening blond fairy, cornball taking shots at me You're not ready, fool, break yourself like Rocksteady Crew Obviously, I'm not getting through We can get it poppin' like Redenbach, letting off like Remy Ma Heavy artillery, gotta deal a harsh with a hard shell Put a motherfucking heart in bigger than Bizarre's belly Only time you'll ever say, I lost You'll be talking 'bout Fetty Wap, better call Diddy Just to try to get me off and you better hope I don't call Trick Trick Bitch, this shit don't fly in our city Punk, you don't disrespect OG's, R.I.P. Prodigy Soldier in my soul and I told them the moment he signed me that I'll be the most hated, dumb-hated soldier There's no shame, it's okay to own it 'cause life is a bitch, it's a bow-legged hoe But now days are over, I Harvey Weinstein, a bathrobe hanging over My code name is groper, I roleplay with lotion I fucked the whole world then I throw away the Trojan Olay the hoes like with home-made explosives, I blow eighty holes in you Don't make me go in, I OJ the flows and I'm insult to injury Roll dice to globe in and I'm (??) tryna throw in (?) They both hate to choke and my hoe play the (?) And I double-edge sworded 'cause one place I poke and I stick and I turn and I rotating motion Invisible with the pen, I'm at the pinnacle of sick individuals, take my dick and put the tip in At minimal, I'm fucking these syllables I let them lick on my genitals I'm a fucking invisible, indefensible, despicable difficult prick, a little bit unpredictable I spit the formiddable, that you're bitches are fucking with the original I can say that me and Nickel are identical But not us, the only thing we have in common is I'm a dick and you suck Otherwise one has nothin' to do with the other None comes close to Skunk, bug, solider Tongue, shrub, shoulder One mother older Sponge, mob, colder None, rug, hoaster Lug, nut, coaster Lung, jug roaster Young Thug poster Unplugged toaster  That's how much we have in common (yeah!) That's how much we have in common (whoa!) Up on this mic, we were on it (yeah) That's how much we have in common (yeah!) That's how much we have in common (woo!) That's how much we have in common We are not alike, there's not alike us on the mic (Man, fuck this shit; let's go)\",\n",
       " 'Nowhere Fast': \"Ashes blowing in the air The world's on fire, but we don't care, yeah Wasted youth, always on the road Never lookin' back and we're never getting old 'Cause the skies are black, but our heart's made of gold Fuck doin' what you're told We're goin' nowhere fast  I feel sorry for this beat, sympathy pains for this track This road is takin' me back down memory lane with this rap I can still look out in this crowd, be wowed and be taken aback I'm simply stating a fact, I had Wembley Stadium packed  But now we're on a path headed to nowhere and fast Another terrorist attacks Like a tariff, blows half of Madison Square up, alas We perish in the blast But that isn't scaring us, we pass nowhere we're fearless 'Cause we're just  Ashes blowing in the air Our world's on fire, but we don't care, yeah (We don't give a... no, no) Wasted youth, always on the road Never lookin' back and we're never getting old 'Cause the skies are black But our heart's made of gold (golden) Fuck doin' what you're told (what we're told) We're goin' nowhere fast  'Cause we're goin' no, goin' no Goin' no, goin' no Goin' no, goin' nowhere We're on the run of our lives Goin' nowhere fast  Fuck doin' what you're told, act like a two-year old Shit is soon to go kaboom and blow Anyways; for MC's it's a funeral When I'm devisin' this rhyme 'Cause I'm awake and you're mourning That's why I rise and I shine Like a new day has dawned on me  Gusto, guts, bravado Nuts and plus I kick up dust and cuss a lot I musta got you in somewhat of a debacle 'Cause some stuff that's awful Really don't mean nothin' although There's a lot of shit I said in jest that's tough to swallow  But if at times my heart it seems Like it's in the wrong place It's probably 'cause it's on my sleeve Keanu Reeves speed of life, avoid or veer Or just steer toward it, we're only lookin' forward But where we're goin', we have no idea  Nowhere to go, but hysterical, it's gettin' warm in here I set the world on fire, was born to be an arsonist Just one spark and it's lit But I'mma still get dark on this shit Told you I'd leave my mark on this bitch-war machine  But you forced me in a corner I'm sure to have somethin' for your rear And in the course of the assault as torture gets more severe Go to war with me, you'll end up blew to Timbuktu I send at you a ten-ton nuke like Kim Jong-Un And end up ruinin' your career  But when all is said and done And at the end of my run I'll just rewind clocks, forever young Make time stop, will I ever fall off? That day will never come Till the pine box, bitch, fuck you! I'm better than I ever was Till the bomb drops, hope it never does But I'm not gonna sweat it 'cause This world's screwed, it's already fucked And I'm on top, so everyone's just  Ashes blowing in the air (so we're...) Our world's on fire, but we don't care, yeah (We don't give a... no, no) Wasted youth, always on the road Never lookin' back and we're never getting old 'Cause the skies are black But our heart's made of gold (golden) Fuck doin' what you're told (what we're told) We're goin' nowhere fast  'Cause we're goin' no, goin' no Goin' no, goin' no Goin' no, goin' nowhere We're on the run of our lives Goin' nowhere fast  You can't tell us nothin' Hard-headed and we're stubborn So, one ear and out the other when we're young, we're young (We're on the run of our lives) Who knows what the future for us could hold Another shooter? Uh oh (We're on the run of our lives) No more tomorrows, we're done And all we are is-  Ashes blowing in the air (so we're...) Our world's on fire, but we don't care (don't care, yeah) (We don't give a... no, no) Wasted youth, always on the road Never lookin' back and we're never getting old 'Cause the skies are black But our heart's made of gold (golden) Fuck doin' what you're told (what we're told) We're goin' nowhere fast  (Post-Chorus: Kehlani) 'Cause we're goin' no, goin' no Goin' no, goin' no Goin' no, goin' nowhere We're on the run of our lives Goin' nowhere fast\",\n",
       " 'Offended': 'You claim if you get knocked by the cops You\\'ll give \\'em not even a statement Walk in the arraignment Shoot the bailiff, karate kick the plaintiff  Gotti with the stainless I\\'ll just call it shoddy entertainment If y\\'all was in the party gettin\\' faded On molly, had the audience sedated  You wouldn\\'t catch a body if it fainted Probably let it fall and hit the pavement But you\\'d be the first lobbyin\\' to claim it Bitch, stop bein\\' a lame  Your hobby isn\\'t robbery and dismemberin\\' body limbs Like you was Tommy Lynn Sells And chainsawin\\' them in the basement Hardly fits your job description Ain\\'t nobody dippin\\' out the back of the club Like, \"Oh my God, he\\'s trippin\\'!\" Only time you get the blade is probably with the dang lawn equipment, ain\\'t it? Wouldn\\'t take a bobby pin and wave it  I need to stop bein\\' debated You\\'re still copyin\\', Xeroxing, I\\'m still copping a feel Like Bill Cosby at will, popping a pill Then spill Oxys in Jill\\'s coffee Then send her out to the hotel lobby a lil\\' wobbly and still groggy  This blonde fuck\\'s reprehensible Misconducts, never sensible Kiss my butt, my set of principles Is gone, but till I get the President to respond My pen and pencil is a missile launcher And send it to Mitch McConnell Just as big of a bitch as Donald-shit\\'s on, bruh  Let me sing this shit soprano While I do it pizzicato Ivanka, stiff arm her while I\\'m hittin\\' on Melania And this song\\'s for all ya  \\'Cause nobody likes me, everybody hates me They want me to go eat some worms (I hope you offended) And drag my name through the mud, through the dirt But I\\'ma make you eat your words (I hope you offended) You can try to hold me down, but you better let me up \\'Cause you\\'re only gonna make things worse (I hope you offended) \\'Cause I swear when I get up, I\\'m never gonna let up Till everybody eats my turds  These drums and hard snares bring out the worst in me Like Justin Ross Harris at a nursery Goin\\' ham at candy yam on nanny cam I\\'m gettin\\' handys with the zanny Xannys in the Caddy armrest I\\'m imagining objects, so I\\'m batting cobwebs From a daddy longleg  And Hamtramck, got the panoramic camera Xanax, a banana hammock and a Santa hat I\\'m smellin\\' like a damn mechanic With a chick that looks like Janet Jackson with a Spanish accent Twice your age and I\\'m actin\\' half it  Grow up? Nah, not that I know of, y\\'all Basement just got a frickin\\' overhaul Got a stripper pole installed Started rollin\\' all through those Kolonopins like a bowlin\\' ball Like an overdose on twice the ratio of Propofol And go through no withdrawal While I get fellatio and give a facial to An interracial blow-up doll of Rachel Dolezal  You\\'re so appalled (\"Em...\"), so\\'s my manager Bitch, I\\'m amateur, fuck a pro career Coast is clear, but nowhere to go from here And nobody\\'s close, so don\\'t compare They ain\\'t nowhere near, I\\'m way over here My competition can\\'t see me \\'Cause I don\\'t own a mirror  But Marshall, you are terrific, so smart and gifted I\\'m so narcissistic, when I fart I sniff it Do a fake dab to smell my armpits with it Your anxiety\\'s throwin\\' gang signs But I made strides with these rape lines I\\'m cuttin\\' back on women hate crimes Like Ray Rice when he FaceTimes  Bang, bang, bang, bang time Dang knives\\'ll butcher them gay wives You\\'re gonna need sutures the same size As the blade I push into caput\\'cha When I pull \\'em like  Sleigh rides Gotta stab a bitch at least eight times to make it on Dateline I came to stake my claim like a canine waitin\\' in a buffet line So, Kellyanne Conway, I\\'m a really bad hombre Come play, belly dance on me I\\'ve been making wedding plans all day  \\'Cause nobody likes me, everybody hates me They want me to go eat some worms (I hope you offended) And drag my name through the mud, through the dirt But I\\'ma make you eat your words (I hope you offended) You can try to hold me down, but you better let me up \\'Cause you\\'re only gonna make things worse (I hope you offended) \\'Cause I swear when I get up, I\\'m never gonna let up Till everybody eats my turds  Eight year old with the wordplay Girl, take this pole like a survey Today wasn\\'t my birthday But I\\'m caked up like a dessert tray So we\\'re in shape, \\'cause you\\'re in a slurrin\\' state I\\'m a ten, you\\'re an eight Like what I do before, after and during rape  You wanna get into a pissin\\' contest and find out who\\'s better? And they made a fool out of what I pulled out him R. Kelly with a full bladder Non-high school grad, I\\'m not a scholar But I\\'m so cold when I\\'m droppin\\' knowledge My degrees is the same as I got in college (zero) But nobody\\'s hotter, you owe me my respect  I owe you nada like lodi partner that blow me Told you I\\'m so dirty, homie, you can throw me in some holy water With some floaties on and get the soap And try to get the Pope to hold me while you hose me off And nope, I won\\'t be washed You hope to God I don\\'t explode I gotta blow this spot up though, I got a lotta mo\\' I won\\'t put the sugar coating on it though  \\'Cause sometimes you can feel like your energy\\'s expired Rap\\'s got you drained, dead tired, zapped You feel like a wet pile of crap But look, man, like the feds buggin\\' my phone Uh huh, I get why you\\'re tapped But you gotta get your fire back Catch fire, get upset and fire back  Is what I tell myself when times get bad \\'Cause sometimes I might get sad Well, I take the same advice I had And tell myself like I used to tell Hailie when life\\'s a drag Told her to do like her dad: don\\'t cry, get mad \\'Cause little baby powders belong in diaper bags I\\'m hyper, by the time you see this side of me I\\'m right in your ass (sodomy)  \\'Fore the pen, I stood up for the kid Who had to put up with the bullies at his school (at his school) You ain\\'t have to have no money Or go shoppin\\' just to cop a fuckin\\' attitude Now my dough\\'s amountin\\' to a mountain It\\'s rised too high to count it Never asked to be rich, all I did was wish I had a dime for every time that I was doubted  But then I think about it then I\\'m enraged \\'Cause I just figured out that if I was paid For the time I spent to put the pen to the page It\\'d be minimum wage  But it\\'s embedded in my head I never hunted for the bread and butter What I wanted was to be the one that they was scared of but I\\'m never gonna get the credit for the sweat and blood I put up in the pen, and when I\\'m dead I wonder Will they put me on a pedestal Or forget I was ever this incredible I guess I better go harder than ever \\'Cause I\\'ll never get another motherfuckin\\' opportunity again To offend as many people with this I can, simply because I can  \\'Cause nobody likes me, everybody hates me They want me to go eat some worms (I hope you offended) And drag my name through the mud, through the dirt But I\\'ma make you eat your words (I hope you offended) You can try to hold me down, but you better let me up \\'Cause you\\'re only gonna make things worse (I hope you offended) \\'Cause I swear when I get up, I\\'m never gonna let up Till everybody eats my turds',\n",
       " 'Remind Me': 'Yo I bust in, devilish grin, disgustin\\' Asshole, freckled cheeks and a butt chin Calling all party animals Get on the floor when I pop up on some Whac-A-Mole shit  In search of a chick who stacked them so thick And implants are so big She can hang me up on that rack, big ol\\' tits Like Anna Nicole Smith Body\\'s bananas and sass to go wit\\'  I spot you at first glance and go \"Shit!\" You wearin\\' those pants that don\\'t fit That butt won\\'t ever give up That\\'s why you stick it out no matter what \\'Cause you got an ass that won\\'t quit  So, get on the horn, my saxophone Grab hold of my instrument, get a grasp, and blow You just laugh and go, \"heehee\" \\'Cause you\\'re just as nasty so that\\'s appropriate That\\'s why  I love you, \\'cause you remind me of me That\\'s why I love you, \\'cause you\\'re like me (yeah, me) I said I love you, \\'cause you remind me of me That\\'s why I love you, \\'cause you\\'re like me, nasty (yeah, me)  You know, I\\'m wearin\\' a new shirt tonight too, yo With me on it  I\\'m lookin\\' at your tight rear like a sightseer Your booty is heavy duty like diarrhea The plan\\'s to bring you to my house You\\'re drinkin\\' Jack and Beam I\\'m thinkin\\' soon as trampolines so we should bounce  But you\\'re out of your tube-top If you\\'re thinkin\\' that mi casa es su casa Yeah, you\\'re a cute fox Perfect ten so back that up like a moonwalk Girl, you\\'re smokin\\' like Snoop Dogg  But you must be tokin\\' if you think you\\'re takin\\' over my quarters There goes the dime into the jukebox Two shots of blue Hpnotiq and soon I\\'ll Turn this pool hall to a barroom brawl So, Rick, scratch on the break like the cue ball Turn the volume all the way up on your boombox  And excuse the locker room talk, I\\'m just too raw But apparently, so are you, ma \\'Cause you just kicked me in the balls and told me to screw off And that\\'s why  I love you, \\'cause you remind me of me That\\'s why I love you, \\'cause you\\'re like me (yeah, me) I said I love you, \\'cause you remind me of me That\\'s why I love you, \\'cause you\\'re like me, nasty (yeah, me)  Said can I take you home, where we can be alone? Shorty, you the shit Girl, I ordered you to sit I know you\\'re probably feelin\\' me more than you admit Pull up a chair, sweetie, let me order you a drink I only go to meetings court-ordered from a shrink  So from the bottom to the top, floor to ceiling You ain\\'t run of the mill, you\\'re one in a million \\'Cause real tits are still fun But everybody knows fake tits are still better than real ones  So come and spend the night with the guy most are terrified of But tonight, curiosity overrides ya Besides you\\'re fire (I love) like a starter pistol Crystal and slides huns, tonight I\\'m your pilot  \\'Cause you should be up in the sky, girl You\\'re so fucking fly, you belong in the mile high club So come on, baby, the night\\'s young Don\\'t string me along, I\\'m high-strung  We might wind it up, unbound like we\\'re trying for the Cy Young Fuckin\\' \\'fore we get to the house, screwin\\' our brains out Like changing a lightbulb That\\'s why I like ya, \\'cause I\\'m crazy just like ya  Now every time I get brain, you screw mine up I barely can think straight, your head game is a mindfuck So ready, set, aim and fire Yes, babe, I\\'m fallin\\' in likeness kinda, why  I love you, \\'cause you remind me of me That\\'s why I love you, \\'cause you\\'re like me (yeah me) I said I love you, \\'cause you remind me of me That\\'s why I love you, \\'cause you\\'re like me, nasty (yeah, me)',\n",
       " 'Remind Me (Intro)': \"Damn girl You drive me crazy You may be crazy too You make me do things I normally wouldn't do  You make me feel things That I never felt You gotta be the real thing 'Cause you remind me of myself\",\n",
       " 'Revival (Interlude)': \"I've drowned in high from the ashes Now I can't recall your laughter The smoke of everything go grasp At ends of what's left over  And the lights in every broken Blown-out window screaming, laughing I hope to feel it coursing out This is our revival\",\n",
       " 'River': 'I\\'ve been a liar, been a thief Been a lover, been a cheat All my sins need holy water Feel it washing over me  Oh, little one, I don\\'t want to admit to something If all it\\'s gonna cause is pain Truth in my lies right now are falling like the rain So let the river run  He\\'s coming home with his neck scratched, to catch flack Sweat jackets and dress slacks, mismatch On his breath\\'s Jack is a sex addict And she just wants to exact revenge and get back  It\\'s a chess match, she\\'s on his back like a jet pack She\\'s kept track of all his Internet chats And guess who just happens to be moving on to the next? Actually, just shit on my last chick and she has what my ex lacks  \\'Cause she loves danger, psychopath And you don\\'t fuck with no man\\'s girl, even I know that But she\\'s devised some plan To stab him in the back, knife in hand Says the relationship\\'s hanging by a strand  So she\\'s been on the web lately Says maybe she\\'ll be my Gwen Stacy, despite her man And I know she\\'s using me to try to play him I don\\'t care, hi Susanne, but I shoulda said \"Bye Susanne\" After the first night, but tonight I am  I\\'ve been a liar, been a thief Been a lover, been a cheat All my sins need holy water Feel it washing over me  Oh, little one, I don\\'t want to admit to something If all it\\'s gonna cause is pain Truth in my lies now are falling like the rain So let the river run  One-night stand, turned into night staying He was calling so might scram, now we hug tight and He found out, now she feels deserted and used \\'Cause he left, so what? He did it first to her too  Now how am I supposed to tell this girl that we\\'re through? It\\'s hard to find the words, I\\'m aloof, nervous, ensued And witnessed you hurt, but what you deserve is the truth Don\\'t take it personal, I just can\\'t say this in person to you  So I revert to the studio like hole in the wall diners Don\\'t have to be reserved in a booth I just feel like the person who I\\'m turning into\\'s Irreversible, I preyed on you like it\\'s church at the pew  And now that I got you I don\\'t want you Took advantage of my thirst to pursue Why do I do this dirt that I do? Get on my soapbox and preach, my sermon and speech Detergent and bleach is burning the wound \\'Cause now with her in the womb We can\\'t bring her in this world, shoulda knew To use protection \\'fore I bit into your forbidden fruit Fuck  I\\'ve been a liar, been a thief Been a lover, been a cheat All my sins need holy water Feel it washing over me  Oh, little one, I don\\'t want to admit to something If all it\\'s gonna cause is pain Truth in my lies now are falling like the rain So let the river run  My name\\'s (oh), my name\\'s (oh) Denver (oh), river run Call me (oh), call me (oh) River (oh), we\\'ll let the river run  Always the bridesmaid, never the bride, hey Fuck can I say? If life was a highway The seat was an enclave, I\\'d be swerving in five lanes Speeds at a high rate, like I\\'m sliding on ice, maybe  That\\'s why I may have came at you sideways I can\\'t keep my lies straight What I made you terminate, my baby This love triangle left us in a wreck, tangled  What else can I say? It was fun for a while Bet I really woulda loved your smile Didn\\'t really wanna abort, but fuck it What\\'s one more lie to tell an unborn child?  I\\'ve been a liar, been a thief Been a lover, been a cheat All my sins need holy water Feel it washing over me  Oh, little one (I\\'m sorry) I don\\'t want to admit to something (I fucked up) If all it\\'s gonna cause is pain The truth in my lies now are falling like the rain So let the river run',\n",
       " 'Stepping Stone': \"Its 2002, everything was totally new We were globally huge Watching sales go through the roof We wrote and we viewed it Runyon Avenue soldiers included A multitude of homies who would bounce for no good excuse We were so bulletproof wrote, souped and soaked in our youth Thought we was running shit till we lost the sole of our shoe The death of Doody broke us in two We were thrown for a loop, ain't none of us know what to do And at the time I was going through my own struggles too So I wasn't in no condition to be coaching us through Everyone tried to go solo, really nobody blew I was hoping they do so I ain't have to shoulder the group The plan was put everyone in position so that they knew How to stand on they own and I don't want to open up wounds I just noticed the oomf was gone when we go in the booth Cause the truth is the moment that Proof died, so did the group  If I could leave this world behind I could open up my eyes and walk in a straight line Turn to the river with you Help me leave this all behind  I'ma wash away my sins I'ma rinse away this dirt I forgot to make amends To all the friends I may have hurt I better stop and say my grace From that I pray that I don't fall 'Cause on the way back down I may May end up running back into them all I never meant to use you all as my stepping stones  It was never the same, and it's bothered me since And the farther we drift apart the more awkward it gets The more time goes by, the more life happens And we gotta be men, we got responsibilities Plus we don't say how we feel, and I feel like this is what got us in The debacle we're in, been with you guys thick and thin But it's almost as if sometimes we're not even friends Which reminded me Biz, Rockstar was the shit Y'all could've got you a hit without me on the shit If you've put D12 on it, wish I could've did More than try talking you into coming up off of it I know it wasn't my fault, but part of it probably is I think of all of the trips to BET and the rappers I wish that we would've politicked with Maybe y'all coulda clicked and got you some features But that's water under the bridge But I'm washing my sins in it till my conscious is clear  If I could leave this world behind I could open up my eyes and walk in a straight line Turn to the river with you Help me leave this all behind  I'ma wash away my sins I'ma rinse away this dirt I forgot to make amends To all the friends I may have hurt I better stop and say my grace From that I pray that I don't fall 'Cause on the way back down I may May end up running back into them all I never meant to use you all as my stepping stones  Bacardi in hand Never thought the party would end One minute you're bodyin' shit but then your audience splits You can already sense the climate is starting to shift To these kids you no longer exist Went from rainin' cats and dogs in this bitch To tiny drops full of drips And by the time your reign is over, you'll hardly be missed You start thinkin' of all the artists you gift All the carnage you left Is this the kinda karma you get? For turning your fuckin' back on Bizzy, Kuniva and Swift A Freudian slip Subconsciously, I honestly wished I ain't feel so much guilt and y'all didn't harbor resentment But it's hard to pretend that y'all ain't got none of this Wish I had words  But I guess they're just ownin' for this Still, my point is I just can't say how sorry I am This is not how I planned for our story to end I love all of you, men But I just can't be the guy Everybody depends on for entire careers 'Cause that's not even fair I will always be here But that spark isn't there And I don't know how to recapture that time and that air I've tried hearkening back to But I'm fighting for air I'm barely charting myself Feels like I'm under the sink  But it was not my intent To treat y'all like a stepping stone Though I ain't left no one behind But we been down every road Done all we possibly can I know we kept up our hopes But the longer we spend livin' this lie that we live The less is left for closure, so let's let this go It's not goodbye to our friendship, but D12 is over  I'ma wash away my sins I'ma rinse away this dirt I forgot to make amends To all the friends I may have hurt I better stop and say my grace From that I pray that I don't fall 'Cause on the way back down I may May end up running back into them all I never meant to use you all as my stepping stones I never meant to make you feel like my stepping stones I never meant to use you all for my stepping stones\",\n",
       " 'The Ringer': 'Yo Yo, I\\'m just gonna write down my first thoughts and see where this takes me \\'Cause I feel like I wanna punch the world in the fuckin\\' face right now  Yeah, let me explain just how to make greatness Straight out the gate, I\\'m \\'bout to break you down Ain\\'t no mistakes allowed, but make no mistake I\\'m \\'bout To rape the alphabet, I may raise some brows If I press the issue just to get the anger out (blllt) Full magazine could take Staples out Savage but ain\\'t thinking \\'bout no bank account But bitch I\\'m off the chain like Taylor Brown Motherfucker, shut the fuck up when I\\'m talkin\\', lil\\' bitch I\\'m sorry, wait, what\\'s your talent? Oh, critiquin\\' My talent? Oh, bitch I don\\'t know who the fuck y\\'all are To give a sub-par bar Even have an opinion if you, you mention me Millions of views, attention the news I mention you, lose-lose for me, win-win for you Billions of views, your ten cents are two Skim through the music to give a shit reviews To get clicks, but bitch, you just lit the fuse Don\\'t get misconstrued, business as us\\' Shit-list renewed, so get shit to do Or get dissed \\'cause I just don\\'t get what the fuck half the shit is that you\\'re listening t-to Do you have any idea how much I hate this choppy flow Everyone copies though? Probably no Get this fuckin\\' audio out my Audi, yo, adios I can see why people like Lil Yachty, but not me though Not even dissin\\', it just ain\\'t for me All I am simply is just an emcee Maybe \"Stan\" just isn\\'t your cup of tea Maybe your cup\\'s full of syrup and lean Maybe I need to stir up shit, preferably shake the world up if it were up to me Paul wants me to chill, y\\'all want me to ill I should eat a pill, probably I will Old me kill the new me, watch him bleed to death I breathe on the mirror, I don\\'t see my breath Possibly I\\'m dead, I must be possessed Like an evil spell, I\\'m E-V-I-L (evil, but spelled) Jam a Crest white strip in the tip of my dick with an ice pick Stick it in a vice grip, hang it on a spike fence Bang it with a pipe wrench While I take my ballsack and flick it like a light switch Like vice-president Mike Pence Back up on my shit in a sidekick as I lay it on a spike strip These are things that I\\'d rather do than hear you on a mic Since nine-tenths of your rhyme is about ice and Jesus Christ man, how many times is someone gonna fuck on my bitch? (Fuck my side chick!) You will never see Em icy, but as cold as I get on the M-I-C I polarize shit so the Thames might freeze And your skull might split like I bashed you upside it Bitch I got the club on smash like a nightstick (yeah) Turn down for what? I ain\\'t loud enough Nah, turn the valium up \\'Cause I don\\'t know how I\\'m gonna get your mouths to shut now When it doesn\\'t matter what caliber I spit at I\\'ll bet a hundred thousand bucks you\\'ll just turn around and just be like \"Man, how the fuck sourpuss gonna get mad just \\'cause his album sucks and now he wants to take it out on us?\" (ooh) But last week, an ex-fan mailed me a copy of The Mathers LP to tell me to study It\\'ll help me get back to myself and she\\'ll love me (ooh) I mailed the bitch back and said if I did that I\\'d just be like everyone else in the fucking industry Especially an effing Recovery clone of me So finger-bang, chicken wang, MGK, Iggy \\'zae Lil Pump, Lil Xan imitate Lil Wayne I should aim at everybody in the game, pick a name I\\'m fed up with being humble And rumor is I\\'m hungry I\\'m sure you heard bumblings I heard you wanna rumble like an empty stomach I heard your mumbling but it\\'s jumbled in mumbo-jumbo The era that I\\'m from will pummel you That\\'s what it\\'s comin\\' to What the fuck are you gonna do, where you runnin\\' to? I\\'m gonna crumble you and I\\'ll take a number two And dump on you if you ain\\'t Joyner If you ain\\'t Kendrick or Cole Or Sean then you\\'re a goner I\\'m \\'bout to bring it to anyone in this bitch who want it I guess when you walk into BK, you expect a Whopper You can order a quarter pounder when you go to McDonald\\'s But if you\\'re lookin\\' to get a porterhouse you better go get Revival But y\\'all are acting like I tried to serve you up a slider Maybe the vocals should have been auto-tuned and you would have bought it But sayin\\' I no longer got it \\'cause you missed the line and never caught it \\'Cause it went over your head, because you\\'re too stupid to get it \\'Cause you\\'re mentally retarded but pretend to be the smartest With your expertise and knowledge, but you\\'ll never be an artist And I\\'m harder on myself than you could ever be, regardless What I\\'ll never be is flawless, all I\\'ll ever be is honest Even when I\\'m gone they\\'re gonna say I brought it Even when I hit my forties like a fuckin\\' alcoholic With a bottle full of malt liquor But I couldn\\'t bottle this shit any longer The fact that I know that I\\'ma hit my bottom if I don\\'t Pull myself from the jaws of defeat And rise to my feet I don\\'t see why y\\'all even started with me I get impeached My enemies die I don\\'t ceasefire till at least all are deceased I\\'m eastside, never be caught slippin\\' Now you see why I don\\'t sleep Not even a wink, I don\\'t blink I don\\'t doze off, I don\\'t even nod to the beats I don\\'t even close my fuckin\\' eyes when I sneeze \"Aw, man! That BET cypher was weak, it was garbage The Thing ain\\'t even orange Oh my God, that\\'s a reach\" Shout to all my colorblind people Each and every one of y\\'all If you call a fire engine green, aquamarine Or you think water is pink \"Dawg, that\\'s a date\" \"Looks like an olive to me\" \"Look, there\\'s an apple\" \"No it\\'s not, it\\'s a peach!\" So finger-bang, Pootie Tang, Burger King, Gucci Gang, dookie, dang Charlamagne gonna hate anyway Doesn\\'t matter what I say Give me Donkey of the Day What a way for 2018 to get underway But I\\'m gonna say everything that I wanna say Welcome to the slaughterhouse, bitch! (yeah) Invite them in like a one a day I\\'m not done (preach) \\'Cause I feel like the beast of burden That line in the sand, was it even worth it? \\'Cause the way I see people turnin\\' Is makin\\' it seem worthless It\\'s startin\\' to defeat the purpose I\\'m watchin\\' my fan base shrink to thirds And I was just trying to do the right thing, but word Has the court of public opinion reached a verdict Or still yet to be determined? \\'Cause I\\'m determined to be me, critique the worship But if I could go back, I\\'d at least reword it And say I empathize with the people this evil serpent sold the dream to that he\\'s deserted But I think it\\'s workin\\' These verses are makin\\' him a wee bit nervous And he\\'s too scared to answer me with words \\'Cause he knows that he will lyrically get murdered But I know at least he\\'s heard it \\'Cause Agent Orange just sent the Secret Service To meet in person To see if I really think of hurtin\\' him Or ask if I\\'m linked to terrorists I said, \"Only when it comes to ink and lyricists\" But my beef is more media journalists (Hold up, hold up, hold up) I said my beef is more meaty, a journalist They can get a mouthful of flesh And yes, I mean eating a penis \\'Cause they been panning my album to death So I been giving the media fingers Don\\'t wanna turn this to a counselling sesh But they been puttin\\' me through the ringer So I ain\\'t ironin\\' shit out with the press But I just took this beat to the cleaners',\n",
       " 'Tragic Endings': 'I\\'m stumbling, I can\\'t see straight And it\\'s my fault I got this way I got my hands on something great And found a way to mess it all up  I did my best, I tried to change But it\\'s just in my DNA I got my hands on something great And found a way to fuck it up again  Now I\\'m the one thing you couldn\\'t hate more But you\\'re the one thing that I would die for  All my life I was told I was never nothing special I don\\'t need to be reminded of it every other second \\'Specially when all my self-esteem\\'s Already shot to hell, I\\'m falling helplessly I\\'m embarrased, I don\\'t want no one else to see  \\'Cause I feel like I\\'m a piece of shit every time she yells at me Selfishly addicted, definitely doesn\\'t help that she Makes me feel like I\\'ve died and gone to heaven But makes life a living hell for me She does that thing with her lip, now she\\'s melting me  I\\'m putty in her palms, I\\'m wrapped around her finger A yo-yo on a string, she lets me sit there and just dangle Until something better comes along And she\\'ll just drop me like a hot potato I look like I\\'m in pain, but I\\'m okay though  \\'Cause I know she loves me My friends, what do they know?  It\\'s like I\\'m drowning at sea Hoping that you reach for me I know you\\'re there, but I can\\'t see \\'Cause I\\'m so drunk off tragic endings  I\\'m dying to breathe And all you do is strangle me Such a beautiful relief \\'Cause I\\'m so drunk off tragic endings Drunk off tragic endings  In my moments of weakness I openly admit the shit I wouldn\\'t normally I\\'m extremely self-conscious and enormously Insecure and she uses it to torture when she torments me It only turns to ammunition for her in this war, when she  Gets going she don\\'t stop, when I\\'m up she\\'s like a downer When I found her it was love at first encounter Plus, somehow she musta took the carton of eggs off the counter Cracked them and placed all the shells on the ground for Me to walk on when I\\'m around her  But there\\'s just something about her That makes me not able to function without her How can I get out of it when I don\\'t know how to? I\\'m a doubter, I\\'m a pessimist, make a believer out of me And show me the way now or stay the fuck out of my cloud of rain \\'Cause I\\'m going straight down the drain, I\\'m drowning  It\\'s like I\\'m drowning at sea Hoping that you reach for me I know you\\'re there, but I can\\'t see \\'Cause I\\'m so drunk off tragic endings  I\\'m dying to breathe And all you do is strangle me Such a beautiful relief \\'Cause I\\'m so drunk off tragic endings Drunk off tragic endings  Now I\\'m the one thing you couldn\\'t hate more But you\\'re the one thing that I would die for  It took a while for me to get it, but I think I\\'ve figured it out She don\\'t want me, she just don\\'t wanna see me with someone else The idea of seeing me happy destroys her in itself To see me falling to pieces brings her joy and brings her hell  But it annoys her to see me get this straight, then say \"screw her!\" I threw up on myself, I\\'m dumb sick, I\\'m addicted to her She\\'s tryna block the door, so here\\'s how I do her Since I\\'m manure, she\\'s a sewer And this time this piece of shit\\'s running through her  I can see the light, now I\\'m running to it What the fuck? Shoulda knew it Who would think she\\'d actually have the balls to do it? As soon as I hopped in it, she gassed the car with lighter fluid She\\'s standing there with a rag, \\'bout to put the lighter to it Lit the fucking thing on fire, then she threw it  It\\'s like I\\'m drowning at sea Hoping that you reach for me I know you\\'re there, but I can\\'t see \\'Cause I\\'m so drunk off tragic endings  I\\'m dying to breathe And all you do is strangle me Such a beautiful relief \\'Cause I\\'m so drunk off tragic endings Drunk off tragic endings',\n",
       " 'Untouchable': 'Hands up, officer don\\'t shoot Then pull your pants up, promise you won\\'t loot We may never understand each other, it\\'s no use We ain\\'t ever gonna grasp what each other goes through  Black boy, black boy, we ain\\'t gonna lie to you Black boy, black boy, we don\\'t like the sight of you Pull up on the side of you Window rolled down, \\'profile\\' Then we wonder why we see this side of you  Probably comin\\' from the dope house We could let you slide but your tail light is blew out We know you\\'re hidin\\' that Heidi Klum On you another drug charge, homie, it\\'s back inside for you  And just in case a chase might ensue, we got that tried and true Pistol drew right at you, we\\'d be delighted to unload it In your back, then walk up and lay that taser on the side of you Fucked up, but what the fuck am I to do?  I keep tellin\\' myself, keep doin\\' like you\\'re doin\\' No matter how many lives you ruin It\\'s for the red, white and blue Time to go find a new one and split his head right in two No one\\'s ever indicted you Why? \\'Cause you\\'re a  White boy, white boy, you\\'re a rockstar (My mama talkin\\' to me, tryna tell me how to live) White boy, white boy, in your cop car (But I don\\'t listen to her, \\'cause my head is like a sieve) White boy, white boy, you\\'re untouchable (The world\\'s coming to an end, I don\\'t even care) Nobody can tell me shit \\'cause I\\'m a (big rockstar)  Black boy, black boy, we don\\'t get your culture and We don\\'t care what our government\\'s done to fuck you over, man Don\\'t tell us your attitude\\'s a result of that Balderdash, where\\'d you get the chip on your shoulder at?  Why you kicking that soda can? Pull your pants up, we \\'bout to roll up and Throw your ass in the van cuffed You don\\'t have to know our plans or what our intentions are Our cards are close to our chest, you better show your hands  And put our minds more at ease Or get shot in the thyroid, comply or die, boy We\\'re fightin\\' a crime war, here come the swine Tryna clean up the streets from all these minorities  That\\'s what we call \\'em pigsties for They\\'re like eyesores to police Talk to you like just a piece of trash Feels like we\\'re stuck in a time warp to me As I kick these facts and get these mixed reactions As this beat backspins, it\\'s like we\\'re drifting back in To the sixties, having black skin is risky \\'Cause this keeps happening Throughout history, African-Americans have been treated like shit And I admit, there have been times where it\\'s been embarrassin\\' to be a  White boy, white boy, you\\'re a rockstar (My momma talkin\\' to me, tryna tell me how to live) White boy, white boy, in your cop car (But I don\\'t listen to her, \\'cause my head is like a sieve) White boy, white boy, you\\'re untouchable (The world\\'s coming to an end, I don\\'t even care) Nobody can tell me shit \\'cause I\\'m a (big rockstar)  Seems like the average lifespan of a white man Is more than twice than a black life span I wonder sometimes if it has a price scanner I feel like checking out on life, can\\'t escape this circumstance  I\\'d rather hear \\'em say \"Die N-word\" than Die Antwoord Ninja, now it\\'s better disguised banter But that\\'s life, strapped \\'cause we\\'re strapped financially And can\\'t find answers We\\'re applying, but McDonald\\'s Seems to be the only franchise that\\'ll hire So how can we have higher standards?  As Dallas overshadows the battle for Black Lives Matter We fight back with violence but acts like that are Black eyes on the movement Which makes black lives madder At cops and cops madder That\\'s why it\\'s at a stalemate And can\\'t arrive at a compromise so it\\'s Black Ops  I wonder if we hire more black cops, the crap stops The block is our backyards, officers, not the crack spot Call the attack dogs off of us, man You always act all pissed off at us at a traffic stop  And bad cops fuck it up for the good cops, and man, stop Sendin\\' white cops into black neighborhoods Who ain\\'t acclimated to \\'em, like that\\'s the way to do it Who seen some fuckin\\' videos of rappers waving guns And know nobody black so they act afraid of us  And that\\'s racism, the fear that a black face gives \\'em A subconscious racist Wait, why are there black neighborhoods? \\'Cause America segregated us, designated us to an area Separated us, Section-Eight\\'d us When we tear it up\\'s the only time attention\\'s paid to us And education sucks, and every day\\'s another Freddie Gray for us, a levy breaks or fuzz  Why is it they treat us like dryer lint? We just want a safe environment for our kids But can\\'t escape the sirens Don\\'t take a scientist to see our violent nature lies in The poverty that we face so the crime rate\\'s the highest in The lowest classes, it\\'s like a razor wire fence And we\\'re trapped in these racial biases That plague our society which makes our anxiety levels raise Every time we see a devil\\'s face  Lions, tigers and bears, oh my It\\'s more like billy clubs and gats And we really love it when you think we\\'re guilty \\'cause we\\'re black \"But you kill each other, facts You peel each other\\'s caps, for silly stuff like hats\"  Single mother strugglin\\' through substance abuse While people with nothin\\' to lose shoot each other for shoes Fuck your Republican views Pull ourselves up by our bootstraps, where the fuck are the boots?  And streets act as a narrator, don\\'t gotta read comics Or be that into characters, just to see that, just to be black You better be strapped with a derringer Or be \"capped in America\" like Steve Rogers  \\'Cause no one oversees these cops and All we see is \\'em beat charges We done seen \\'em beat Rodney King unconscious and got off So we don\\'t need all you crooked police officers\\' peace offerings  Just keep marchin\\', till we reach congress But they\\'re gonna say you\\'re tryin\\' to take an irrational stance If you try to slander the flag but Somebody has to be the sacrificial lamb So they call it a Kaepernick tantrum If you don\\'t stand for the national anthem  We raise it, you better praise it Or you\\'ll be made to feel like a traitor, we\\'ll Treat you like Rodney Dangerfield Home of the brave is still racist \\'ville So this whole nation feels like a plantation field  In a country that claims that its foundation was based on United States ideals That had its Natives killed Got you singin\\' this star-spangled spiel To a piece of cloth that represents the \"Land of the Free\" that made people slaves to build',\n",
       " 'Walk On Water': 'I walk on water But I ain\\'t no Jesus I walk on water But only when it freezes (fuck)  Why are expectations so high? Is it the bar I set? My arms I stretch, but I can\\'t reach A far cry from it, or it\\'s in my grasp But as soon as I grab, squeeze  I lose my grip like the flyin\\' trapeze Into the dark I plummet, now the sky\\'s blackening I know the mark\\'s high, butter-flies rip apart my stomach Knowin\\' that no matter what bars I come with You\\'re gonna harp, gripe, and that\\'s a hard Vicodin to swallow So I scrap these as pressure increases like khakis I feel the ice cracking, because  I walk on water But I ain\\'t no Jesus (It’s the curse of the— it’s the curse of the—) I walk on water (shit) But only when it freezes  It\\'s the curse of the standard that the first of the Mathers discs set Always in search of the verse that I haven\\'t spit yet Will this step just be another misstep To tarnish whatever the legacy, love or respect  I\\'ve garnered? The rhyme has to be perfect, the delivery flawless And it always feels like I\\'m hittin\\' the mark Till I go sit in the car, listen and pick it apart Like, \"This shit is garbage!\" And God\\'s given me all this Still I feel no different regardless Kids look to me as a god, this is retarded If only they knew, it\\'s a facade and it\\'s exhaustive  And I try not to listen to nonsense But if you bitches are tryin\\' to strip me of my confidence Mission accomplished I\\'m not God-sent, Nas, Rakim, Pac, B.I.G., James Todd Smith, and I\\'m not Prince  I walk on water But I ain\\'t no Jesus I walk on water (it\\'s true, it\\'s true) But only when it freezes  \\'Cause I\\'m only human, just like you Making my mistakes, oh if you only knew I don\\'t think you should believe in me the way that you do \\'Cause I\\'m terrified to let you down, oh  It\\'s true, I\\'m a Rubik\\'s, a beautiful mess At times juvenile, yes, I goof and I jest A flawed human, I guess But I\\'m doin\\' my best to not ruin your ex-  Pectations and meet \\'em, but first the \"Speedom\" verse Now Big Sean he\\'s goin\\' too fast, is he gonna shout or curse out his mom? There was a time I had the world by the balls, eatin\\' out my palm Every album song I was spazzin\\' the fuck out on And now I\\'m gettin\\' clowned and frowned on But the only one who\\'s looking down on me that matters now\\'s DeShaun Am I lucky to be around this long?  Begs the question though, especially after the methadone As yesterday fades and the Dresden home Is burnt to the ground, and all that\\'s left of my house is lawn The crowds are gone And it\\'s time to wash out the blonde Sales decline, the curtain\\'s drawn They\\'re closin\\' the set, I\\'m still pokin\\' my head from out behind And everyone who has doubt, remind  Now take your best rhyme, outdo it, now do it a thousand times Now let \\'em tell ya the world no longer cares or gives a fuck about your rhymes And as I grow outta sight, outta mind, I might go outta mine \\'Cause how do I ever let this mic go without a fight When I made a fuckin\\' tightrope outta twine?  But when I do fall from these heights though, I\\'ll be fine I won\\'t pout or cry or spiral down or whine But I\\'ll decide if it\\'s my final bow this time around, \\'cause  I walk on water But I ain\\'t no Jesus I walk on water But only when it freezes  \\'Cause I\\'m only human, just like you I\\'ve been making my mistakes, oh if you only knew I don\\'t think you should believe in me the way that you do \\'Cause I\\'m terrified to let you down, oh If I walked on water, I would drown  \\'Cause I\\'m just a man But as long as I got a mic, I\\'m godlike So me and you are not alike Bitch, I wrote \"Stan\"'}"
      ]
     },
     "execution_count": 15,
     "metadata": {},
     "output_type": "execute_result"
    }
   ],
   "source": [
    "lyrics_list[0]"
   ]
  },
  {
   "cell_type": "code",
   "execution_count": 16,
   "metadata": {},
   "outputs": [
    {
     "data": {
      "text/plain": [
       "'Eminem'"
      ]
     },
     "execution_count": 16,
     "metadata": {},
     "output_type": "execute_result"
    }
   ],
   "source": [
    "lyrics_list[0]['Artist']"
   ]
  },
  {
   "cell_type": "markdown",
   "metadata": {},
   "source": [
    "Next, we'll take a peek at the audio list."
   ]
  },
  {
   "cell_type": "code",
   "execution_count": 17,
   "metadata": {},
   "outputs": [
    {
     "data": {
      "text/plain": [
       "150"
      ]
     },
     "execution_count": 17,
     "metadata": {},
     "output_type": "execute_result"
    }
   ],
   "source": [
    "len(audio_list)"
   ]
  },
  {
   "cell_type": "markdown",
   "metadata": {},
   "source": [
    "The length of the list is 150, which equates to about 50 songs per artist.  This makes sense because we looped through tracks for the artist's last three albums (16.5 songs per album).\n",
    "\n",
    "Each item should be a dictionary, with specific audio features for a single song.  We can check out the first 5 items of the list."
   ]
  },
  {
   "cell_type": "code",
   "execution_count": 18,
   "metadata": {},
   "outputs": [
    {
     "data": {
      "text/plain": [
       "[{'Artist': 'Eminem',\n",
       "  'audio': [{'acousticness': 0.0311,\n",
       "    'analysis_url': 'https://api.spotify.com/v1/audio-analysis/2jt2WxXMCD4zjACthkJQVE',\n",
       "    'danceability': 0.939,\n",
       "    'duration_ms': 337941,\n",
       "    'energy': 0.551,\n",
       "    'id': '2jt2WxXMCD4zjACthkJQVE',\n",
       "    'instrumentalness': 0,\n",
       "    'key': 1,\n",
       "    'liveness': 0.192,\n",
       "    'loudness': -9.126,\n",
       "    'mode': 1,\n",
       "    'speechiness': 0.291,\n",
       "    'tempo': 118.552,\n",
       "    'time_signature': 4,\n",
       "    'track_href': 'https://api.spotify.com/v1/tracks/2jt2WxXMCD4zjACthkJQVE',\n",
       "    'type': 'audio_features',\n",
       "    'uri': 'spotify:track:2jt2WxXMCD4zjACthkJQVE',\n",
       "    'valence': 0.42}],\n",
       "  'id': '2jt2WxXMCD4zjACthkJQVE',\n",
       "  'song': 'The Ringer'},\n",
       " {'Artist': 'Eminem',\n",
       "  'audio': [{'acousticness': 0.0441,\n",
       "    'analysis_url': 'https://api.spotify.com/v1/audio-analysis/2XTquzYQAdT1Hk78bOUwsv',\n",
       "    'danceability': 0.809,\n",
       "    'duration_ms': 226938,\n",
       "    'energy': 0.737,\n",
       "    'id': '2XTquzYQAdT1Hk78bOUwsv',\n",
       "    'instrumentalness': 0,\n",
       "    'key': 1,\n",
       "    'liveness': 0.341,\n",
       "    'loudness': -5.186,\n",
       "    'mode': 1,\n",
       "    'speechiness': 0.108,\n",
       "    'tempo': 80.025,\n",
       "    'time_signature': 4,\n",
       "    'track_href': 'https://api.spotify.com/v1/tracks/2XTquzYQAdT1Hk78bOUwsv',\n",
       "    'type': 'audio_features',\n",
       "    'uri': 'spotify:track:2XTquzYQAdT1Hk78bOUwsv',\n",
       "    'valence': 0.367}],\n",
       "  'id': '2XTquzYQAdT1Hk78bOUwsv',\n",
       "  'song': 'Greatest'},\n",
       " {'Artist': 'Eminem',\n",
       "  'audio': [{'acousticness': 0.0627,\n",
       "    'analysis_url': 'https://api.spotify.com/v1/audio-analysis/60SdxE8apGAxMiRrpbmLY0',\n",
       "    'danceability': 0.876,\n",
       "    'duration_ms': 244679,\n",
       "    'energy': 0.786,\n",
       "    'id': '60SdxE8apGAxMiRrpbmLY0',\n",
       "    'instrumentalness': 0,\n",
       "    'key': 10,\n",
       "    'liveness': 0.127,\n",
       "    'loudness': -4.884,\n",
       "    'mode': 0,\n",
       "    'speechiness': 0.306,\n",
       "    'tempo': 153.068,\n",
       "    'time_signature': 4,\n",
       "    'track_href': 'https://api.spotify.com/v1/tracks/60SdxE8apGAxMiRrpbmLY0',\n",
       "    'type': 'audio_features',\n",
       "    'uri': 'spotify:track:60SdxE8apGAxMiRrpbmLY0',\n",
       "    'valence': 0.575}],\n",
       "  'id': '60SdxE8apGAxMiRrpbmLY0',\n",
       "  'song': 'Lucky You (feat. Joyner Lucas)'},\n",
       " {'Artist': 'Eminem',\n",
       "  'audio': [{'acousticness': 0.261,\n",
       "    'analysis_url': 'https://api.spotify.com/v1/audio-analysis/0evt4UZbdhnHtcAnxkm6A1',\n",
       "    'danceability': 0.907,\n",
       "    'duration_ms': 222477,\n",
       "    'energy': 0.64,\n",
       "    'id': '0evt4UZbdhnHtcAnxkm6A1',\n",
       "    'instrumentalness': 0,\n",
       "    'key': 6,\n",
       "    'liveness': 0.0785,\n",
       "    'loudness': -6.542,\n",
       "    'mode': 1,\n",
       "    'speechiness': 0.354,\n",
       "    'tempo': 120.995,\n",
       "    'time_signature': 4,\n",
       "    'track_href': 'https://api.spotify.com/v1/tracks/0evt4UZbdhnHtcAnxkm6A1',\n",
       "    'type': 'audio_features',\n",
       "    'uri': 'spotify:track:0evt4UZbdhnHtcAnxkm6A1',\n",
       "    'valence': 0.803}],\n",
       "  'id': '0evt4UZbdhnHtcAnxkm6A1',\n",
       "  'song': 'Normal'},\n",
       " {'Artist': 'Eminem',\n",
       "  'audio': [{'acousticness': 0.977,\n",
       "    'analysis_url': 'https://api.spotify.com/v1/audio-analysis/6B3zy3LOKHndqsviCr2z15',\n",
       "    'danceability': 0.707,\n",
       "    'duration_ms': 49024,\n",
       "    'energy': 0.314,\n",
       "    'id': '6B3zy3LOKHndqsviCr2z15',\n",
       "    'instrumentalness': 0,\n",
       "    'key': 6,\n",
       "    'liveness': 0.109,\n",
       "    'loudness': -10.115,\n",
       "    'mode': 0,\n",
       "    'speechiness': 0.747,\n",
       "    'tempo': 104.014,\n",
       "    'time_signature': 4,\n",
       "    'track_href': 'https://api.spotify.com/v1/tracks/6B3zy3LOKHndqsviCr2z15',\n",
       "    'type': 'audio_features',\n",
       "    'uri': 'spotify:track:6B3zy3LOKHndqsviCr2z15',\n",
       "    'valence': 0.602}],\n",
       "  'id': '6B3zy3LOKHndqsviCr2z15',\n",
       "  'song': 'Em Calls Paul - Skit'}]"
      ]
     },
     "execution_count": 18,
     "metadata": {},
     "output_type": "execute_result"
    }
   ],
   "source": [
    "audio_list[:5]"
   ]
  },
  {
   "cell_type": "markdown",
   "metadata": {},
   "source": [
    "## Standardizing and Pre-processing lyrics for each genre.\n",
    "\n",
    "The next steps consisting of cleaning and pre-processing all lyrics for each genre seperately.  To avoid repetition, I will only show the pre-processing for the country genre."
   ]
  },
  {
   "cell_type": "markdown",
   "metadata": {},
   "source": [
    "First I will load a previously pickled country lyrics list and country track list, which were constructed using the lengthy function above."
   ]
  },
  {
   "cell_type": "code",
   "execution_count": 19,
   "metadata": {
    "collapsed": true
   },
   "outputs": [],
   "source": [
    "import pickle\n",
    "with open(\"country_lyrics.pkl\", 'rb') as picklefile: \n",
    "    country_lyrics = pickle.load(picklefile)"
   ]
  },
  {
   "cell_type": "code",
   "execution_count": 101,
   "metadata": {
    "collapsed": true
   },
   "outputs": [],
   "source": [
    "with open(\"NEW_countrytracks.pkl\", 'rb') as picklefile: \n",
    "    country_tracks = pickle.load(picklefile)"
   ]
  },
  {
   "cell_type": "code",
   "execution_count": 21,
   "metadata": {},
   "outputs": [
    {
     "data": {
      "text/plain": [
       "179"
      ]
     },
     "execution_count": 21,
     "metadata": {},
     "output_type": "execute_result"
    }
   ],
   "source": [
    "len(country_lyrics)"
   ]
  },
  {
   "cell_type": "code",
   "execution_count": 105,
   "metadata": {},
   "outputs": [
    {
     "data": {
      "text/plain": [
       "4849"
      ]
     },
     "execution_count": 105,
     "metadata": {},
     "output_type": "execute_result"
    }
   ],
   "source": [
    "len(country_tracks)"
   ]
  },
  {
   "cell_type": "markdown",
   "metadata": {},
   "source": [
    "There is 4,849 tracks, and 179 artists.  Which comes out to about 27 songs per artist. \n",
    "\n",
    "Note: Many songs do not have lyrics available in the library, which explains why it is not closer to 50 songs per artist."
   ]
  },
  {
   "cell_type": "code",
   "execution_count": 23,
   "metadata": {
    "collapsed": true
   },
   "outputs": [],
   "source": [
    "# Make a separate list of just lyrics of all songs without artist names\n",
    "country_songs = []\n",
    "for d in country_lyrics:\n",
    "    for key,val in d.items():\n",
    "        if key != 'Artist':\n",
    "            if key != 'Followers':\n",
    "                country_songs.append(val)"
   ]
  },
  {
   "cell_type": "code",
   "execution_count": 24,
   "metadata": {},
   "outputs": [
    {
     "data": {
      "text/plain": [
       "4342"
      ]
     },
     "execution_count": 24,
     "metadata": {},
     "output_type": "execute_result"
    }
   ],
   "source": [
    "len(country_songs)"
   ]
  },
  {
   "cell_type": "code",
   "execution_count": 25,
   "metadata": {},
   "outputs": [
    {
     "data": {
      "text/plain": [
       "4223"
      ]
     },
     "execution_count": 25,
     "metadata": {},
     "output_type": "execute_result"
    }
   ],
   "source": [
    "len(set(country_songs))"
   ]
  },
  {
   "cell_type": "code",
   "execution_count": 26,
   "metadata": {
    "collapsed": true
   },
   "outputs": [],
   "source": [
    "# Remove duplicate song/lyrics using set\n",
    "country_songs = list(set(country_songs))"
   ]
  },
  {
   "cell_type": "code",
   "execution_count": 27,
   "metadata": {},
   "outputs": [
    {
     "data": {
      "text/plain": [
       "\"Hey I'm just staring out the window, baby don't mind me But it's been a couple weeks since I walked on something but concrete This big city's getting to me, I'm having hillbilly dreams I'm hearing Haggard songs, it's been too long  I'm thinking country, I'm talking hammer down I mean one arm out the window like Smokey and the Bandit Kind of good times, it's what I got on my mind Let's go to Luckenbach, it's what I need I can't help it, I'm just thinking country  Cane pole stuck in the sand That's the kind of mood that I'm in I can't focus on anything else but getting us gone I got this crazy desire to go out and sit by a fire Maybe light up cheap cigars, Willy on guitar  I'm thinking country, I'm talking hammer down I mean one arm out the window like Smokey and the Bandit Kind of good times, it's what I got on my mind Let's go to Luckenbach, it's what I need I can't help it, I'm just thinking country Yeah, I'm thinking country  So just go with me baby, come on, help me concentrate I know we're sitting downtown but I'm in some other You know I'm in some other place  I'm thinking country, I'm talking hammer down I mean one arm out the window like Smokey and the Bandit Kind of good times, it's what I got on my mind Let's go to Luckenbach, it's what I need I can't help it, I'm just thinking country Yes, I'm thinking country  It's been a long time, been a long time gone Been a long time since I've been home Been a long time, been a long time gone Been a long time since I've been home Yeah I'm thinking country, I'm thinking country  Been a long time, been a long time gone Been a long time since I've been home Been a long time, been a long time gone Been a long time since I've been home Yeah I'm thinking country, I'm thinking country Oh, I'm thinking country\""
      ]
     },
     "execution_count": 27,
     "metadata": {},
     "output_type": "execute_result"
    }
   ],
   "source": [
    "country_songs[1]"
   ]
  },
  {
   "cell_type": "markdown",
   "metadata": {},
   "source": [
    "The lyrics list and track list are not the same length, which is a problem, because we want to be able to match songs lyrics and audio features on the same index.  This is a problem that will be addressed later.\n",
    "\n",
    "Now, we will move forward with pre-processing of lyrics."
   ]
  },
  {
   "cell_type": "markdown",
   "metadata": {},
   "source": [
    "### First, we will convert all these words to a count vectorizer.  Which will give us a sparse matrix of the counts for each word."
   ]
  },
  {
   "cell_type": "code",
   "execution_count": 28,
   "metadata": {
    "collapsed": true
   },
   "outputs": [],
   "source": [
    "# Import Count Vectorizer\n",
    "from sklearn.feature_extraction.text import CountVectorizer "
   ]
  },
  {
   "cell_type": "code",
   "execution_count": 30,
   "metadata": {},
   "outputs": [],
   "source": [
    "# Import stop words.  Consists of common words in dictionary that won't provide much meaning\n",
    "from sklearn.feature_extraction.stop_words import ENGLISH_STOP_WORDS\n",
    "stop_words = ENGLISH_STOP_WORDS"
   ]
  },
  {
   "cell_type": "code",
   "execution_count": 32,
   "metadata": {
    "collapsed": true
   },
   "outputs": [],
   "source": [
    "# Intialize count vectorizer. N-grams are pairs and triplets of words\n",
    "vectorizer = CountVectorizer(min_df = 10, stop_words = stop_words, ngram_range=[1, 3])"
   ]
  },
  {
   "cell_type": "code",
   "execution_count": 33,
   "metadata": {
    "collapsed": true
   },
   "outputs": [],
   "source": [
    "#Fit the model on the list of lyrics\n",
    "dtm = vectorizer.fit_transform(country_songs)"
   ]
  },
  {
   "cell_type": "markdown",
   "metadata": {},
   "source": [
    "### The topic modeling library named Gensim will ease the process of pre-processing and lemmatizing our features.  To learn more about the library, check out this link below.\n",
    "\n",
    "https://radimrehurek.com/gensim/"
   ]
  },
  {
   "cell_type": "code",
   "execution_count": 34,
   "metadata": {
    "collapsed": true
   },
   "outputs": [],
   "source": [
    "#Gensim material\n",
    "import gensim\n",
    "from gensim.test.utils import common_texts\n",
    "from gensim.corpora.dictionary import Dictionary\n",
    "import gensim.corpora as corpora\n",
    "from gensim.utils import simple_preprocess"
   ]
  },
  {
   "cell_type": "code",
   "execution_count": 35,
   "metadata": {
    "collapsed": true
   },
   "outputs": [],
   "source": [
    "# spacy for lemmatization\n",
    "import spacy\n",
    "\n",
    "# Plotting tools\n",
    "import pyLDAvis\n",
    "import pyLDAvis.gensim\n",
    "import matplotlib.pyplot as plt\n",
    "%matplotlib inline\n",
    "\n",
    "# Enable logging for gensim - optional\n",
    "import logging\n",
    "logging.basicConfig(format='%(asctime)s : %(levelname)s : %(message)s', level=logging.ERROR)\n",
    "\n",
    "import warnings\n",
    "warnings.filterwarnings(\"ignore\",category=DeprecationWarning)"
   ]
  },
  {
   "cell_type": "code",
   "execution_count": 36,
   "metadata": {
    "collapsed": true
   },
   "outputs": [],
   "source": [
    "# Create a corpus from a list of texts\n",
    "common_dictionary = Dictionary(common_texts)\n",
    "common_corpus = [common_dictionary.doc2bow(text) for text in common_texts]"
   ]
  },
  {
   "cell_type": "code",
   "execution_count": 37,
   "metadata": {
    "collapsed": true
   },
   "outputs": [],
   "source": [
    "# Sentence to individual words function\n",
    "def sent_to_words(sentences):\n",
    "    for sentence in sentences:\n",
    "        yield(gensim.utils.simple_preprocess(str(sentence), deacc=True))"
   ]
  },
  {
   "cell_type": "code",
   "execution_count": 38,
   "metadata": {
    "collapsed": true
   },
   "outputs": [],
   "source": [
    "country_words = list(sent_to_words(country_songs))"
   ]
  },
  {
   "cell_type": "markdown",
   "metadata": {},
   "source": [
    "This function allowed us to convert all of the sentences in our corpus to words.  This is what the first index looks like."
   ]
  },
  {
   "cell_type": "code",
   "execution_count": 40,
   "metadata": {},
   "outputs": [
    {
     "data": {
      "text/plain": [
       "['first',\n",
       " 'thing',\n",
       " 'ma',\n",
       " 'pour',\n",
       " 'me',\n",
       " 'little',\n",
       " 'wibo',\n",
       " 'shoot',\n",
       " 'it',\n",
       " 'quick',\n",
       " 'and',\n",
       " 'forget',\n",
       " 'about',\n",
       " 'my',\n",
       " 'job',\n",
       " 'no',\n",
       " 'ain',\n",
       " 'gonna',\n",
       " 'worry',\n",
       " 'bout',\n",
       " 'tomorrow',\n",
       " 'tomorrow',\n",
       " 'corona',\n",
       " 'nothing',\n",
       " 'but',\n",
       " 'coconut',\n",
       " 'aroma',\n",
       " 'slip',\n",
       " 'into',\n",
       " 'tropical',\n",
       " 'coma',\n",
       " 'turn',\n",
       " 'my',\n",
       " 'beach',\n",
       " 'chair',\n",
       " 'into',\n",
       " 'sofa',\n",
       " 'and',\n",
       " 'don',\n",
       " 'you',\n",
       " 'want',\n",
       " 'to',\n",
       " 'get',\n",
       " 'drunk',\n",
       " 'drunk',\n",
       " 'lay',\n",
       " 'in',\n",
       " 'the',\n",
       " 'sand',\n",
       " 'and',\n",
       " 'get',\n",
       " 'stuck',\n",
       " 'stuck',\n",
       " 'bunch',\n",
       " 'of',\n",
       " 'rum',\n",
       " 'till',\n",
       " 'we',\n",
       " 're',\n",
       " 'numb',\n",
       " 'numb',\n",
       " 'come',\n",
       " 'on',\n",
       " 'and',\n",
       " 'get',\n",
       " 'you',\n",
       " 'some',\n",
       " 'some',\n",
       " 'some',\n",
       " 'of',\n",
       " 'that',\n",
       " 'some',\n",
       " 'turn',\n",
       " 'the',\n",
       " 'light',\n",
       " 'band',\n",
       " 'up',\n",
       " 'up',\n",
       " 'give',\n",
       " 'me',\n",
       " 'more',\n",
       " 'of',\n",
       " 'that',\n",
       " 'steel',\n",
       " 'drum',\n",
       " 'pour',\n",
       " 'me',\n",
       " 'another',\n",
       " 'one',\n",
       " 'and',\n",
       " 'another',\n",
       " 'one',\n",
       " 'and',\n",
       " 'another',\n",
       " 'and',\n",
       " 'another',\n",
       " 'come',\n",
       " 'on',\n",
       " 'come',\n",
       " 'on',\n",
       " 'let',\n",
       " 'all',\n",
       " 'get',\n",
       " 'drunk',\n",
       " 'drunk',\n",
       " 'next',\n",
       " 'round',\n",
       " 'buzzing',\n",
       " 'with',\n",
       " 'my',\n",
       " 'new',\n",
       " 'friends',\n",
       " 'found',\n",
       " 'bikinis',\n",
       " 'and',\n",
       " 'palm',\n",
       " 'trees',\n",
       " 'dancing',\n",
       " 'around',\n",
       " 'got',\n",
       " 'tall',\n",
       " 'stack',\n",
       " 'of',\n",
       " 'shot',\n",
       " 'glasses',\n",
       " 'upside',\n",
       " 'down',\n",
       " 'and',\n",
       " 'don',\n",
       " 'you',\n",
       " 'want',\n",
       " 'to',\n",
       " 'get',\n",
       " 'drunk',\n",
       " 'drunk',\n",
       " 'lay',\n",
       " 'in',\n",
       " 'the',\n",
       " 'sand',\n",
       " 'and',\n",
       " 'get',\n",
       " 'stuck',\n",
       " 'stuck',\n",
       " 'bunch',\n",
       " 'of',\n",
       " 'rum',\n",
       " 'till',\n",
       " 'we',\n",
       " 're',\n",
       " 'numb',\n",
       " 'numb',\n",
       " 'come',\n",
       " 'on',\n",
       " 'and',\n",
       " 'get',\n",
       " 'you',\n",
       " 'some',\n",
       " 'some',\n",
       " 'some',\n",
       " 'of',\n",
       " 'that',\n",
       " 'some',\n",
       " 'turn',\n",
       " 'the',\n",
       " 'light',\n",
       " 'band',\n",
       " 'up',\n",
       " 'up',\n",
       " 'give',\n",
       " 'me',\n",
       " 'more',\n",
       " 'of',\n",
       " 'that',\n",
       " 'steel',\n",
       " 'drum',\n",
       " 'pour',\n",
       " 'me',\n",
       " 'another',\n",
       " 'one',\n",
       " 'and',\n",
       " 'another',\n",
       " 'one',\n",
       " 'and',\n",
       " 'another',\n",
       " 'and',\n",
       " 'another',\n",
       " 'come',\n",
       " 'on',\n",
       " 'come',\n",
       " 'on',\n",
       " 'let',\n",
       " 'all',\n",
       " 'get',\n",
       " 'drunk',\n",
       " 'drunk',\n",
       " 'one',\n",
       " 'long',\n",
       " 'island',\n",
       " 'two',\n",
       " 'long',\n",
       " 'island',\n",
       " 'three',\n",
       " 'long',\n",
       " 'island',\n",
       " 'four',\n",
       " 'one',\n",
       " 'long',\n",
       " 'island',\n",
       " 'two',\n",
       " 'long',\n",
       " 'island',\n",
       " 'three',\n",
       " 'long',\n",
       " 'island',\n",
       " 'four',\n",
       " 'drunk',\n",
       " 'drunk',\n",
       " 'lay',\n",
       " 'in',\n",
       " 'the',\n",
       " 'sand',\n",
       " 'and',\n",
       " 'get',\n",
       " 'stuck',\n",
       " 'stuck',\n",
       " 'bunch',\n",
       " 'of',\n",
       " 'rum',\n",
       " 'till',\n",
       " 'we',\n",
       " 're',\n",
       " 'numb',\n",
       " 'numb',\n",
       " 'come',\n",
       " 'on',\n",
       " 'and',\n",
       " 'get',\n",
       " 'you',\n",
       " 'some',\n",
       " 'some',\n",
       " 'some',\n",
       " 'of',\n",
       " 'that',\n",
       " 'some',\n",
       " 'turn',\n",
       " 'the',\n",
       " 'light',\n",
       " 'band',\n",
       " 'up',\n",
       " 'up',\n",
       " 'give',\n",
       " 'me',\n",
       " 'more',\n",
       " 'of',\n",
       " 'that',\n",
       " 'steel',\n",
       " 'drum',\n",
       " 'pour',\n",
       " 'me',\n",
       " 'another',\n",
       " 'one',\n",
       " 'and',\n",
       " 'another',\n",
       " 'one',\n",
       " 'and',\n",
       " 'another',\n",
       " 'and',\n",
       " 'another',\n",
       " 'come',\n",
       " 'on',\n",
       " 'come',\n",
       " 'on',\n",
       " 'let',\n",
       " 'all',\n",
       " 'get',\n",
       " 'drunk',\n",
       " 'drunk',\n",
       " 'drunk',\n",
       " 'drunk']"
      ]
     },
     "execution_count": 40,
     "metadata": {},
     "output_type": "execute_result"
    }
   ],
   "source": [
    "country_words[0]"
   ]
  },
  {
   "cell_type": "code",
   "execution_count": 41,
   "metadata": {},
   "outputs": [
    {
     "name": "stderr",
     "output_type": "stream",
     "text": [
      "/Users/peyjmonahmad/anaconda3/lib/python3.6/site-packages/gensim/models/phrases.py:598: UserWarning: For a faster implementation, use the gensim.models.phrases.Phraser class\n",
      "  warnings.warn(\"For a faster implementation, use the gensim.models.phrases.Phraser class\")\n"
     ]
    }
   ],
   "source": [
    "# Build the bigram and trigram models\n",
    "bigram = gensim.models.Phrases(country_words, min_count=5, threshold=100)\n",
    "trigram = gensim.models.Phrases(bigram[country_words], threshold=100)  \n",
    "\n",
    "# Faster way to get a sentence clubbed as a trigram/bigram\n",
    "bigram_mod = gensim.models.phrases.Phraser(bigram)\n",
    "trigram_mod = gensim.models.phrases.Phraser(trigram)"
   ]
  },
  {
   "cell_type": "markdown",
   "metadata": {},
   "source": [
    "We can define some more functions to clean and lemmatize the words in the corpus."
   ]
  },
  {
   "cell_type": "code",
   "execution_count": 44,
   "metadata": {
    "collapsed": true
   },
   "outputs": [],
   "source": [
    "def remove_stopwords(texts):\n",
    "    return [[word for word in simple_preprocess(str(doc)) if word not in stop_words] for doc in texts]\n",
    "\n",
    "def make_bigrams(texts):\n",
    "    return [bigram_mod[doc] for doc in texts]\n",
    "\n",
    "def make_trigrams(texts):\n",
    "    return [trigram_mod[bigram_mod[doc]] for doc in texts]\n",
    "\n",
    "def lemmatization(texts, allowed_postags=['NOUN', 'ADJ', 'VERB', 'ADV']):\n",
    "    \"\"\"https://spacy.io/api/annotation\"\"\"\n",
    "    texts_out = []\n",
    "    for sent in texts:\n",
    "        doc = nlp(\" \".join(sent)) \n",
    "        texts_out.append([token.lemma_ for token in doc if token.pos_ in allowed_postags])\n",
    "    return texts_out"
   ]
  },
  {
   "cell_type": "code",
   "execution_count": 45,
   "metadata": {},
   "outputs": [],
   "source": [
    "# Remove Stop Words\n",
    "words_nostops = remove_stopwords(country_words)\n",
    "\n",
    "# Form Bigrams\n",
    "words_bigrams = make_bigrams(words_nostops)\n",
    "\n",
    "# Initialize spacy 'en' model, keeping only tagger component (for efficiency)\n",
    "nlp = spacy.load('en', disable=['parser', 'ner'])\n",
    "\n",
    "# Do lemmatization keeping only noun, adj, vb, adv\n",
    "data_lemmatized = lemmatization(words_bigrams, allowed_postags=['NOUN', 'ADJ', 'VERB', 'ADV'])"
   ]
  },
  {
   "cell_type": "code",
   "execution_count": 46,
   "metadata": {
    "collapsed": true
   },
   "outputs": [],
   "source": [
    "# Establish index to word in dictionary\n",
    "id2word = corpora.Dictionary(data_lemmatized)\n",
    "\n",
    "# Create Corpus of clean texts\n",
    "country_texts = data_lemmatized\n",
    "\n",
    "# Term Document Frequency\n",
    "corpus = [id2word.doc2bow(text) for text in country_texts]"
   ]
  },
  {
   "cell_type": "markdown",
   "metadata": {},
   "source": [
    "To get a general view of the main topics surrounding all the country lyrics, we can now perform LDA topic modeling.\n",
    "\n",
    "## LDA Topic Modeling"
   ]
  },
  {
   "cell_type": "code",
   "execution_count": 47,
   "metadata": {
    "collapsed": true
   },
   "outputs": [],
   "source": [
    "# This will give us the top 15 topics out of all the country lyrics\n",
    "country_lda = gensim.models.ldamodel.LdaModel(corpus=corpus,\n",
    "                                           id2word=id2word,\n",
    "                                           num_topics=15, \n",
    "                                           random_state=100,\n",
    "                                           update_every=1,\n",
    "                                           chunksize=100,\n",
    "                                           passes=10,\n",
    "                                           alpha='auto',\n",
    "                                           per_word_topics=True)"
   ]
  },
  {
   "cell_type": "code",
   "execution_count": 48,
   "metadata": {},
   "outputs": [
    {
     "name": "stdout",
     "output_type": "stream",
     "text": [
      "[(0,\n",
      "  '0.380*\"wanna\" + 0.023*\"don\" + 0.017*\"business\" + 0.013*\"end\" + 0.012*\"drug\" '\n",
      "  '+ 0.011*\"rose\" + 0.011*\"married\" + 0.011*\"standin\" + 0.011*\"heartbeat\" + '\n",
      "  '0.008*\"sleepin\"'),\n",
      " (1,\n",
      "  '0.174*\"come\" + 0.042*\"party\" + 0.040*\"dance\" + 0.031*\"round\" + 0.017*\"tie\" '\n",
      "  '+ 0.017*\"pour\" + 0.016*\"rain\" + 0.016*\"bone\" + 0.014*\"jack\" + 0.013*\"dead\"'),\n",
      " (2,\n",
      "  '0.160*\"bad\" + 0.026*\"family\" + 0.026*\"burn\" + 0.025*\"choose\" + '\n",
      "  '0.023*\"sorry\" + 0.019*\"case\" + 0.017*\"heartache\" + 0.017*\"runway\" + '\n",
      "  '0.017*\"insane\" + 0.013*\"whisky\"'),\n",
      " (3,\n",
      "  '0.053*\"get\" + 0.046*\"go\" + 0.037*\"night\" + 0.035*\"ain\" + 0.029*\"girl\" + '\n",
      "  '0.019*\"tonight\" + 0.018*\"light\" + 0.017*\"right\" + 0.016*\"song\" + '\n",
      "  '0.014*\"long\"'),\n",
      " (4,\n",
      "  '0.071*\"blue\" + 0.057*\"country\" + 0.029*\"sugar\" + 0.027*\"texas\" + '\n",
      "  '0.023*\"red\" + 0.022*\"white\" + 0.021*\"drinkin\" + 0.020*\"hot\" + 0.018*\"city\" '\n",
      "  '+ 0.015*\"summer\"'),\n",
      " (5,\n",
      "  '0.055*\"love\" + 0.049*\"know\" + 0.033*\"don\" + 0.033*\"just\" + 0.027*\"will\" + '\n",
      "  '0.025*\"ve\" + 0.024*\"say\" + 0.022*\"let\" + 0.021*\"go\" + 0.019*\"time\"'),\n",
      " (6,\n",
      "  '0.104*\"wish\" + 0.050*\"ring\" + 0.031*\"bring\" + 0.029*\"beautiful\" + '\n",
      "  '0.023*\"king\" + 0.018*\"shouldn\" + 0.016*\"wash\" + 0.015*\"paw_truck\" + '\n",
      "  '0.015*\"storm\" + 0.014*\"sea\"'),\n",
      " (7,\n",
      "  '0.075*\"life\" + 0.031*\"live\" + 0.029*\"sing\" + 0.029*\"dream\" + 0.021*\"angel\" '\n",
      "  '+ 0.021*\"lord\" + 0.021*\"day\" + 0.018*\"home\" + 0.015*\"year\" + 0.013*\"hope\"'),\n",
      " (8,\n",
      "  '0.130*\"man\" + 0.098*\"somebody\" + 0.066*\"woman\" + 0.026*\"tryin\" + '\n",
      "  '0.017*\"holdin\" + 0.015*\"velvet_elvis\" + 0.015*\"livin\" + 0.014*\"everybody\" + '\n",
      "  '0.012*\"devoted\" + 0.011*\"heavy\"'),\n",
      " (9,\n",
      "  '0.125*\"heart\" + 0.087*\"break\" + 0.025*\"carry\" + 0.020*\"weekend\" + '\n",
      "  '0.018*\"away\" + 0.015*\"broken\" + 0.014*\"imagine\" + 0.014*\"send\" + '\n",
      "  '0.014*\"forgiveness\" + 0.014*\"lonesome\"'),\n",
      " (10,\n",
      "  '0.049*\"high\" + 0.036*\"wind\" + 0.025*\"wild\" + 0.025*\"river\" + 0.023*\"free\" + '\n",
      "  '0.021*\"sky\" + 0.018*\"young\" + 0.017*\"chase\" + 0.015*\"run\" + 0.015*\"fly\"'),\n",
      " (11,\n",
      "  '0.240*\"baby\" + 0.044*\"crazy\" + 0.038*\"run\" + 0.027*\"roll\" + 0.024*\"fine\" + '\n",
      "  '0.024*\"sweet\" + 0.023*\"sun\" + 0.022*\"shine\" + 0.019*\"beat\" + 0.014*\"feel\"'),\n",
      " (12,\n",
      "  '0.048*\"old\" + 0.043*\"daddy\" + 0.023*\"shake\" + 0.022*\"mama\" + 0.022*\"hell\" + '\n",
      "  '0.020*\"raise\" + 0.018*\"black\" + 0.012*\"man\" + 0.012*\"dirt\" + '\n",
      "  '0.012*\"brother\"'),\n",
      " (13,\n",
      "  '0.078*\"good\" + 0.059*\"get\" + 0.043*\"little\" + 0.040*\"just\" + 0.037*\"ain\" + '\n",
      "  '0.030*\"thing\" + 0.020*\"day\" + 0.017*\"boy\" + 0.016*\"look\" + 0.016*\"say\"'),\n",
      " (14,\n",
      "  '0.295*\"want\" + 0.244*\"need\" + 0.026*\"like\" + 0.024*\"choice\" + '\n",
      "  '0.016*\"different\" + 0.014*\"breathe\" + 0.012*\"worry\" + 0.011*\"wide_open\" + '\n",
      "  '0.010*\"space\" + 0.008*\"weren\"')]\n"
     ]
    }
   ],
   "source": [
    "from pprint import pprint\n",
    "pprint(country_lda.print_topics())\n",
    "doc_lda = country_lda[corpus]"
   ]
  },
  {
   "cell_type": "markdown",
   "metadata": {},
   "source": [
    "To check out a nice visual of the topic distribution, we can scroll over these topic bubbles from this notebook that Gensim provides."
   ]
  },
  {
   "cell_type": "code",
   "execution_count": 51,
   "metadata": {},
   "outputs": [
    {
     "data": {
      "text/html": [
       "\n",
       "<link rel=\"stylesheet\" type=\"text/css\" href=\"https://cdn.rawgit.com/bmabey/pyLDAvis/files/ldavis.v1.0.0.css\">\n",
       "\n",
       "\n",
       "<div id=\"ldavis_el275751126009224169179757148\"></div>\n",
       "<script type=\"text/javascript\">\n",
       "\n",
       "var ldavis_el275751126009224169179757148_data = {\"mdsDat\": {\"Freq\": [33.83719881720853, 17.842333430232294, 12.650715011248465, 6.598118842645592, 4.635635541755634, 4.413179007768615, 4.045976828001507, 2.9614362341541636, 2.625079359225462, 2.0913348064867754, 1.9549237734837275, 1.81347727802248, 1.7103850582423812, 1.4745457814679854, 1.3456602300563891], \"cluster\": [1, 1, 1, 1, 1, 1, 1, 1, 1, 1, 1, 1, 1, 1, 1], \"topics\": [1, 2, 3, 4, 5, 6, 7, 8, 9, 10, 11, 12, 13, 14, 15], \"x\": [-0.31183248559993554, -0.2938050725547358, -0.27974403128760206, -0.09187897189290008, 0.051453209670813994, 0.010376799260824673, 0.02062003925164967, 0.0685156330383334, 0.0555383376138158, 0.144096101801382, 0.09840205682168814, 0.11756989132510744, 0.13790922282673634, 0.12297194107094653, 0.1498073286538749], \"y\": [-0.12975414941760693, 0.011666846079401473, -0.04912928605655571, 0.03215914725045498, 0.04680907534804904, 0.2611781483621231, 0.24845002374043557, 0.17663753332002674, -0.05153489965217451, -0.06182892710952543, -0.15448099854820535, -0.0738250843253907, -0.08022230663212701, -0.10932384149197547, -0.06680128086692909]}, \"tinfo\": {\"Category\": [\"Default\", \"Default\", \"Default\", \"Default\", \"Default\", \"Default\", \"Default\", \"Default\", \"Default\", \"Default\", \"Default\", \"Default\", \"Default\", \"Default\", \"Default\", \"Default\", \"Default\", \"Default\", \"Default\", \"Default\", \"Default\", \"Default\", \"Default\", \"Default\", \"Default\", \"Default\", \"Default\", \"Default\", \"Default\", \"Default\", \"Topic1\", \"Topic1\", \"Topic1\", \"Topic1\", \"Topic1\", \"Topic1\", \"Topic1\", \"Topic1\", \"Topic1\", \"Topic1\", \"Topic1\", \"Topic1\", \"Topic1\", \"Topic1\", \"Topic1\", \"Topic1\", \"Topic1\", \"Topic1\", \"Topic1\", \"Topic1\", \"Topic1\", \"Topic1\", \"Topic1\", \"Topic1\", \"Topic1\", \"Topic1\", \"Topic1\", \"Topic1\", \"Topic1\", \"Topic1\", \"Topic1\", \"Topic1\", \"Topic1\", \"Topic1\", \"Topic1\", \"Topic1\", \"Topic1\", \"Topic1\", \"Topic1\", \"Topic1\", \"Topic1\", \"Topic1\", \"Topic1\", \"Topic1\", \"Topic1\", \"Topic1\", \"Topic1\", \"Topic1\", \"Topic1\", \"Topic1\", \"Topic1\", \"Topic1\", \"Topic1\", \"Topic1\", \"Topic1\", \"Topic1\", \"Topic1\", \"Topic1\", \"Topic1\", \"Topic1\", \"Topic1\", \"Topic2\", \"Topic2\", \"Topic2\", \"Topic2\", \"Topic2\", \"Topic2\", \"Topic2\", \"Topic2\", \"Topic2\", \"Topic2\", \"Topic2\", \"Topic2\", \"Topic2\", \"Topic2\", \"Topic2\", \"Topic2\", \"Topic2\", \"Topic2\", \"Topic2\", \"Topic2\", \"Topic2\", \"Topic2\", \"Topic2\", \"Topic2\", \"Topic2\", \"Topic2\", \"Topic2\", \"Topic2\", \"Topic2\", \"Topic2\", \"Topic2\", \"Topic2\", \"Topic2\", \"Topic2\", \"Topic2\", \"Topic2\", \"Topic2\", \"Topic2\", \"Topic2\", \"Topic2\", \"Topic2\", \"Topic2\", \"Topic2\", \"Topic2\", \"Topic2\", \"Topic2\", \"Topic2\", \"Topic2\", \"Topic2\", \"Topic2\", \"Topic2\", \"Topic2\", \"Topic2\", \"Topic2\", \"Topic2\", \"Topic2\", \"Topic2\", \"Topic2\", \"Topic2\", \"Topic2\", \"Topic3\", \"Topic3\", \"Topic3\", \"Topic3\", \"Topic3\", \"Topic3\", \"Topic3\", \"Topic3\", \"Topic3\", \"Topic3\", \"Topic3\", \"Topic3\", \"Topic3\", \"Topic3\", \"Topic3\", \"Topic3\", \"Topic3\", \"Topic3\", \"Topic3\", \"Topic3\", \"Topic3\", \"Topic3\", \"Topic3\", \"Topic3\", \"Topic3\", \"Topic3\", \"Topic3\", \"Topic3\", \"Topic3\", \"Topic3\", \"Topic3\", \"Topic3\", \"Topic3\", \"Topic3\", \"Topic3\", \"Topic3\", \"Topic3\", \"Topic3\", \"Topic3\", \"Topic3\", \"Topic3\", \"Topic3\", \"Topic3\", \"Topic3\", \"Topic3\", \"Topic3\", \"Topic3\", \"Topic3\", \"Topic3\", \"Topic3\", \"Topic3\", \"Topic3\", \"Topic3\", \"Topic3\", \"Topic3\", \"Topic3\", \"Topic4\", \"Topic4\", \"Topic4\", \"Topic4\", \"Topic4\", \"Topic4\", \"Topic4\", \"Topic4\", \"Topic4\", \"Topic4\", \"Topic4\", \"Topic4\", \"Topic4\", \"Topic4\", \"Topic4\", \"Topic4\", \"Topic4\", \"Topic4\", \"Topic4\", \"Topic4\", \"Topic4\", \"Topic4\", \"Topic4\", \"Topic4\", \"Topic4\", \"Topic4\", \"Topic4\", \"Topic4\", \"Topic4\", \"Topic4\", \"Topic4\", \"Topic4\", \"Topic4\", \"Topic4\", \"Topic4\", \"Topic4\", \"Topic4\", \"Topic4\", \"Topic4\", \"Topic4\", \"Topic4\", \"Topic4\", \"Topic4\", \"Topic4\", \"Topic4\", \"Topic4\", \"Topic4\", \"Topic4\", \"Topic4\", \"Topic4\", \"Topic5\", \"Topic5\", \"Topic5\", \"Topic5\", \"Topic5\", \"Topic5\", \"Topic5\", \"Topic5\", \"Topic5\", \"Topic5\", \"Topic5\", \"Topic5\", \"Topic5\", \"Topic5\", \"Topic5\", \"Topic5\", \"Topic5\", \"Topic5\", \"Topic5\", \"Topic5\", \"Topic5\", \"Topic5\", \"Topic5\", \"Topic5\", \"Topic5\", \"Topic5\", \"Topic5\", \"Topic5\", \"Topic5\", \"Topic5\", \"Topic5\", \"Topic5\", \"Topic5\", \"Topic5\", \"Topic5\", \"Topic5\", \"Topic5\", \"Topic5\", \"Topic5\", \"Topic5\", \"Topic5\", \"Topic5\", \"Topic5\", \"Topic5\", \"Topic5\", \"Topic5\", \"Topic6\", \"Topic6\", \"Topic6\", \"Topic6\", \"Topic6\", \"Topic6\", \"Topic6\", \"Topic6\", \"Topic6\", \"Topic6\", \"Topic6\", \"Topic6\", \"Topic6\", \"Topic6\", \"Topic6\", \"Topic6\", \"Topic6\", \"Topic6\", \"Topic6\", \"Topic6\", \"Topic6\", \"Topic6\", \"Topic6\", \"Topic6\", \"Topic6\", \"Topic6\", \"Topic6\", \"Topic6\", \"Topic6\", \"Topic6\", \"Topic6\", \"Topic6\", \"Topic6\", \"Topic6\", \"Topic6\", \"Topic6\", \"Topic6\", \"Topic6\", \"Topic6\", \"Topic6\", \"Topic6\", \"Topic6\", \"Topic6\", \"Topic6\", \"Topic6\", \"Topic6\", \"Topic6\", \"Topic6\", \"Topic6\", \"Topic6\", \"Topic6\", \"Topic6\", \"Topic7\", \"Topic7\", \"Topic7\", \"Topic7\", \"Topic7\", \"Topic7\", \"Topic7\", \"Topic7\", \"Topic7\", \"Topic7\", \"Topic7\", \"Topic7\", \"Topic7\", \"Topic7\", \"Topic7\", \"Topic7\", \"Topic7\", \"Topic7\", \"Topic7\", \"Topic7\", \"Topic7\", \"Topic7\", \"Topic7\", \"Topic7\", \"Topic7\", \"Topic7\", \"Topic7\", \"Topic7\", \"Topic7\", \"Topic7\", \"Topic7\", \"Topic7\", \"Topic7\", \"Topic7\", \"Topic7\", \"Topic7\", \"Topic7\", \"Topic7\", \"Topic7\", \"Topic7\", \"Topic7\", \"Topic7\", \"Topic7\", \"Topic7\", \"Topic7\", \"Topic8\", \"Topic8\", \"Topic8\", \"Topic8\", \"Topic8\", \"Topic8\", \"Topic8\", \"Topic8\", \"Topic8\", \"Topic8\", \"Topic8\", \"Topic8\", \"Topic8\", \"Topic8\", \"Topic8\", \"Topic8\", \"Topic8\", \"Topic8\", \"Topic8\", \"Topic8\", \"Topic8\", \"Topic8\", \"Topic8\", \"Topic8\", \"Topic8\", \"Topic8\", \"Topic8\", \"Topic8\", \"Topic8\", \"Topic8\", \"Topic8\", \"Topic8\", \"Topic8\", \"Topic8\", \"Topic8\", \"Topic8\", \"Topic8\", \"Topic8\", \"Topic8\", \"Topic8\", \"Topic9\", \"Topic9\", \"Topic9\", \"Topic9\", \"Topic9\", \"Topic9\", \"Topic9\", \"Topic9\", \"Topic9\", \"Topic9\", \"Topic9\", \"Topic9\", \"Topic9\", \"Topic9\", \"Topic9\", \"Topic9\", \"Topic9\", \"Topic9\", \"Topic9\", \"Topic9\", \"Topic9\", \"Topic9\", \"Topic9\", \"Topic9\", \"Topic9\", \"Topic9\", \"Topic9\", \"Topic9\", \"Topic9\", \"Topic9\", \"Topic9\", \"Topic9\", \"Topic9\", \"Topic9\", \"Topic9\", \"Topic9\", \"Topic9\", \"Topic9\", \"Topic9\", \"Topic9\", \"Topic9\", \"Topic9\", \"Topic9\", \"Topic9\", \"Topic9\", \"Topic9\", \"Topic10\", \"Topic10\", \"Topic10\", \"Topic10\", \"Topic10\", \"Topic10\", \"Topic10\", \"Topic10\", \"Topic10\", \"Topic10\", \"Topic10\", \"Topic10\", \"Topic10\", \"Topic10\", \"Topic10\", \"Topic10\", \"Topic10\", \"Topic10\", \"Topic10\", \"Topic10\", \"Topic10\", \"Topic10\", \"Topic10\", \"Topic10\", \"Topic10\", \"Topic10\", \"Topic10\", \"Topic10\", \"Topic10\", \"Topic10\", \"Topic10\", \"Topic10\", \"Topic10\", \"Topic10\", \"Topic10\", \"Topic10\", \"Topic11\", \"Topic11\", \"Topic11\", \"Topic11\", \"Topic11\", \"Topic11\", \"Topic11\", \"Topic11\", \"Topic11\", \"Topic11\", \"Topic11\", \"Topic11\", \"Topic11\", \"Topic11\", \"Topic11\", \"Topic11\", \"Topic11\", \"Topic11\", \"Topic11\", \"Topic11\", \"Topic11\", \"Topic11\", \"Topic11\", \"Topic11\", \"Topic11\", \"Topic11\", \"Topic11\", \"Topic11\", \"Topic11\", \"Topic11\", \"Topic11\", \"Topic11\", \"Topic11\", \"Topic11\", \"Topic11\", \"Topic11\", \"Topic11\", \"Topic12\", \"Topic12\", \"Topic12\", \"Topic12\", \"Topic12\", \"Topic12\", \"Topic12\", \"Topic12\", \"Topic12\", \"Topic12\", \"Topic12\", \"Topic12\", \"Topic12\", \"Topic12\", \"Topic12\", \"Topic12\", \"Topic12\", \"Topic12\", \"Topic12\", \"Topic12\", \"Topic12\", \"Topic12\", \"Topic12\", \"Topic12\", \"Topic12\", \"Topic12\", \"Topic12\", \"Topic12\", \"Topic12\", \"Topic12\", \"Topic12\", \"Topic12\", \"Topic12\", \"Topic12\", \"Topic12\", \"Topic12\", \"Topic13\", \"Topic13\", \"Topic13\", \"Topic13\", \"Topic13\", \"Topic13\", \"Topic13\", \"Topic13\", \"Topic13\", \"Topic13\", \"Topic13\", \"Topic13\", \"Topic13\", \"Topic13\", \"Topic13\", \"Topic13\", \"Topic13\", \"Topic13\", \"Topic13\", \"Topic13\", \"Topic13\", \"Topic13\", \"Topic13\", \"Topic13\", \"Topic13\", \"Topic13\", \"Topic13\", \"Topic13\", \"Topic13\", \"Topic13\", \"Topic13\", \"Topic13\", \"Topic13\", \"Topic13\", \"Topic13\", \"Topic13\", \"Topic13\", \"Topic14\", \"Topic14\", \"Topic14\", \"Topic14\", \"Topic14\", \"Topic14\", \"Topic14\", \"Topic14\", \"Topic14\", \"Topic14\", \"Topic14\", \"Topic14\", \"Topic14\", \"Topic14\", \"Topic14\", \"Topic14\", \"Topic14\", \"Topic14\", \"Topic14\", \"Topic14\", \"Topic14\", \"Topic14\", \"Topic14\", \"Topic14\", \"Topic14\", \"Topic14\", \"Topic14\", \"Topic14\", \"Topic14\", \"Topic14\", \"Topic14\", \"Topic14\", \"Topic14\", \"Topic14\", \"Topic14\", \"Topic15\", \"Topic15\", \"Topic15\", \"Topic15\", \"Topic15\", \"Topic15\", \"Topic15\", \"Topic15\", \"Topic15\", \"Topic15\", \"Topic15\", \"Topic15\", \"Topic15\", \"Topic15\", \"Topic15\", \"Topic15\", \"Topic15\", \"Topic15\", \"Topic15\", \"Topic15\", \"Topic15\", \"Topic15\", \"Topic15\", \"Topic15\", \"Topic15\", \"Topic15\", \"Topic15\", \"Topic15\", \"Topic15\", \"Topic15\", \"Topic15\", \"Topic15\", \"Topic15\", \"Topic15\", \"Topic15\", \"Topic15\"], \"Freq\": [4274.0, 3990.0, 2710.0, 2466.0, 2596.0, 7460.0, 4331.0, 8222.0, 2239.0, 5477.0, 7379.0, 1872.0, 2585.0, 4770.0, 6854.0, 7742.0, 1378.0, 3245.0, 3200.0, 948.0, 2962.0, 1611.0, 1690.0, 2895.0, 4509.0, 3788.0, 968.0, 4292.0, 925.0, 4194.0, 8221.101413448214, 1866.9360559758254, 1503.9537816080385, 1406.544503613988, 1253.836418566445, 1075.9191108754196, 960.3091865323482, 779.1125611030853, 775.2585575633027, 736.9603930608599, 669.5002314997747, 640.2579571307804, 528.8497430556772, 528.0912990967861, 526.8689921979229, 507.2391811524838, 492.40567965949714, 461.20499216578435, 456.28660430488026, 405.9050768836765, 327.20501827683466, 319.0727674303098, 300.5489685433705, 271.33050377354226, 264.0123507417047, 242.28630795353774, 230.1839666197324, 227.7075778296644, 219.57177718835476, 203.4256654803949, 7322.882674512291, 632.6047381034053, 3676.865109015586, 4042.9700945653494, 437.07999806207357, 1361.8506132415826, 737.3935719210339, 4959.822312389026, 2269.507719711959, 677.9305958439313, 1920.7758800567071, 875.0721375391824, 1537.056154774202, 2750.813762509878, 2644.3794862550426, 3596.375572883636, 1733.9777130892305, 1185.9432859380515, 2299.4866890532608, 3251.121354624549, 1801.4150866994046, 4913.727205460606, 2795.0564653071037, 1083.1603459148967, 1349.8973979208815, 3172.1744727256973, 1505.2619069603322, 1518.4111780145613, 1566.6580493290012, 1302.1139046963945, 1092.15846963175, 1454.7615165742538, 679.6625622524477, 612.2717918745959, 518.8976718638437, 433.066138879658, 430.84181420219016, 416.6085394808022, 365.77496676451443, 352.7229924498129, 337.5175846303303, 280.1240766139755, 253.85095337772825, 252.12476610586256, 240.18396800848208, 224.43809260867087, 211.02784577543764, 198.12654716033379, 194.13799649057097, 176.5445495775627, 172.25756934982823, 167.54286808997944, 164.1736016675508, 161.78528865141044, 158.909448165611, 158.00020769985352, 153.47590091873514, 152.7611637709287, 1248.8988104062926, 147.15872497057708, 144.39699151531158, 758.8404418793207, 748.5117331540257, 357.87712036817794, 525.0187100891163, 2862.9439169148345, 390.9736194138117, 589.5917298369947, 1390.5750929432681, 342.1180966828607, 257.9990000552823, 2288.3854619262393, 885.9780807640308, 615.0498419869443, 4165.770420324122, 976.611769368188, 2731.096416069802, 3609.429353180319, 806.1261323668818, 1326.3273106465876, 1130.158762336194, 573.3916542189805, 479.7832390651139, 705.263223731092, 517.714472260362, 518.9705718023716, 848.5105802939775, 935.709206263653, 937.502778498737, 528.1156061249859, 592.11645631526, 848.9729286957038, 4325.259115447878, 536.2288378073042, 467.62753971749385, 436.5661498297508, 392.90309196114083, 363.83159040924664, 327.38982130780136, 296.59016070105605, 270.2726302162977, 240.19359911698328, 229.49025177258764, 228.73885800416687, 194.11703577161214, 183.62102349086624, 169.464491433721, 144.8520079643075, 143.76664846200063, 129.87920010514696, 128.91425627085624, 122.50503523128691, 115.92070650416376, 115.7667168762373, 110.45329136353624, 106.04831790452863, 105.271462048887, 104.89871081677056, 98.1505261456964, 87.93045996352689, 87.57983025493793, 580.4773747808986, 447.0414842801933, 499.6320561921504, 949.4403040857161, 2396.6411718200284, 697.9554184143074, 708.062928316685, 358.22780776157117, 285.2639665508272, 1659.900721300524, 3278.8259329633456, 171.94519662198792, 2030.020676852, 231.20574776041516, 1091.3879508770806, 2235.4161418921944, 900.3882954795084, 698.145856440671, 301.5276692148848, 886.1541794779812, 581.0548520705245, 488.59949500098287, 605.6068557995827, 389.38330314126483, 500.8909048918496, 389.60344369907244, 616.6542891326989, 429.65938924908363, 329.40825552007647, 323.3132855423155, 313.7460181779731, 262.8559429689725, 257.4098407370657, 249.291227814354, 235.02761772661512, 609.9326557006242, 201.42885092324434, 184.9398413777624, 181.71316883665168, 165.40772287165981, 164.8992662054006, 163.67653097581152, 162.94812486445772, 161.07580605723126, 150.7556727445645, 149.6174867029577, 149.39659181965882, 146.45114662553976, 145.0960635536122, 134.81354517521552, 133.9891770861278, 179.92847864470144, 119.04552680431387, 116.20405280014496, 115.47116261045089, 112.85631689697678, 387.5534884460843, 906.535637195918, 838.4381004437466, 2189.622131191847, 260.98983704137413, 299.2192791317244, 347.59886474561284, 850.0385731851629, 383.84299465706573, 333.22177506084086, 358.1206735335116, 511.7645114232761, 598.631427657121, 177.76160181180302, 327.57591524263074, 189.00105222178686, 226.69574095753907, 321.3938839125161, 227.03031803177203, 223.04967202901187, 870.541253241983, 471.0637523958751, 400.4449318644558, 242.93262100619972, 205.79050817436405, 195.1345333476201, 185.2339654624628, 144.31807267825826, 131.31580814205552, 115.00603822759311, 112.72307865993098, 101.22770901550776, 97.69792186146339, 96.35333773915227, 95.84441922479222, 95.64902951101709, 92.71145604434612, 91.92991616741216, 88.7304440022713, 88.34358356611482, 88.12520180355735, 84.86491410368846, 82.8359203608759, 81.47794714205968, 81.21226229936191, 78.98978140397145, 77.72720668388953, 73.94751503263852, 73.33920786002581, 73.26888426385332, 243.77265159245863, 164.61986197139785, 452.80390944422237, 199.71208609904306, 133.61278308571912, 371.5129826444867, 988.2780788334552, 447.5741719991097, 231.2496047399561, 128.40524060639345, 222.57544393396705, 188.46659248457664, 234.74855237334734, 249.24548037298436, 122.73506736093732, 126.18446300145136, 696.9894113801495, 480.56606941492134, 325.2437951877253, 239.296444323396, 208.69008207861984, 189.9980553115651, 189.4271785514052, 147.0430525740115, 140.845334998623, 134.27320595693092, 123.45013455096559, 121.7805680030504, 109.36298217632451, 94.9173447797917, 94.91476113651218, 94.80640169197444, 88.0993811766819, 86.14425881035588, 85.00312861656155, 83.50203187116279, 80.7054367628775, 79.80579591225806, 79.5751741315491, 77.29019459491452, 69.9999979127311, 68.37573545938506, 67.74336166557025, 66.18635072409258, 64.58772596175095, 62.24342651744176, 479.3070221031987, 445.56792914598503, 347.62096450827477, 944.3333986310431, 164.54315255230438, 86.92728339840443, 214.09566004473942, 413.45743482664255, 158.26309263952848, 163.5411506457402, 294.1437221998998, 205.0429353420259, 282.08891241100184, 249.19739898895367, 194.06017490720743, 297.8774661549463, 111.75402659318564, 149.60833933903805, 197.5631977106496, 166.73979136295858, 128.45588016900342, 128.9508194976682, 4273.24155500532, 425.36225478057435, 386.12450540733636, 337.3629834995944, 240.2518065211132, 236.01175628172905, 230.3182376645723, 197.92461692118192, 196.9175681341618, 190.71945673777262, 181.546131284325, 181.27597049158362, 159.04882669221033, 150.972824478293, 126.11289666896997, 99.13051709641492, 92.31487047043726, 77.90906382624416, 71.09931402688918, 64.79180490176545, 59.521698313060895, 54.12186567968728, 52.569994007648674, 51.66981692110478, 47.72832251670342, 44.97918798876389, 43.30191350730487, 43.01183021956227, 39.738847123208096, 36.95708542043703, 786.4445939333552, 209.4198509855498, 230.08617434720216, 420.486838036716, 474.75639354891587, 161.24102168155133, 678.5135848723596, 157.1416670751252, 115.91422735826418, 408.52963067317233, 123.72732386388039, 162.81930070146413, 151.87951126388947, 248.10591578717253, 177.25274457942112, 746.6108867400312, 379.9738835270915, 923.0245900323063, 353.2202012280144, 269.3531254025682, 233.1206505062946, 177.69520218169825, 176.19616164502276, 172.81597933136615, 149.89394221830437, 136.56954966521084, 131.0533903807039, 127.30361883587977, 125.38183727727967, 124.54826104057543, 120.76836125669305, 102.00326944319659, 94.57594925900908, 92.17183702256034, 90.69486830045447, 85.83422554121162, 83.55554862118, 76.04441494942323, 75.50977510158796, 75.09035606658568, 73.64365500999646, 70.28594460422497, 69.33367401726713, 68.52350323951738, 63.8143927924956, 280.4538235564064, 123.01437601333518, 198.12197852662524, 300.36452802054754, 265.0692171575631, 131.74835246966052, 172.11063906428723, 102.93638404717173, 122.27480958172453, 99.02501723704067, 179.30729057425486, 162.35564366481748, 116.82844414981501, 116.36041212945031, 115.49615956886043, 109.59675297646325, 109.08877434255788, 92.58241879320754, 85.20065108372758, 81.84290016949873, 81.43362201952057, 70.93321348584838, 68.35593686321393, 67.81597514566666, 61.34639700772574, 59.92433732959284, 58.600236592117206, 54.56927723233898, 54.45027565802214, 50.72285467673257, 49.288935679782846, 48.83807199816746, 46.87425585283398, 46.14443219067654, 44.058761141487615, 43.92146816651266, 41.38155350297804, 40.239853602646726, 38.39742755324952, 37.869306347262224, 484.647318292708, 194.29104285037423, 353.5144614780548, 148.18577274195275, 466.87701836027907, 2004.1630202878225, 68.61702457625044, 193.70434241281393, 73.64619252687882, 189.38503556457658, 69.19589044795892, 90.14564312621575, 90.85935165600725, 103.16737938015687, 60.70016354199531, 61.084831053015144, 2710.0918229805893, 2238.6863220530263, 237.89570175201646, 216.71040357265196, 146.51846189063775, 96.88087720057302, 91.17095021026897, 72.61482193931015, 42.962752283442725, 35.60474059137985, 35.08239813952865, 34.94072276684974, 33.46962044153689, 33.36924538032726, 32.219183143950914, 31.515682264465525, 30.463278836629502, 30.11819916240606, 29.92427712983322, 29.91511164998293, 27.87738275030073, 26.513023375631104, 25.773511278723635, 24.97155105602628, 24.175068288475323, 23.25010826799252, 23.067057667498062, 22.887990476158535, 22.859719187540442, 21.902639318707916, 131.30292627607213, 109.86294676683667, 34.26022120567154, 24.51822368283295, 29.91132516379536, 25.07385039710173, 213.66237510838775, 174.27145615879283, 129.15729424340023, 123.18474520980983, 119.23003867156741, 118.67441027829493, 116.75599408407662, 95.4972775182508, 93.64011138299932, 91.15175670725128, 89.5640252035324, 82.15133545903738, 80.87696127385094, 75.73591000273834, 72.59457351450017, 68.37561855120765, 66.55554819843512, 65.48508076580687, 62.68370491453912, 60.163492684927554, 57.76634081160427, 56.932277957802974, 56.2337167534644, 55.185558812456435, 51.84399713799024, 50.61038829650531, 46.50292476747879, 45.226249603336, 45.06456081249872, 44.27078709979753, 749.2823037373571, 1077.5611706740717, 152.4193431311901, 97.21010224314463, 98.58627173736011, 62.28516335419122, 55.21138580060305, 779.1702235125217, 529.4899897980347, 209.84352266320997, 133.0822482561285, 119.53591041695981, 95.47005116365254, 86.65752357477416, 78.5503738639491, 73.13973227268211, 66.9544883789918, 64.93824163945577, 63.70342015879911, 55.78508221849804, 52.159248823128515, 50.73336600088565, 49.63989999296522, 48.43185805957396, 44.6453399562851, 43.698122052553046, 41.33000304995353, 39.914432617827565, 36.66839066697191, 36.289096652362886, 35.769932030405236, 35.700596241131166, 34.826767809181334, 34.82001538383122, 34.41107603175872, 31.498846668689847, 31.108843062472744, 1038.0547813970597, 118.74925100758915, 111.93134309387636, 44.269739544327734, 47.99326965787452, 42.18197055123439, 779.3860016113251, 133.57366738325712, 121.5300567725392, 113.87183493113486, 109.94043834880834, 105.92772440290537, 102.0645719457331, 93.81512042412415, 69.0073235877567, 66.39452450263902, 65.90907811801262, 61.11200487812713, 59.31950073754517, 55.29508249703975, 55.18650529566054, 50.69654812464462, 45.44437283794887, 44.43273035739553, 42.64788670038824, 41.5062015592252, 41.14579121203128, 39.686595131919496, 35.82284398064703, 33.2766364849216, 32.16930448125156, 31.948655945674336, 31.89098524848878, 31.37691008223986, 31.317709389020422, 30.47440498467997, 169.5970283727198, 214.92220506656457, 233.43610938526865, 376.14461633824465, 107.91853283492672, 65.30851441166081, 68.77477819514715, 2465.8654020647064, 110.27937123338315, 79.90207419301557, 73.14639493962434, 72.04540633644181, 70.87962528954004, 68.7041373446154, 50.37614612033339, 49.175928429884024, 48.88803579586088, 48.73271925917679, 47.99639264684006, 44.666140724778636, 43.52395733580089, 37.121566835207666, 36.27794905523635, 35.07030314322763, 34.03966984940184, 31.71262928176487, 27.799184998724762, 27.63486163021088, 26.195006071309017, 25.95583605102462, 25.308000655902955, 25.206344794912546, 24.63442455640984, 24.7350888811214, 23.097476919938018, 23.98744939824243, 23.98744939824243, 82.03735134248564, 151.3107542645467, 36.497783363489376, 30.413647333841492, 27.148951504444664, 947.9989072484502, 149.30892417942565, 114.97128703768207, 100.61680698907894, 100.56853628472344, 100.16021306337893, 75.47000671308307, 59.89335011241948, 58.08449333678797, 57.08152924729425, 56.690036316044015, 48.8398876882841, 47.71478692730426, 46.268720689668925, 42.10840795123069, 40.26014185311492, 40.039637507396954, 38.88981743000041, 35.28742192181665, 34.14972185692663, 33.85403211544381, 33.879029641238496, 31.877434366722124, 27.367596994885762, 27.07494276562616, 25.840139364172575, 24.726067814573664, 24.554126155330664, 23.98858708993857, 23.80444553628844, 154.14049003779576, 136.80370462087345, 151.1420870892293, 39.356831811907725, 45.16797839927888, 35.708738347477805], \"Term\": [\"baby\", \"come\", \"want\", \"wanna\", \"heart\", \"get\", \"good\", \"love\", \"need\", \"don\", \"know\", \"man\", \"life\", \"ain\", \"go\", \"just\", \"break\", \"little\", \"night\", \"bad\", \"thing\", \"old\", \"away\", \"girl\", \"say\", \"ve\", \"ring\", \"let\", \"blue\", \"will\", \"love\", \"win\", \"hold\", \"fall\", \"lose\", \"walk\", \"lie\", \"help\", \"maybe\", \"really\", \"hurt\", \"lonely\", \"chance\", \"goodbye\", \"easy\", \"fool\", \"forever\", \"matter\", \"arm\", \"truth\", \"promise\", \"finally\", \"anymore\", \"cloud\", \"today\", \"worth\", \"reason\", \"count\", \"lover\", \"difference\", \"know\", \"strong\", \"ve\", \"will\", \"wouldn\", \"try\", \"tear\", \"don\", \"think\", \"use\", \"leave\", \"stay\", \"away\", \"make\", \"way\", \"say\", \"tell\", \"eye\", \"feel\", \"let\", \"because\", \"just\", \"time\", \"mind\", \"do\", \"go\", \"look\", \"heart\", \"come\", \"thing\", \"long\", \"tonight\", \"whiskey\", \"music\", \"hit\", \"bottle\", \"radio\", \"slow\", \"wheel\", \"truck\", \"floor\", \"drinking\", \"drunk\", \"midnight\", \"friday\", \"stuff\", \"seat\", \"glass\", \"kick\", \"heel\", \"problem\", \"dog\", \"cup\", \"key\", \"spin\", \"lean\", \"stick\", \"week\", \"song\", \"shot\", \"shoulder\", \"drink\", \"drive\", \"bout\", \"car\", \"night\", \"fast\", \"pick\", \"light\", \"bar\", \"body\", \"girl\", \"play\", \"everybody\", \"get\", \"turn\", \"ain\", \"go\", \"kiss\", \"right\", \"long\", \"town\", \"rock\", \"hand\", \"road\", \"head\", \"little\", \"time\", \"let\", \"sun\", \"just\", \"work\", \"good\", \"buy\", \"bit\", \"people\", \"house\", \"money\", \"lot\", \"second\", \"lucky\", \"pay\", \"half\", \"guy\", \"thank\", \"sittin\", \"naughty\", \"twice\", \"probably\", \"dad\", \"check\", \"beg\", \"mad\", \"funny\", \"treat\", \"judge\", \"walkin\", \"ass\", \"advice\", \"mmm\", \"later\", \"pretty\", \"nothing\", \"real\", \"boy\", \"little\", \"big\", \"friend\", \"lookin\", \"bet\", \"thing\", \"get\", \"proud\", \"ain\", \"tired\", \"day\", \"just\", \"look\", \"world\", \"spend\", \"say\", \"man\", \"old\", \"girl\", \"hard\", \"time\", \"do\", \"angel\", \"year\", \"devil\", \"bear\", \"alive\", \"voice\", \"clear\", \"child\", \"god\", \"lord\", \"peace\", \"christma\", \"afraid\", \"blood\", \"bird\", \"church\", \"simple\", \"santa\", \"lift\", \"mistletoe\", \"survive\", \"glory\", \"mother\", \"wing\", \"prayer\", \"bright\", \"future\", \"hurry\", \"fill\", \"answer\", \"hope\", \"live\", \"dream\", \"life\", \"pray\", \"story\", \"grow\", \"sing\", \"soul\", \"die\", \"fly\", \"home\", \"day\", \"shadow\", \"hear\", \"rest\", \"give\", \"night\", \"world\", \"light\", \"daddy\", \"shake\", \"raise\", \"brother\", \"wood\", \"horse\", \"cowboy\", \"clothe\", \"new_york\", \"cadillac\", \"root\", \"fish\", \"gate\", \"folk\", \"war\", \"cruel\", \"tick\", \"law\", \"rainin\", \"flow\", \"awake\", \"hometown\", \"trade\", \"state\", \"joe\", \"chasin\", \"hook\", \"hero\", \"sober\", \"dixie\", \"dirt\", \"momma\", \"mama\", \"boot\", \"hat\", \"black\", \"old\", \"hell\", \"son\", \"hole\", \"ride\", \"meet\", \"town\", \"man\", \"ground\", \"run\", \"wind\", \"wild\", \"chase\", \"earth\", \"chain\", \"stone\", \"mountain\", \"rollin\", \"follow\", \"lane\", \"soldier\", \"welcome\", \"thunder\", \"coat\", \"regret\", \"swing\", \"tune\", \"freedom\", \"fame\", \"age\", \"hill\", \"county\", \"small_town\", \"race\", \"treasure\", \"bank\", \"ocean\", \"white_trash\", \"grass\", \"blowin\", \"river\", \"free\", \"young\", \"high\", \"reach\", \"scream\", \"blow\", \"sky\", \"paint\", \"mile\", \"fly\", \"foot\", \"road\", \"rain\", \"kind\", \"run\", \"string\", \"water\", \"play\", \"take\", \"ground\", \"roll\", \"baby\", \"fine\", \"shine\", \"beat\", \"air\", \"nice\", \"whoa\", \"finger\", \"train\", \"babe\", \"tangle\", \"quit\", \"wrap\", \"diamond\", \"shame\", \"rhythm\", \"sip\", \"homegrown\", \"steady\", \"silver\", \"cryin\", \"reckless\", \"groove\", \"powerful\", \"dice\", \"reputation\", \"countin\", \"laughter\", \"valley\", \"saw\", \"crazy\", \"ready\", \"ice\", \"sweet\", \"roll\", \"drop\", \"run\", \"low\", \"gold\", \"sun\", \"shin\", \"honey\", \"kinda\", \"feel\", \"mind\", \"country\", \"sugar\", \"blue\", \"texas\", \"drinkin\", \"city\", \"sunset\", \"sand\", \"south\", \"drivin\", \"beach\", \"chillin\", \"tennessee\", \"missin\", \"queen\", \"burnin\", \"hangin\", \"workin\", \"california\", \"mouth\", \"goodnight\", \"southern\", \"layin\", \"muddy\", \"makin\", \"shinin\", \"coast\", \"kentucky\", \"dalla\", \"golden\", \"white\", \"job\", \"summer\", \"red\", \"hot\", \"sunshine\", \"water\", \"shade\", \"sun\", \"big\", \"bone\", \"jack\", \"clock\", \"army\", \"hallelujah\", \"lazy\", \"early\", \"dancing\", \"yea\", \"tongue\", \"crown\", \"busy\", \"weight\", \"bell\", \"desire\", \"ash\", \"boogie\", \"block\", \"loose\", \"goin_platinum\", \"sway\", \"erase\", \"diggin\", \"repeat\", \"mighty\", \"forth\", \"generation\", \"adore\", \"john\", \"used\", \"party\", \"tie\", \"round\", \"dead\", \"dance\", \"come\", \"shout\", \"pour\", \"drown\", \"rain\", \"lady\", \"jump\", \"step\", \"let\", \"corner\", \"shoot\", \"want\", \"need\", \"like\", \"choice\", \"different\", \"wide_open\", \"space\", \"weren\", \"tease\", \"abilene\", \"switch\", \"ignore\", \"complicated\", \"numb\", \"blade\", \"champagne\", \"palm\", \"makeup\", \"closet\", \"body_poetry\", \"breaking\", \"cuervo_gold\", \"gone\", \"suffer\", \"hungover\", \"egg\", \"completely\", \"cake\", \"foreign\", \"crystal_clear\", \"breathe\", \"worry\", \"thought\", \"dash\", \"job\", \"say\", \"carry\", \"weekend\", \"broken\", \"imagine\", \"send\", \"forgiveness\", \"lonesome\", \"purple_rain\", \"endlessly\", \"buildin\", \"haven\", \"belong\", \"familiar\", \"chest\", \"heartach\", \"unburdend\", \"strike\", \"smooth\", \"longer\", \"silent\", \"match\", \"brave\", \"paying_attention\", \"bleed\", \"chill\", \"war_paint\", \"distance\", \"slam\", \"complain\", \"self\", \"break\", \"heart\", \"away\", \"forget\", \"soul\", \"memory\", \"pain\", \"somebody\", \"woman\", \"tryin\", \"holdin\", \"velvet_elvis\", \"devoted\", \"heavy\", \"fightin\", \"tip\", \"resist\", \"cheater\", \"local\", \"gunna\", \"spendin\", \"plane\", \"dreamer\", \"beauty\", \"atlantis\", \"silence\", \"bike\", \"define\", \"reality\", \"limousine\", \"hoo\", \"dee\", \"rhinestone\", \"thumb\", \"common\", \"cowgirl\", \"senorita\", \"man\", \"livin\", \"everybody\", \"pride\", \"understand\", \"hand\", \"wish\", \"shouldn\", \"wash\", \"paw_truck\", \"storm\", \"gift\", \"mercury\", \"spill\", \"ghost\", \"losin\", \"sail\", \"tv\", \"blonde_hair\", \"ship\", \"anytime\", \"angry\", \"winter_wonderland\", \"fake\", \"jet\", \"mix\", \"fingertip\", \"holiday\", \"wonderful\", \"mend\", \"loving\", \"shore\", \"purple\", \"stain\", \"totally\", \"heartbreak\", \"king\", \"beautiful\", \"bring\", \"ring\", \"sea\", \"poor\", \"land\", \"wanna\", \"business\", \"drug\", \"rose\", \"married\", \"standin\", \"heartbeat\", \"sleepin\", \"usin\", \"halfway\", \"soak\", \"awww\", \"sparkle\", \"walking\", \"hotel\", \"woe\", \"drift\", \"addict\", \"stead\", \"cock\", \"wire\", \"mona_lisa\", \"drifter\", \"taillight\", \"naturally\", \"minded\", \"silver_thunderbird\", \"meadow\", \"meeeeeeee\", \"okey\", \"end\", \"don\", \"disappear\", \"secret\", \"honky_tonk\", \"bad\", \"choose\", \"case\", \"heartache\", \"runway\", \"insane\", \"whisky\", \"unstoppable_today\", \"mexico\", \"oughta\", \"brain\", \"excuse\", \"beggar\", \"pill\", \"crushin\", \"bud\", \"company\", \"confusion\", \"decision\", \"loser\", \"nerve\", \"needs_superhero\", \"gray\", \"thrill\", \"fifth\", \"bowl\", \"changin\", \"liver\", \"cousin\", \"fuckin\", \"family\", \"sorry\", \"burn\", \"wave\", \"kill\", \"comin\"], \"Total\": [4274.0, 3990.0, 2710.0, 2466.0, 2596.0, 7460.0, 4331.0, 8222.0, 2239.0, 5477.0, 7379.0, 1872.0, 2585.0, 4770.0, 6854.0, 7742.0, 1378.0, 3245.0, 3200.0, 948.0, 2962.0, 1611.0, 1690.0, 2895.0, 4509.0, 3788.0, 968.0, 4292.0, 925.0, 4194.0, 8222.010189168988, 1867.8449365501729, 1504.8625567672918, 1407.4532789236077, 1254.745194757545, 1076.827886268303, 961.2179649145672, 780.0238267772104, 776.1760899754277, 737.869168698738, 670.4090066418439, 641.1667325139018, 529.7585195131437, 529.0000743380469, 527.7777681383196, 508.1484638904045, 493.31445466928045, 462.11376729324417, 457.1953796897524, 406.8138528627139, 328.11379378231413, 319.98154333892825, 301.45774367317864, 272.23928135583765, 264.92112575313666, 243.1950837048953, 231.09274191514183, 228.61635401073355, 220.48055305672676, 204.33444445814808, 7379.877251961433, 637.6911519554502, 3788.1739243573716, 4194.833670175805, 442.26509270036416, 1421.19361882761, 759.0881220486147, 5477.481278253785, 2440.8718739390947, 698.7227730460605, 2100.2103913664646, 920.6219268616915, 1690.3246145113, 3261.7328606382275, 3161.572062376397, 4509.108020284332, 1996.4593287448022, 1318.4369178105014, 2821.650504221823, 4292.567076355374, 2227.2533141746003, 7742.032812463419, 4232.429601522716, 1268.6317819977403, 1795.1867084449414, 6854.885901738046, 2551.986733426973, 2596.8214650656573, 3990.1192598705907, 2962.853842668324, 2223.159768797055, 1455.668621020424, 680.5696676682445, 613.1788979459272, 519.8047770564609, 433.97324481551044, 431.7489187488566, 417.51564392729455, 366.68207145271924, 353.63009724280414, 338.4246897931722, 281.03118309862094, 254.7580578029676, 253.03187131706412, 241.0910754181839, 225.34519873740604, 211.9349507713834, 199.03365188306094, 195.04510071103942, 177.45165535454774, 173.16467543254564, 168.4499729899818, 165.08070665396002, 162.6923931687314, 159.81655265855667, 158.90731235679291, 154.3830058235611, 153.66826859259555, 1256.4738974702004, 148.0658293598828, 145.30409654285504, 777.3536745207558, 766.6162314179081, 364.1949979674798, 544.2302316347179, 3200.6015933318668, 408.53666673024077, 631.089843171918, 1614.467821409085, 361.49164573673943, 267.8441327918063, 2895.0055176806454, 1084.3798020968004, 727.8261058229415, 7460.98553200241, 1344.2702888349943, 4770.548146243506, 6854.885901738046, 1200.770004739427, 2385.1932233611433, 2223.159768797055, 829.0138735741796, 695.5880782703952, 1640.9407175454803, 859.4503877786119, 878.1236347946179, 3245.98938020588, 4232.429601522716, 4292.567076355374, 1094.3934324970492, 7742.032812463419, 849.8767122954989, 4331.287366555351, 537.1326219042678, 468.53132340643134, 437.4699338594408, 393.83461928913636, 364.7353741318965, 328.2936048164579, 297.49394595117303, 271.17641458316723, 241.09738286282976, 230.3940350090163, 229.6426423122667, 195.02082215872505, 184.52480747543524, 170.36828315723736, 145.7558691556328, 144.67043191656398, 130.782984514359, 129.81804049442843, 123.40882022706441, 116.82449091733389, 116.67050066844398, 111.35707553689477, 106.95210288365854, 106.17524609038135, 105.80249579583713, 99.05431466176813, 88.83424485625538, 88.48361410718337, 600.1669389068824, 466.7560218918912, 529.230414003792, 1035.5508859173578, 3245.98938020588, 843.5120989105262, 885.3364162652094, 416.65679151346797, 333.8757240045956, 2962.853842668324, 7460.98553200241, 186.91873537457198, 4770.548146243506, 275.742835356039, 2380.720331099795, 7742.032812463419, 2551.986733426973, 1778.7053358701028, 429.6692595194664, 4509.108020284332, 1872.3644874480894, 1611.4507229600074, 2895.0055176806454, 1121.1360007904775, 4232.429601522716, 1795.1867084449414, 617.5635848788958, 430.56868567891377, 330.3189368003081, 324.2225812612582, 314.65531375734014, 263.76524137840204, 258.3191375510696, 250.20052392717776, 235.93691307324423, 612.4729011994833, 202.33814702275563, 185.84913621609638, 182.62249090063187, 166.31701833318516, 165.80856226832867, 164.58582699731465, 163.8574214146855, 161.9851015046143, 151.66496992617897, 150.52678431503466, 150.30588804280384, 147.360443004184, 146.00535886064034, 135.722840379321, 134.8984725321353, 181.15450051712543, 119.95482332628283, 117.11334952217983, 116.38045933587877, 113.7656121282719, 391.7385561676211, 929.6345236053547, 891.1081601851006, 2585.2233092883735, 277.0694808577467, 325.0662311012047, 388.60467132351584, 1199.0089676440468, 489.0828613228624, 461.9791147251329, 653.1051098164684, 1353.381779290399, 2380.720331099795, 201.98228376693484, 1118.6509383289836, 256.32755708884974, 529.5098234900511, 3200.6015933318668, 1778.7053358701028, 1614.467821409085, 871.445053365266, 471.9675525804745, 401.34873239223464, 243.83642170922755, 206.69430831306337, 196.03833327783298, 186.13776556380392, 145.22187424245678, 132.21960945919085, 115.90983864197179, 113.62687824970587, 102.13150930814662, 98.60172335368125, 97.25713738326488, 96.74822277181977, 96.55283653289597, 93.61525706320803, 92.83371649830316, 89.63425489122214, 89.24738459461946, 89.02900330764814, 85.7687148090276, 83.73972484419195, 82.3817470830209, 82.11606339733565, 79.89358208400957, 78.63100800231844, 74.85131757181706, 74.24301051073677, 74.17268377026002, 249.2737909981306, 172.52215075047792, 526.7176283501126, 228.445505945329, 146.7269145503893, 484.7220799519152, 1611.4507229600074, 715.8002054511164, 313.0278081089749, 148.18212087950718, 572.7475018328213, 476.3286017656328, 829.0138735741796, 1872.3644874480894, 386.507983112101, 1429.7920756840472, 697.8941735908161, 481.470839410384, 326.1485578941339, 240.2012067546759, 209.5948455741306, 190.90281715003, 190.3319412591695, 147.9478146940958, 141.750097139499, 135.17796855062966, 124.35489756381419, 122.68533138729626, 110.26774455363628, 95.82210912859807, 95.81952476022863, 95.7111635319948, 89.00414405050925, 87.04902088623007, 85.90789250868646, 84.40679606950518, 81.61019808470401, 80.71055840691578, 80.47993594973534, 78.19495687903628, 70.90476079381752, 69.28049821399776, 68.64812320795336, 67.0912559283359, 65.49248983588117, 63.14818823028107, 496.15180624435317, 461.4905770147353, 376.9214018730415, 1162.0429003447043, 181.61186443608972, 91.44239408506645, 297.2202059321874, 840.2524050937891, 225.84642212997457, 243.69413435846988, 653.1051098164684, 419.2342422969632, 859.4503877786119, 755.6927019564675, 490.74224977318954, 1429.7920756840472, 151.85913346806134, 389.40552570573465, 1084.3798020968004, 907.8453720856876, 386.507983112101, 828.3215552607272, 4274.147603580464, 426.2683037100208, 387.03055461880956, 338.26903231684884, 241.15785606141182, 236.91780637428857, 231.22428555988142, 198.83066664054178, 197.8236174191581, 191.62550479812663, 182.4521807305073, 182.182021174592, 159.95487479384417, 151.87887384586259, 127.01894606775947, 100.03656612377652, 93.22091972588612, 78.81511741780945, 72.00536476048951, 65.69785513687194, 60.42774666566723, 55.02791433834404, 53.476045954682874, 52.57587019309715, 48.63437200060154, 45.88524052935257, 44.207963590272996, 43.91788184656094, 40.64489696116377, 37.86313723779805, 851.875405905362, 231.50122289706093, 291.8200494501229, 624.7031850308658, 828.3215552607272, 225.90440651521973, 1429.7920756840472, 227.17894350819975, 154.72515399762642, 1094.3934324970492, 183.93725940595846, 311.07481383287853, 341.33551261614974, 2821.650504221823, 1268.6317819977403, 747.523472571765, 380.88647228541265, 925.398682310436, 354.1327877025352, 270.26571213182365, 234.0332505581359, 178.60778901215977, 177.10874784760333, 173.72856524829604, 150.80652872308983, 137.48213591104263, 131.96597765358493, 128.21620506533617, 126.2944237284282, 125.46084802687088, 121.68094842090792, 102.9158560274722, 95.48853598283942, 93.08442305759769, 91.60745586462085, 86.74681404052653, 84.46813488534522, 76.95700384852722, 76.42236237653078, 76.00294256415762, 74.55624130228144, 71.19853273431674, 70.2462622790756, 69.43609253017257, 64.72697962810388, 392.3595049153294, 153.76975107890803, 301.02131056185596, 570.5844389979551, 478.0015193813512, 216.3141210180912, 389.40552570573465, 171.77112801954783, 1094.3934324970492, 843.5120989105262, 180.21366235805925, 163.26201591284783, 117.73481609310713, 117.26678760201942, 116.40253065466571, 110.50312804374826, 109.99514624672995, 93.52667332367857, 86.10702382626474, 82.7492730483613, 82.33999410233483, 71.83958528576758, 69.2623083420342, 68.72234795271244, 62.2527717422182, 60.83071027801227, 59.5066070617746, 55.47564888036457, 55.35664665770502, 51.63653370381535, 50.195306798770055, 49.74444983666447, 47.78062974193251, 47.050803842651995, 44.96513413755898, 44.82784956538787, 42.28793234323491, 41.1462239136741, 39.303805106428335, 38.775687670497604, 497.40051478123837, 199.97088724911615, 491.5554375662695, 183.05611105826068, 718.7324569091815, 3990.1192598705907, 82.44496254972474, 463.19926666004324, 98.077973623265, 755.6927019564675, 110.85241501282997, 224.7052521304424, 276.5309278477759, 4292.567076355374, 92.39796562186122, 264.0165074994103, 2710.996628033957, 2239.591178697573, 238.80050661978402, 217.6152141510892, 147.42326760243378, 97.78568164463583, 92.07615356034809, 73.51962853963532, 43.867559627782114, 36.5095539718463, 35.98720525992637, 35.845529249331236, 34.374425851901364, 34.27405216073971, 33.12398793143764, 32.4204872394317, 31.36808603739006, 31.023007486974123, 30.829085802373154, 30.822705339135865, 28.78218949448385, 27.418106996681253, 26.678315647160062, 25.876360236583743, 25.079873697959236, 24.15492883000296, 23.9718621385538, 23.79279810739996, 23.76453077386059, 22.80746341647702, 139.55699348537468, 274.30182462968446, 180.21846539188388, 36.02427380274914, 153.76975107890803, 4509.108020284332, 214.57606036829358, 175.18514175215782, 130.07097875734408, 124.09842996073189, 120.14372346345971, 119.58809698976765, 117.6696800817406, 96.4109943071268, 94.55380805615607, 92.0664430091837, 90.47771128281478, 83.06502043011812, 81.79065220743932, 76.64959585959582, 73.50826403327412, 69.2934410785368, 67.46923281098944, 66.39876505430257, 63.59738936170516, 61.07717769455717, 58.68002546539748, 57.845962508214285, 57.14740449189514, 56.099243918085094, 52.757683335798625, 51.525168270415534, 47.41661021896593, 46.13993481911357, 45.97824684981809, 45.18447960408003, 1378.5171529569336, 2596.8214650656573, 1690.3246145113, 462.7133631732562, 489.0828613228624, 353.110332870623, 529.0763373802454, 780.0813826734706, 530.4011487036878, 210.75468228462984, 133.99340796045507, 120.44715543393295, 96.38144778034254, 87.5686907694572, 79.46153356188707, 74.05089328290373, 67.86564987299145, 65.8494048307238, 64.61457956299991, 56.69624163696767, 53.070492707872404, 51.64452538028647, 50.551060516778676, 49.34301793689671, 45.558597230603354, 44.609281888623165, 42.24116709493261, 40.82559302224357, 37.57955034310874, 37.200257698011896, 36.68109337721135, 36.611761085926496, 35.73793222731802, 35.73117875230832, 35.32223658568365, 32.410005232921826, 32.02000460207195, 1872.3644874480894, 348.02551018605345, 727.8261058229415, 103.7212713381923, 246.78019241703345, 1640.9407175454803, 780.2991346024163, 134.4868006317488, 122.4431912239191, 114.7851449108103, 110.8535721252267, 106.84085911958559, 102.9777070305385, 94.72826093543432, 69.92045789303585, 67.30765850700453, 66.82221099572696, 62.02513911386042, 60.23264541070143, 56.20821703070005, 56.09963990515954, 51.60968344317364, 46.35750507246928, 45.345864069099, 43.561030714000225, 42.41934569010833, 42.0589265893611, 40.599727767306284, 36.73597684265329, 34.18977156453205, 33.08243789768934, 32.86178951121265, 32.80412527902474, 32.2900437808698, 32.23086231503351, 31.387539576401654, 220.2726137631389, 349.70419824902905, 475.79815877875103, 968.0672222241543, 196.40541279819004, 138.1332928125501, 272.25511987005564, 2466.7759514041018, 111.18992119930635, 80.81262585577967, 74.05694500017697, 72.9559566045355, 71.79017551312401, 69.61468690068212, 51.286696166152005, 50.088794618437696, 49.79858817431506, 49.64326909938793, 48.91372784860094, 45.576696296612106, 44.434506282206286, 38.03211689112173, 37.18850737503704, 35.98085350997736, 34.950220684364155, 32.62318581718597, 28.709777691885954, 28.545411938437095, 27.10556923120405, 26.866386302277526, 26.218551208688258, 26.11690143323942, 25.544986785076123, 25.6598834551099, 24.008027022525003, 24.94605943091706, 24.94605943091706, 778.4112537032006, 5477.481278253785, 113.51095581537558, 205.6165103503299, 81.4481692662682, 948.9098598080337, 150.21987718310734, 115.88224103467505, 101.52776297284204, 101.4795087168297, 101.0711673359642, 76.3809858456526, 60.80446246633847, 58.995445462126696, 57.992482626562996, 57.60098999215533, 49.75084035693562, 48.631584650233854, 47.179673941369735, 43.02094749878333, 41.17109545391487, 40.95059087124968, 39.80079092575391, 36.19837448053519, 35.060675892225895, 34.76498637268317, 34.79094506371573, 32.78838767770031, 28.2785508161511, 27.985897098214036, 26.751199435605624, 25.637021635157005, 25.46509887139401, 24.899543735351667, 24.716715392140244, 191.48880071925157, 206.8716474958079, 652.6110889001721, 137.61323020187842, 250.39319267322844, 327.45529024310315], \"loglift\": [30.0, 29.0, 28.0, 27.0, 26.0, 25.0, 24.0, 23.0, 22.0, 21.0, 20.0, 19.0, 18.0, 17.0, 16.0, 15.0, 14.0, 13.0, 12.0, 11.0, 10.0, 9.0, 8.0, 7.0, 6.0, 5.0, 4.0, 3.0, 2.0, 1.0, 1.0835, 1.0831, 1.083, 1.083, 1.0829, 1.0828, 1.0827, 1.0824, 1.0824, 1.0824, 1.0823, 1.0822, 1.0819, 1.0819, 1.0819, 1.0818, 1.0818, 1.0816, 1.0816, 1.0814, 1.0808, 1.0808, 1.0806, 1.0803, 1.0802, 1.0799, 1.0797, 1.0796, 1.0795, 1.0792, 1.0759, 1.0756, 1.0538, 1.0467, 1.0718, 1.041, 1.0546, 0.9843, 1.0108, 1.0534, 0.9943, 1.0329, 0.9886, 0.9132, 0.905, 0.8574, 0.9427, 0.9777, 0.879, 0.8057, 0.8714, 0.629, 0.6687, 0.9256, 0.7985, 0.3131, 0.5557, 0.547, 0.1487, 0.2614, 0.3728, 1.723, 1.7223, 1.7221, 1.7218, 1.7215, 1.7215, 1.7214, 1.7211, 1.721, 1.7209, 1.7204, 1.72, 1.72, 1.7198, 1.7196, 1.7193, 1.719, 1.7189, 1.7185, 1.7183, 1.7182, 1.7181, 1.718, 1.7179, 1.7179, 1.7177, 1.7177, 1.7175, 1.7175, 1.7173, 1.6995, 1.6997, 1.7061, 1.6877, 1.6121, 1.6797, 1.6556, 1.5743, 1.6685, 1.6861, 1.4885, 1.5215, 1.5552, 1.1408, 1.4041, 1.1658, 1.0822, 1.3251, 1.1367, 1.047, 1.3549, 1.3522, 0.8791, 1.2167, 1.1977, 0.3819, 0.2144, 0.2022, 0.995, -0.8471, 2.0664, 2.0661, 2.0658, 2.0655, 2.0654, 2.0651, 2.065, 2.0647, 2.0644, 2.0641, 2.0637, 2.0635, 2.0635, 2.0628, 2.0625, 2.0621, 2.0612, 2.0612, 2.0605, 2.0605, 2.0601, 2.0597, 2.0597, 2.0593, 2.059, 2.0589, 2.0589, 2.0583, 2.0572, 2.0572, 2.0341, 2.0243, 2.0099, 1.9806, 1.7641, 1.878, 1.844, 1.9164, 1.9101, 1.4881, 1.2453, 1.984, 1.213, 1.8913, 1.2875, 0.8252, 1.0257, 1.1322, 1.7133, 0.4405, 0.8973, 0.8741, 0.5029, 1.0099, -0.0667, 0.5397, 2.7169, 2.7163, 2.7156, 2.7156, 2.7155, 2.7149, 2.7149, 2.7147, 2.7145, 2.7142, 2.7139, 2.7135, 2.7134, 2.7129, 2.7129, 2.7128, 2.7128, 2.7128, 2.7124, 2.7123, 2.7123, 2.7122, 2.7121, 2.7117, 2.7116, 2.7116, 2.7108, 2.7106, 2.7105, 2.7104, 2.7076, 2.6932, 2.6575, 2.5523, 2.6586, 2.6355, 2.6069, 2.3744, 2.4761, 2.3917, 2.1175, 1.7459, 1.3379, 2.5906, 1.4902, 2.4137, 1.87, 0.42, 0.6598, 0.739, 3.0704, 3.0695, 3.0691, 3.0677, 3.067, 3.0668, 3.0665, 3.0652, 3.0645, 3.0636, 3.0634, 3.0625, 3.0622, 3.0621, 3.062, 3.062, 3.0617, 3.0616, 3.0613, 3.0612, 3.0612, 3.0608, 3.0605, 3.0604, 3.0603, 3.06, 3.0598, 3.0592, 3.0591, 3.0591, 3.0491, 3.0245, 2.9202, 2.937, 2.9778, 2.8054, 2.5825, 2.6018, 2.7686, 2.9281, 2.1262, 2.1442, 1.8097, 1.0549, 1.9243, 0.6439, 3.1193, 3.1187, 3.1178, 3.1168, 3.1162, 3.1158, 3.1158, 3.1144, 3.1142, 3.1139, 3.1133, 3.1132, 3.1123, 3.1111, 3.1111, 3.1111, 3.1104, 3.1101, 3.11, 3.1098, 3.1094, 3.1093, 3.1093, 3.1089, 3.1077, 3.1074, 3.1073, 3.107, 3.1067, 3.1061, 3.086, 3.0855, 3.0397, 2.9131, 3.0219, 3.0699, 2.7925, 2.4114, 2.765, 2.7217, 2.3229, 2.4054, 2.0065, 2.0112, 2.1928, 1.552, 2.8139, 2.164, 1.4179, 1.4259, 2.019, 1.2606, 3.2072, 3.2053, 3.2051, 3.2048, 3.2037, 3.2036, 3.2035, 3.2029, 3.2029, 3.2027, 3.2025, 3.2025, 3.2018, 3.2015, 3.2003, 3.1983, 3.1977, 3.1959, 3.1948, 3.1936, 3.1923, 3.1908, 3.1904, 3.1901, 3.1886, 3.1875, 3.1867, 3.1866, 3.1849, 3.1832, 3.1275, 3.1072, 2.9698, 2.8116, 2.6508, 2.8702, 2.4621, 2.8389, 2.9186, 2.2221, 2.8109, 2.5601, 2.3977, 0.7762, 1.2393, 3.5183, 3.5171, 3.5169, 3.5169, 3.5161, 3.5156, 3.5144, 3.5143, 3.5142, 3.5134, 3.5128, 3.5126, 3.5124, 3.5122, 3.5122, 3.512, 3.5106, 3.5099, 3.5096, 3.5095, 3.5089, 3.5086, 3.5076, 3.5075, 3.5074, 3.5072, 3.5066, 3.5064, 3.5063, 3.5053, 3.1837, 3.2963, 3.1012, 2.8778, 2.9299, 3.0237, 2.703, 3.0074, 1.3278, 1.3773, 3.635, 3.6345, 3.6323, 3.6323, 3.6322, 3.6318, 3.6318, 3.6299, 3.6295, 3.629, 3.629, 3.6274, 3.6269, 3.6268, 3.6254, 3.625, 3.6247, 3.6236, 3.6236, 3.6222, 3.6218, 3.6217, 3.6209, 3.6206, 3.6197, 3.6196, 3.6184, 3.6178, 3.6167, 3.6164, 3.6141, 3.6112, 3.3104, 3.4287, 3.2086, 2.9515, 3.4565, 2.7682, 3.3536, 2.2562, 3.1688, 2.7267, 2.527, -0.0882, 3.2199, 2.1763, 3.867, 3.867, 3.8636, 3.8632, 3.8612, 3.8581, 3.8575, 3.855, 3.8465, 3.8423, 3.8419, 3.8418, 3.8407, 3.8406, 3.8397, 3.8391, 3.8381, 3.8378, 3.8376, 3.8375, 3.8354, 3.8338, 3.8329, 3.8318, 3.8306, 3.8292, 3.8289, 3.8286, 3.8285, 3.8269, 3.8064, 2.9524, 2.2072, 3.4826, 2.2301, -1.3247, 3.9306, 3.9296, 3.9278, 3.9274, 3.9272, 3.9271, 3.927, 3.9253, 3.9251, 3.9248, 3.9247, 3.9238, 3.9236, 3.9228, 3.9223, 3.9215, 3.9212, 3.921, 3.9203, 3.9197, 3.9191, 3.9189, 3.9187, 3.9184, 3.9173, 3.9169, 3.9154, 3.9148, 3.9147, 3.9144, 3.3252, 3.0552, 1.5288, 2.3746, 2.3332, 2.1998, 1.6749, 4.0088, 4.0082, 4.0056, 4.0031, 4.0023, 4.0004, 3.9995, 3.9984, 3.9975, 3.9964, 3.996, 3.9957, 3.9937, 3.9926, 3.9921, 3.9917, 3.9913, 3.9897, 3.9893, 3.9881, 3.9874, 3.9854, 3.9851, 3.9848, 3.9847, 3.9841, 3.9841, 3.9838, 3.9814, 3.9811, 3.4201, 2.9347, 2.1377, 3.1585, 2.3725, 0.3489, 4.0673, 4.0616, 4.061, 4.0605, 4.0602, 4.0599, 4.0595, 4.0588, 4.0553, 4.0548, 4.0547, 4.0536, 4.0532, 4.0521, 4.052, 4.0506, 4.0486, 4.0481, 4.0473, 4.0467, 4.0465, 4.0457, 4.0433, 4.0414, 4.0405, 4.0403, 4.0402, 4.0398, 4.0397, 4.0389, 3.807, 3.5816, 3.3564, 3.1231, 3.4696, 3.3194, 2.6925, 4.2165, 4.2086, 4.2055, 4.2044, 4.2043, 4.2041, 4.2037, 4.1989, 4.1984, 4.1984, 4.1983, 4.1979, 4.1966, 4.1961, 4.1926, 4.192, 4.1912, 4.1904, 4.1885, 4.1846, 4.1844, 4.1826, 4.1823, 4.1815, 4.1813, 4.1805, 4.1801, 4.1782, 4.1776, 4.1776, 1.9667, 0.6278, 3.0822, 2.3057, 3.1182, 4.3073, 4.3022, 4.3004, 4.2993, 4.2993, 4.2992, 4.2963, 4.2932, 4.2927, 4.2925, 4.2923, 4.2898, 4.2893, 4.2888, 4.2868, 4.2859, 4.2858, 4.2851, 4.2828, 4.282, 4.2817, 4.2817, 4.2801, 4.2755, 4.2752, 4.2736, 4.2721, 4.2719, 4.271, 4.2707, 4.0913, 3.8947, 2.8455, 3.0565, 2.5956, 2.0923], \"logprob\": [30.0, 29.0, 28.0, 27.0, 26.0, 25.0, 24.0, 23.0, 22.0, 21.0, 20.0, 19.0, 18.0, 17.0, 16.0, 15.0, 14.0, 13.0, 12.0, 11.0, 10.0, 9.0, 8.0, 7.0, 6.0, 5.0, 4.0, 3.0, 2.0, 1.0, -2.8954999446868896, -4.377900123596191, -4.594099998474121, -4.661099910736084, -4.776000022888184, -4.929100036621094, -5.042699813842773, -5.251800060272217, -5.256800174713135, -5.307400226593018, -5.40339994430542, -5.4481000900268555, -5.6392998695373535, -5.640699863433838, -5.64300012588501, -5.681000232696533, -5.710700035095215, -5.776100158691406, -5.786900043487549, -5.903900146484375, -6.1194000244140625, -6.144599914550781, -6.204400062561035, -6.306600093841553, -6.334000110626221, -6.419899940490723, -6.471099853515625, -6.481900215148926, -6.5183000564575195, -6.594699859619141, -3.011199951171875, -5.460100173950195, -3.700200080871582, -3.6052000522613525, -5.829899787902832, -4.693399906158447, -5.3069000244140625, -3.400899887084961, -4.182700157165527, -5.390900135040283, -4.3495001792907715, -5.135700225830078, -4.572400093078613, -3.990299940109253, -4.029799938201904, -3.7223000526428223, -4.4517998695373535, -4.831699848175049, -4.16949987411499, -3.823199987411499, -4.413700103759766, -3.4102001190185547, -3.974400043487549, -4.922299861907959, -4.702199935913086, -3.8478000164031982, -4.593299865722656, -4.58459997177124, -4.553299903869629, -4.7382001876831055, -4.914100170135498, -3.9874000549316406, -4.7484002113342285, -4.852799892425537, -5.0183000564575195, -5.199100017547607, -5.2042999267578125, -5.237800121307373, -5.368000030517578, -5.404300212860107, -5.448400020599365, -5.634799957275391, -5.7332000732421875, -5.740099906921387, -5.788599967956543, -5.856400012969971, -5.918000221252441, -5.981100082397461, -6.001399993896484, -6.096399784088135, -6.120999813079834, -6.148799896240234, -6.169099807739258, -6.183700084686279, -6.201700210571289, -6.207399845123291, -6.236499786376953, -6.241099834442139, -4.139999866485596, -6.278500080108643, -6.297399997711182, -4.638199806213379, -4.651899814605713, -5.389800071716309, -5.0065999031066895, -3.3104000091552734, -5.301400184631348, -4.890600204467773, -4.03249979019165, -5.434800148010254, -5.7170000076293945, -3.53439998626709, -4.48330020904541, -4.848299980163574, -2.93530011177063, -4.385900020599365, -3.3575000762939453, -3.078700065612793, -4.5777997970581055, -4.079800128936768, -4.2399001121521, -4.918399810791016, -5.096700191497803, -4.711400032043457, -5.020599842071533, -5.018099784851074, -4.526500225067139, -4.428699970245361, -4.426799774169922, -5.000699996948242, -4.886300086975098, -4.18209981918335, -2.5539000034332275, -4.641600131988525, -4.778500080108643, -4.8471999168396, -4.952600002288818, -5.029399871826172, -5.135000228881836, -5.233799934387207, -5.326700210571289, -5.444699764251709, -5.490300178527832, -5.493599891662598, -5.657700061798096, -5.7133002281188965, -5.793499946594238, -5.950399875640869, -5.957900047302246, -6.059500217437744, -6.066999912261963, -6.118000030517578, -6.1732001304626465, -6.174600124359131, -6.221499919891357, -6.262199878692627, -6.269599914550781, -6.273099899291992, -6.339600086212158, -6.4496002197265625, -6.45359992980957, -4.562300205230713, -4.823500156402588, -4.712299823760986, -4.070300102233887, -3.1442999839782715, -4.377999782562256, -4.36359977722168, -5.045000076293945, -5.27269983291626, -3.5116000175476074, -2.830899953842163, -5.7789998054504395, -3.31030011177063, -5.482800006866455, -3.9309000968933105, -3.2139999866485596, -4.123300075531006, -4.377699851989746, -5.217299938201904, -4.139200210571289, -4.561299800872803, -4.734600067138672, -4.519899845123291, -4.961599826812744, -4.709700107574463, -4.960999965667725, -3.8508999347686768, -4.212200164794922, -4.47790002822876, -4.496600151062012, -4.526599884033203, -4.70359992980957, -4.7245001792907715, -4.7565999031066895, -4.815499782562256, -3.8619000911712646, -4.969799995422363, -5.055200099945068, -5.072800159454346, -5.166800022125244, -5.169899940490723, -5.177299976348877, -5.18179988861084, -5.193299770355225, -5.259500026702881, -5.267099857330322, -5.268599987030029, -5.28849983215332, -5.297800064086914, -5.371300220489502, -5.377399921417236, -5.082600116729736, -5.495699882507324, -5.519899845123291, -5.526199817657471, -5.549099922180176, -4.315400123596191, -3.46560001373291, -3.5436999797821045, -2.583699941635132, -4.710700035095215, -4.573999881744385, -4.424200057983398, -3.529900074005127, -4.324999809265137, -4.466400146484375, -4.3942999839782715, -4.037300109863281, -3.8805999755859375, -5.094799995422363, -4.483500003814697, -5.0335001945495605, -4.851600170135498, -4.502500057220459, -4.850100040435791, -4.867800235748291, -3.15310001373291, -3.767199993133545, -3.9296000003814697, -4.4293999671936035, -4.595300197601318, -4.648499965667725, -4.7006001472473145, -4.950200080871582, -5.044600009918213, -5.177199840545654, -5.197299957275391, -5.304800033569336, -5.3403000831604, -5.3541998863220215, -5.359499931335449, -5.361499786376953, -5.3927001953125, -5.401199817657471, -5.436600208282471, -5.440999984741211, -5.443399906158447, -5.481100082397461, -5.505300045013428, -5.521900177001953, -5.525100231170654, -5.5528998374938965, -5.568999767303467, -5.618800163269043, -5.627099990844727, -5.6280999183654785, -4.426000118255615, -4.818600177764893, -3.8066999912261963, -4.62529993057251, -5.027200222015381, -4.0046000480651855, -3.02620005607605, -3.8183999061584473, -4.478700160980225, -5.066999912261963, -4.516900062561035, -4.683300018310547, -4.463699817657471, -4.403800010681152, -5.112199783325195, -5.084400177001953, -3.326200008392334, -3.6981000900268555, -4.088399887084961, -4.395299911499023, -4.532199859619141, -4.625999927520752, -4.629000186920166, -4.882299900054932, -4.9253997802734375, -4.973100185394287, -5.057199954986572, -5.070799827575684, -5.178299903869629, -5.320000171661377, -5.320000171661377, -5.321199893951416, -5.394599914550781, -5.416999816894531, -5.430300235748291, -5.4481000900268555, -5.4822001457214355, -5.4934000968933105, -5.496300220489502, -5.525400161743164, -5.624499797821045, -5.6479997634887695, -5.657299995422363, -5.680500030517578, -5.704999923706055, -5.742000102996826, -3.700700044631958, -3.773699998855591, -4.021900177001953, -3.0225000381469727, -4.769800186157227, -5.407899856567383, -4.5065999031066895, -3.8485000133514404, -4.808800220489502, -4.776000022888184, -4.188899993896484, -4.549799919128418, -4.230800151824951, -4.354800224304199, -4.604800224304199, -4.176300048828125, -5.156700134277344, -4.864999771118164, -4.586999893188477, -4.7565999031066895, -5.017399787902832, -5.013599872589111, -1.4259999990463257, -3.7332000732421875, -3.8299999237060547, -3.9649999141693115, -4.304500102996826, -4.322299957275391, -4.346700191497803, -4.498300075531006, -4.503399848937988, -4.535299777984619, -4.58459997177124, -4.586100101470947, -4.716899871826172, -4.769000053405762, -4.948999881744385, -5.189700126647949, -5.260900020599365, -5.430600166320801, -5.52209997177124, -5.614999771118164, -5.69980001449585, -5.794899940490723, -5.823999881744385, -5.841300010681152, -5.920599937438965, -5.979899883270264, -6.017899990081787, -6.024700164794922, -6.103799819946289, -6.176400184631348, -3.1185998916625977, -4.441800117492676, -4.347700119018555, -3.7446999549865723, -3.623300075531006, -4.703199863433838, -3.266200065612793, -4.729000091552734, -5.033299922943115, -3.7736001014709473, -4.968100070953369, -4.69350004196167, -4.7631001472473145, -4.272299766540527, -4.60860013961792, -2.858599901199341, -3.5339999198913574, -2.646399974822998, -3.6070001125335693, -3.8780999183654785, -4.022500038146973, -4.294000148773193, -4.302499771118164, -4.321899890899658, -4.464200019836426, -4.557300090789795, -4.598499774932861, -4.627500057220459, -4.6427001953125, -4.649400234222412, -4.680200099945068, -4.849100112915039, -4.924699783325195, -4.950399875640869, -4.966599941253662, -5.021699905395508, -5.048600196838379, -5.1427998542785645, -5.149799823760986, -5.155399799346924, -5.174900054931641, -5.221499919891357, -5.235199928283691, -5.2469000816345215, -5.3180999755859375, -3.8376998901367188, -4.661799907684326, -4.185200214385986, -3.7690999507904053, -3.8940999507904053, -4.593200206756592, -4.326000213623047, -4.840000152587891, -4.667799949645996, -4.878699779510498, -4.164400100708008, -4.263700008392334, -4.592800140380859, -4.596799850463867, -4.604300022125244, -4.656700134277344, -4.661399841308594, -4.825399875640869, -4.9085001945495605, -4.948699951171875, -4.953700065612793, -5.091800212860107, -5.128799915313721, -5.13670015335083, -5.236999988555908, -5.26039981842041, -5.282800197601318, -5.354100227355957, -5.356200218200684, -5.427199840545654, -5.4558000564575195, -5.465000152587891, -5.506100177764893, -5.5218000411987305, -5.567999839782715, -5.571100234985352, -5.63070011138916, -5.658699989318848, -5.70550012588501, -5.719399929046631, -3.170099973678589, -4.084199905395508, -3.485599994659424, -4.355100154876709, -3.2074999809265137, -1.750599980354309, -5.125, -4.087200164794922, -5.054299831390381, -4.1097002029418945, -5.116600036621094, -4.852099895477295, -4.844200134277344, -4.717199802398682, -5.247600078582764, -5.241300106048584, -1.221500039100647, -1.412600040435791, -3.654400110244751, -3.7476999759674072, -4.139100074768066, -4.552700042724609, -4.613500118255615, -4.841100215911865, -5.365900039672852, -5.553699970245361, -5.56850004196167, -5.5725998878479, -5.615600109100342, -5.618599891662598, -5.65369987487793, -5.6757001876831055, -5.709700107574463, -5.721099853515625, -5.72760009765625, -5.72790002822876, -5.798399925231934, -5.848599910736084, -5.8769001960754395, -5.9085001945495605, -5.940899848937988, -5.979899883270264, -5.987800121307373, -5.99560022354126, -5.996799945831299, -6.039599895477295, -4.248700141906738, -4.427000045776367, -5.592199802398682, -5.926799774169922, -5.728000164031982, -5.904399871826172, -3.6944000720977783, -3.898200035095215, -4.197700023651123, -4.245100021362305, -4.277699947357178, -4.282400131225586, -4.298699855804443, -4.49970006942749, -4.5192999839782715, -4.546199798583984, -4.563799858093262, -4.650199890136719, -4.665800094604492, -4.731500148773193, -4.773900032043457, -4.833799839019775, -4.8607001304626465, -4.8769001960754395, -4.9207000732421875, -4.961699962615967, -5.002399921417236, -5.016900062561035, -5.029300212860107, -5.048099994659424, -5.110499858856201, -5.1346001625061035, -5.219299793243408, -5.247099876403809, -5.250699996948242, -5.268400192260742, -2.43969988822937, -2.0762999057769775, -4.032100200653076, -4.481900215148926, -4.467800140380859, -4.927000045776367, -5.047599792480469, -2.3254001140594482, -2.7118000984191895, -3.6373000144958496, -4.092700004577637, -4.199999809265137, -4.424900054931641, -4.521699905395508, -4.619900226593018, -4.691299915313721, -4.779699802398682, -4.810200214385986, -4.829400062561035, -4.962200164794922, -5.029399871826172, -5.05709981918335, -5.07889986038208, -5.103499889373779, -5.184899806976318, -5.206399917602539, -5.2621002197265625, -5.296899795532227, -5.381800174713135, -5.392099857330322, -5.406599998474121, -5.4085001945495605, -5.433300018310547, -5.433499813079834, -5.445300102233887, -5.533699989318848, -5.546199798583984, -2.038599967956543, -4.206699848175049, -4.2657999992370605, -5.193399906158447, -5.112599849700928, -5.241700172424316, -2.2665998935699463, -4.0304999351501465, -4.125, -4.190100193023682, -4.225200176239014, -4.262400150299072, -4.299499988555908, -4.383800029754639, -4.690899848937988, -4.729499816894531, -4.7368998527526855, -4.812399864196777, -4.842199802398682, -4.912499904632568, -4.914400100708008, -4.999300003051758, -5.108699798583984, -5.131199836730957, -5.1722002029418945, -5.1992998123168945, -5.208000183105469, -5.244100093841553, -5.34660005569458, -5.420300006866455, -5.454100131988525, -5.460999965667725, -5.462800025939941, -5.479100227355957, -5.480999946594238, -5.508299827575684, -3.7916998863220215, -3.5548999309539795, -3.4721999168395996, -2.9951999187469482, -4.243800163269043, -4.745999813079834, -4.694300174713135, -0.9664999842643738, -4.073800086975098, -4.395999908447266, -4.484300136566162, -4.499499797821045, -4.5157999992370605, -4.546999931335449, -4.8572998046875, -4.881400108337402, -4.887199878692627, -4.890399932861328, -4.905600070953369, -4.97760009765625, -5.003499984741211, -5.162600040435791, -5.1855998039245605, -5.219399929046631, -5.249199867248535, -5.320099830627441, -5.4517998695373535, -5.457699775695801, -5.511199951171875, -5.520400047302246, -5.545599937438965, -5.549699783325195, -5.5725998878479, -5.56850004196167, -5.63700008392334, -5.5991997718811035, -5.5991997718811035, -4.36959981918335, -3.7574000358581543, -5.179500102996826, -5.3618998527526855, -5.475399971008301, -1.8309999704360962, -3.67930006980896, -3.9405999183654785, -4.073999881744385, -4.07450008392334, -4.078499794006348, -4.361599922180176, -4.592700004577637, -4.6234002113342285, -4.6407999992370605, -4.64769983291626, -4.796800136566162, -4.820099830627441, -4.850800037384033, -4.945099830627441, -4.9899001121521, -4.9953999519348145, -5.024600028991699, -5.121799945831299, -5.154600143432617, -5.1631999015808105, -5.162499904632568, -5.223400115966797, -5.375899791717529, -5.38670015335083, -5.4334001541137695, -5.477399826049805, -5.484399795532227, -5.507699966430664, -5.515399932861328, -3.64739990234375, -3.7667999267578125, -3.667099952697754, -5.012599945068359, -4.874899864196777, -5.109899997711182]}, \"token.table\": {\"Topic\": [10, 14, 9, 3, 4, 6, 1, 2, 3, 7, 4, 4, 13, 4, 1, 13, 1, 9, 9, 3, 12, 5, 1, 11, 14, 7, 7, 15, 6, 2, 3, 8, 4, 7, 1, 13, 12, 1, 2, 3, 3, 15, 9, 11, 3, 7, 8, 2, 3, 6, 8, 12, 4, 3, 3, 4, 5, 8, 10, 11, 9, 13, 4, 2, 6, 7, 6, 2, 8, 1, 2, 10, 9, 9, 2, 5, 2, 2, 8, 15, 3, 5, 8, 15, 11, 1, 2, 11, 10, 7, 10, 4, 1, 2, 4, 13, 11, 5, 15, 11, 1, 2, 15, 8, 14, 9, 3, 5, 10, 8, 2, 6, 11, 15, 6, 10, 1, 15, 6, 5, 12, 3, 11, 4, 11, 8, 10, 15, 4, 4, 8, 4, 9, 10, 5, 1, 8, 6, 14, 1, 2, 4, 9, 2, 15, 12, 15, 11, 10, 10, 15, 1, 2, 9, 1, 7, 8, 6, 15, 5, 12, 2, 3, 7, 9, 5, 15, 7, 10, 10, 2, 3, 5, 8, 2, 9, 9, 9, 10, 1, 3, 4, 1, 9, 15, 15, 12, 12, 9, 4, 12, 7, 7, 1, 4, 1, 10, 9, 2, 5, 4, 14, 11, 5, 1, 3, 5, 6, 2, 1, 2, 3, 7, 10, 14, 1, 4, 12, 14, 14, 2, 3, 8, 2, 2, 5, 8, 3, 7, 9, 2, 9, 14, 2, 9, 6, 1, 10, 1, 2, 3, 14, 11, 9, 2, 12, 15, 1, 2, 4, 13, 1, 6, 11, 9, 15, 1, 2, 6, 1, 2, 7, 15, 12, 4, 1, 7, 7, 13, 5, 2, 5, 4, 6, 5, 6, 1, 1, 2, 6, 9, 11, 10, 1, 1, 2, 3, 9, 11, 11, 9, 4, 6, 6, 2, 1, 3, 15, 3, 4, 5, 9, 1, 2, 3, 13, 13, 2, 3, 1, 3, 4, 2, 4, 1, 2, 3, 7, 4, 9, 5, 7, 13, 8, 10, 1, 3, 1, 8, 6, 15, 7, 1, 5, 6, 9, 4, 6, 12, 3, 3, 14, 9, 1, 2, 3, 4, 5, 6, 12, 8, 1, 3, 5, 6, 11, 1, 2, 3, 1, 2, 4, 1, 11, 11, 15, 14, 13, 12, 2, 2, 3, 5, 1, 5, 2, 6, 7, 6, 2, 1, 12, 5, 15, 13, 1, 2, 4, 5, 12, 7, 5, 3, 7, 9, 14, 12, 5, 1, 4, 5, 2, 8, 14, 3, 10, 4, 1, 6, 7, 10, 11, 15, 9, 13, 8, 10, 5, 9, 3, 2, 9, 1, 2, 3, 8, 2, 2, 2, 4, 15, 1, 2, 3, 6, 2, 7, 4, 13, 1, 2, 7, 1, 2, 3, 6, 8, 9, 4, 5, 13, 14, 6, 3, 7, 5, 8, 9, 2, 1, 2, 1, 2, 9, 1, 1, 3, 4, 4, 2, 4, 10, 12, 2, 3, 1, 4, 15, 3, 12, 12, 1, 11, 1, 2, 11, 1, 2, 3, 2, 3, 8, 9, 4, 5, 1, 15, 13, 3, 1, 1, 13, 6, 7, 3, 3, 1, 2, 3, 14, 10, 8, 3, 5, 1, 3, 5, 12, 14, 11, 1, 1, 14, 14, 1, 5, 7, 1, 2, 11, 13, 13, 15, 2, 9, 2, 4, 6, 1, 2, 7, 14, 8, 4, 13, 3, 3, 5, 14, 3, 4, 6, 8, 8, 2, 14, 3, 10, 15, 15, 5, 7, 1, 2, 4, 3, 7, 10, 6, 14, 2, 3, 5, 6, 15, 1, 11, 2, 6, 10, 2, 9, 13, 3, 11, 4, 3, 1, 2, 3, 15, 12, 2, 6, 3, 13, 2, 9, 7, 1, 4, 13, 4, 2, 3, 8, 5, 12, 13, 3, 2, 1, 3, 4, 13, 11, 8, 7, 6, 2, 1, 6, 7, 9, 5, 5, 4, 6, 2, 7, 1, 3, 12, 12, 1, 1, 7, 2, 8, 6, 9, 7, 12, 1, 4, 12, 7, 2, 5, 1, 2, 3, 1, 2, 3, 13, 6, 7, 2, 4, 5, 6, 2, 5, 6, 7, 8, 2, 6, 7, 6, 5, 14, 2, 9, 1, 5, 6, 7, 15, 13, 8, 4, 7, 1, 2, 3, 10, 5, 6, 7, 13, 2, 3, 1, 14, 11, 11, 12, 2, 3, 8, 2, 4, 5, 7, 4, 7, 7, 8, 13, 2, 9, 13, 2, 2, 13, 9, 11, 12, 11, 7, 14, 4, 2, 4, 7, 3, 2, 4, 6, 7, 8, 11, 14, 2, 6, 11, 14, 5, 6, 12, 4, 5, 2, 4, 2, 7, 15, 4, 7, 11, 8, 8, 10, 14, 1, 2, 3, 12, 13, 2, 13, 14, 5, 1, 3, 14, 7, 1, 4, 9, 2, 6, 13, 3, 4, 11, 2, 6, 1, 11, 2, 10, 8, 6, 8, 1, 2, 7, 8, 8, 3, 8, 4, 9, 4, 7, 8, 6, 10, 14, 1, 3, 6, 7, 1, 11, 10, 1, 3, 8, 8, 3, 1, 3, 1, 2, 3, 7, 9, 10, 15, 12, 6, 5, 6, 9, 1, 2, 3, 12, 2, 3, 1, 9, 2, 13, 2, 3, 5, 5, 7, 6, 3, 2, 1, 1, 3, 12, 6, 1, 2, 13, 3, 11, 1, 12, 15, 1, 4, 13, 9, 14, 7, 1, 2, 3, 12, 4, 1, 3, 14, 14, 10, 5, 11, 13, 1, 4, 5, 6, 7, 8, 1, 7, 15, 1, 2, 3, 2, 11, 9, 6, 10, 2, 2, 15, 3, 4, 8, 6, 7, 10, 6, 1, 2, 4, 5, 1, 6, 4, 13, 14, 13, 14, 12, 13, 5, 3, 8, 1, 3, 4, 6, 2, 7, 10, 1, 1, 6, 15, 7, 9, 4, 4, 6], \"Freq\": [0.9860432704206895, 0.9728121692579395, 0.9721426705867613, 0.9893561964931239, 0.9965913787641273, 0.9951805294307084, 0.0018865756563188466, 0.5724709019340856, 0.42552762025858426, 0.9951987628339299, 0.9979173599532932, 0.9990874059081604, 0.9881866463326606, 0.9932702675795506, 0.9984815660476949, 0.9803984498471191, 0.9973854073272491, 0.9891973880420546, 0.9863438997470898, 0.9924151524989951, 0.9877389282252061, 0.9884419316243234, 0.9092927990310141, 0.08992355592239047, 0.9813196031300429, 0.996735795692825, 0.9997315011817788, 0.9990411525408559, 0.9815171910276614, 0.9460799551895193, 0.052559997510528846, 0.996493101392063, 0.9962291915125028, 0.996248452575877, 0.383180987448646, 0.6148053156825289, 0.9727820065928222, 0.8086192928923462, 0.10191925568382154, 0.08889873403258443, 0.996687268978731, 0.9870128712692314, 0.9894888929986868, 0.9871784726639041, 0.8536110280245387, 0.029951264141211884, 0.11381480373660516, 0.01659727230715753, 0.827492576456854, 0.03793662241636007, 0.11736642560061396, 0.9706171211571116, 0.9951235192123542, 0.9988659810350173, 0.006189113564411182, 0.11965619557861619, 0.7674500819869866, 0.10727796844979383, 0.9660672521145658, 0.9804053701741473, 0.9914259879791524, 0.979535260284576, 0.9920812773919098, 0.08747722894025603, 0.720004884354415, 0.1884124931020899, 0.9818175586274305, 0.0021612306546694177, 0.9974079471299362, 0.033601632061866546, 0.9632467857735076, 0.9733084643257687, 0.9932654253724233, 0.9914865409609275, 0.12256752385709391, 0.8754823132649565, 0.9977573621711998, 0.9829898872800197, 0.013728909040223738, 0.9719190372224662, 0.9164204414342367, 0.004828347952762048, 0.07725356724419277, 0.9895663252968886, 0.9853755997560909, 0.43234862817743963, 0.02321334916388938, 0.5433374538672857, 0.9728238362604847, 0.050158718851546394, 0.9386845956503682, 0.993626984072547, 0.24169912783011774, 0.17864718143965225, 0.08617099340030285, 0.48970345029928203, 0.9917661974440735, 0.9965697425209719, 0.9715553972756021, 0.9884165937737236, 0.13024602469327973, 0.6374393679106397, 0.2313782321021793, 0.994403820567272, 0.9892982998236555, 0.9883130549483571, 0.9978913552108372, 0.992150462353915, 0.9666790722208757, 0.9883501124895335, 0.9646652638590921, 0.03307423761802602, 0.9973153558355725, 0.9923867451406031, 0.9971619265135019, 0.9870301998755812, 0.9985681787357742, 0.9751522761020167, 0.9964784210558837, 0.9888153458550657, 0.9871007971460437, 0.9936985607600236, 0.9915251234881169, 0.9952017529446614, 0.9856384267107403, 0.9926801008050677, 0.9971729267483015, 0.991879389026391, 0.9954310456675513, 0.9964405987562694, 0.9955850266760311, 0.994893380476664, 0.9937587188098547, 0.9731070260179647, 0.9915861556750274, 0.9954478231441634, 0.9831663281771666, 0.9914204651089994, 0.975277492584467, 0.3927200912914121, 0.10250320187503992, 0.0025061907548909516, 0.5022406272801466, 0.8886709382033844, 0.109938672767429, 0.9625664535008647, 0.976786882654798, 0.9787237026889388, 0.9594582125937242, 0.9600160346583552, 0.9798800248153928, 0.043290996431350065, 0.29221422591161295, 0.6601876955780885, 0.9973039811023117, 0.9726754301223053, 0.9992997242347936, 0.9911962149569902, 0.9638730835828723, 0.993887508210074, 0.9564947545429721, 0.018782089363168563, 0.057520148674703724, 0.9226701399656556, 0.9837260845480577, 0.9942742590197481, 0.9762685956925472, 0.9929213533638139, 0.964596526946803, 0.9847506978971283, 0.9934534648181185, 0.9940131010370618, 0.9994892926828292, 0.9937195122265402, 0.3492259151331414, 0.6497549895106655, 0.9943687366933726, 0.305349666733894, 0.6939765153043046, 0.2898282469328299, 0.4582646629039383, 0.2516045216127031, 0.12564453525771593, 0.8084952703539983, 0.06009086468847284, 0.9668942460060026, 0.9832905856538636, 0.9797775620358106, 0.9798760487740885, 0.9960070808743688, 0.9856668704179364, 0.9942133239231512, 0.9869563032376836, 0.27706880229024444, 0.720811805958214, 0.9934693122264004, 0.997128895531096, 0.9836622131991822, 0.02005826597324665, 0.9788433794944364, 0.6695388956429301, 0.31715000319928266, 0.9912138337801446, 0.9841898161067995, 0.7520109154381056, 0.21724759779323052, 0.029523391494977482, 0.0011140902450934899, 0.9973287440657022, 0.9055256874526905, 0.05623022414020739, 0.0096759801280227, 0.0003651313255857623, 0.0005476969883786434, 0.02756741508172505, 0.058354307954265154, 0.9404021166475807, 0.9890989326208939, 0.9727395707912996, 0.967752034362579, 0.9763895442675163, 0.023155483263261258, 0.9953167861293248, 0.9963307164448756, 0.9770207951567557, 0.02217537185269005, 0.9946518978328135, 0.14607948781989213, 0.7126908345152313, 0.13722618552777746, 0.24470326122548458, 0.7545017221119108, 0.9899443206160643, 0.9970244010748665, 0.990952816731588, 0.9949991643634717, 0.9985263340267948, 0.9521866183862063, 0.8273261684440522, 0.06294873020769963, 0.0038540038902673238, 0.10534277300064018, 0.9941429322885953, 0.9850345146220559, 0.8449820569497561, 0.15388291118434583, 0.9849079864470883, 0.8995500535357911, 0.06674570380366747, 0.033372851901833735, 0.9703200259444137, 0.9996779438931327, 0.9894317916296845, 0.9903332204096619, 0.19322278828330539, 0.804224578260244, 0.02937312847838863, 0.9570744362541629, 0.009791042826129543, 0.814771353348042, 0.09675188319443909, 0.08789182063084576, 0.9647716457059027, 0.9941917360363098, 0.9881383924435742, 0.9969325001414578, 0.9970246351910707, 0.9958222408314734, 0.9748227861424081, 0.9889210556486276, 0.9987450980794819, 0.9860232924439708, 0.5481506646006843, 0.45015724970000326, 0.9870740861073175, 0.9947083130478507, 0.997739904827003, 0.23137422999739216, 0.10733856030806853, 0.48898677473675667, 0.14311808041075805, 0.02862361608215161, 0.9678289135545852, 0.997335462894227, 0.646188383126605, 0.07347961547259053, 0.00864466064383418, 0.05835145934588072, 0.2096330206129789, 0.9950823116633593, 0.9815326951122129, 0.032503372218412714, 0.9664336006274713, 0.9879490788575198, 0.9954744263499121, 0.19879448847530273, 0.7996960104574679, 0.9710028059647378, 0.9942530402749413, 0.9920401422818517, 0.9938974357322043, 0.9695437380862877, 0.002144488812017017, 0.5583712744289309, 0.4394861759127374, 0.9868356426606365, 0.9921297982203192, 0.7903266456752897, 0.20932602590875243, 0.5269024060046397, 0.043436399061314385, 0.42869837334427674, 0.9948066476533916, 0.990767922676879, 0.4627356378310752, 0.5264857871791773, 0.01006581305496349, 0.0004376440458679778, 0.996028967824321, 0.9876728033785831, 0.2197444896420758, 0.7497164940729645, 0.02585229289906774, 0.9887685223027427, 0.9745742701251731, 0.001154391195238674, 0.9985483838814531, 0.998109500571813, 0.9913908764398237, 0.9924802089962481, 0.9759552776595813, 0.9910979589798713, 0.19145788245863316, 0.3182340478704308, 0.3311703912797979, 0.1578233895942787, 0.8955116231999378, 0.10293237048275147, 0.9877197920556042, 0.9972015549647228, 0.9939493441791505, 0.9839636382557739, 0.987951029528502, 0.35589341757181053, 0.4296316085413123, 0.05545599486136089, 0.017063383034264887, 0.04875252295504254, 0.06703471906318349, 0.025595074551397333, 0.9911009239700855, 0.6520172391972027, 0.34696950211725286, 0.91326121325874, 0.08178458626197671, 0.9947201219389651, 0.39743834031027614, 0.5910329473382043, 0.011387918060466365, 0.4916636469474366, 0.2145441368497905, 0.29321032036138034, 0.5845607872629085, 0.4151228779113408, 0.9930856205086812, 0.9948017866503843, 0.99117015491919, 0.9557932990247869, 0.9935057751296704, 0.9974547695616288, 0.00977926514506714, 0.3632298482453509, 0.6258729692842969, 0.9986874416625957, 0.9886265519508023, 0.11961692632756289, 0.8123624349152473, 0.06712316729172593, 0.9925230167427032, 0.9984517705646758, 0.9994268202345703, 0.9925861430381093, 0.8638019164544279, 0.12822059697370414, 0.9852282810677064, 0.33988931064314004, 0.2519614237593712, 0.37831158054192976, 0.01773335533790296, 0.011822236891935305, 0.9896578544254601, 0.9910373518976096, 0.4725551329236642, 0.5239897052146752, 0.6507205806766977, 0.33149916374095917, 0.9814320317497819, 0.9919750742315318, 0.007658168829101237, 0.9904565018970933, 0.9947034171303558, 0.443513234590507, 0.5543915432381338, 0.9728619657413109, 0.9978807873958799, 0.9569426181740658, 0.9904934021038397, 0.9993899147568248, 0.20903293010518784, 0.7881569495769378, 0.9764118631517482, 0.9911487199227301, 0.989401850555425, 0.9922699967546553, 0.9871208117713359, 0.799897243358882, 0.19509688862411756, 0.9864087079779342, 0.9668275093747833, 0.9910978572838888, 0.5963367510529411, 0.4005246835430202, 0.6347170205852468, 0.07646570536965122, 0.2886838707790042, 0.9822586677405778, 0.9957441577000266, 0.9946417484611021, 0.7787751652437356, 0.03594346916509549, 0.17971734582547744, 0.37697997285846696, 0.0020377295830187403, 0.22415025413206144, 0.3953195391056356, 0.5537074022899596, 0.44530965686811563, 0.22699145003003163, 0.7717709301021075, 0.30397161701187464, 0.6712359542782766, 0.023318370620089016, 0.9922929271016918, 0.005013633524889061, 0.0025745685668349234, 0.21650407884413037, 0.15335705584792567, 0.6224492266768749, 0.6868557700191388, 0.01101907652437121, 0.25343876006053784, 0.047749331605608576, 0.9912857948431999, 0.994534421858068, 0.9791000428989766, 0.9910192489350741, 0.9875644346756162, 0.9954469339225486, 0.9942903045597062, 0.9146702672726685, 0.08522955639865053, 0.7573556667075493, 0.21851726095714585, 0.0239949657554222, 0.9987328941415744, 0.03365279884620421, 0.1187518304113183, 0.8471221778527266, 0.9956155338539767, 0.8615842208523887, 0.1381260109633952, 0.9966478018362893, 0.9677352316278164, 0.26155353593490543, 0.7384497357314114, 0.023665214061412553, 0.9756522342591448, 0.9817358309212585, 0.6551243898130107, 0.3419289578410012, 0.9904885311154786, 0.9981802977997201, 0.9943088136104782, 0.4911927677563533, 0.5082855563779114, 0.9906066999337417, 0.5897366080657436, 0.05721032875587945, 0.35266641013898287, 0.06480153582022496, 0.8592203638385384, 0.07200170646691663, 0.9754926148960255, 0.9959624316526653, 0.003265450595582509, 0.9994060987356966, 0.9697474202868667, 0.9805719209966508, 0.9960596100640428, 0.99987713598673, 0.9978204288311853, 0.9672805885395482, 0.3037253318220028, 0.6910851753051368, 0.995661810836405, 0.9929424822581311, 0.8434167105462181, 0.09442833400517454, 0.05855783050320889, 0.0033724405001848055, 0.967024232340992, 0.9868038982397163, 0.13859418419061614, 0.8600433621691659, 0.0016022521363288642, 0.3103028304023567, 0.1329869273152957, 0.5543792391697869, 0.9868967984380309, 0.9884112956665556, 0.9975898417834035, 0.9984847639722259, 0.9580129170306563, 0.9620757966388649, 0.5773325367837302, 0.3946855160557865, 0.025192692514199137, 0.8042811936179038, 0.01699185620319515, 0.17558251409968323, 0.965200950164689, 0.9905056438064934, 0.9831267404741313, 0.9959219709687436, 0.9785359444362736, 0.1928647159429115, 0.13131214702496102, 0.6729747535029252, 0.8536756018319026, 0.005517755505838706, 0.1395203892190644, 0.9786656070852026, 0.989750745201454, 0.996500394813908, 0.9901142819794574, 0.9906089722763413, 0.04057449996739395, 0.9563989278028573, 0.959212469519684, 0.9979838146117668, 0.9931142331453742, 0.9930020087518793, 0.9933689254997043, 0.9944733143101515, 0.9980773996791533, 0.9572345350349287, 0.9919686743806971, 0.9997360327620523, 0.9772657781423527, 0.9779954933828404, 0.990775880641462, 0.9961260557476267, 0.00468661892540796, 0.8945193322295327, 0.10029364500373036, 0.9576737718094893, 0.040706491419195294, 0.962827501260586, 0.990558762895964, 0.9620757966388649, 0.08191376758796239, 0.3034532753826788, 0.6131121392189911, 0.0006205588453633514, 0.9828860124345082, 0.8940108762793837, 0.10395475305574228, 0.2966617729345365, 0.6995904496068175, 0.956386053144609, 0.024125427383760785, 0.9750693567603318, 0.9931598735061025, 0.9954483833470141, 0.9799220191696043, 0.9933865806203852, 0.9989257916417364, 0.049121373660826216, 0.9348906599963699, 0.015845604406718134, 0.9749961404388737, 0.9875199670141127, 0.8170569004391217, 0.1825928513396683, 0.5212356741376286, 0.4705599835964702, 0.5807435791935908, 0.41882622439983874, 0.9890468728148077, 0.0360920299451321, 0.9420019815679478, 0.01804601497256605, 0.9933396389501649, 0.003332406152932569, 0.966397784350445, 0.02665924922346055, 0.5302673144129489, 0.4242138515303591, 0.03856489559366901, 0.9953657986107994, 0.9932741742527083, 0.996605464922779, 0.920185981653065, 0.0748988589717611, 0.9754870684042015, 0.98536479872169, 0.9963267582347907, 0.9935118670493879, 0.9847182359741585, 0.9982653836145626, 0.3678744009043169, 0.329499013759622, 0.05028499005166921, 0.25010166104646003, 0.9929239676060022, 0.9966395000572307, 0.08809997105464712, 0.9085309515010483, 0.09071226379368992, 0.9028030063276758, 0.04156979534407931, 0.9447680760018026, 0.013226753064025236, 0.9845780394438642, 0.9988220558120475, 0.9952714139523123, 0.9813201290526147, 0.471446435644846, 0.5257766940277093, 0.9914472049169588, 0.9776666123247095, 0.9807075103205292, 0.987244653597048, 0.25748304532517624, 0.7373378116130047, 0.9793515690100855, 0.9896381276972865, 0.6093435569481878, 0.3893513272190426, 0.4339271090756785, 0.5559298035114489, 0.009642824646126189, 0.4338541687580759, 0.021692708437903795, 0.15494791741359853, 0.388402779650087, 0.9654303259033064, 0.032248194602198126, 0.6027107641883257, 0.027924823051196555, 0.040723700282994976, 0.32811667085155954, 0.6900635807237199, 0.07044399053221306, 0.05175476855427899, 0.10063427218887581, 0.08625794759046498, 0.2704263804042773, 0.1557366208578204, 0.5734487977322844, 0.9935935877386527, 0.9944830108917694, 0.9857279421913172, 0.2787071193399833, 0.7201629215062343, 0.22870458268804944, 0.08812470158622088, 0.20842191327534781, 0.47489422521463476, 0.9952748222484233, 0.9876955433908114, 0.993739734140307, 0.9939185672295533, 0.9772037580410428, 0.7974969736416396, 0.00022177335195818678, 0.19649118983495348, 0.005544333798954669, 0.04374338664273056, 0.9514186594793898, 0.4480528247478674, 0.5498830121905646, 0.9955885012454037, 0.9983396436872228, 0.8462355464721115, 0.14590268042622614, 0.9737856977781133, 0.9904803727528259, 0.9681447702850753, 0.3376586081067099, 0.058217001397708606, 0.5996351143963986, 0.11387137312765237, 0.8812654094227009, 0.9979499595360223, 0.9919779993512471, 0.3207615476632939, 0.6741429137330245, 0.9973372783969872, 0.99253930599819, 0.9785046191726712, 0.765103674437672, 0.23104615911236628, 0.9737753322618478, 0.9928016520456436, 0.9910250531548475, 0.9963803092239383, 0.8369219642544476, 0.15768094978706984, 0.9863418135682083, 0.9823636629062321, 0.9893778094365782, 0.9742834586032194, 0.9947672714041096, 0.29023969744262307, 0.7089188012247978, 0.9869029427141869, 0.9971558974502379, 0.1916090915348575, 0.12615256958195586, 0.49151897393724314, 0.11306126519137555, 0.07735770776252011, 0.9752939655510448, 0.9749116971390879, 0.998764971002178, 0.9940365763954498, 0.9789338694302728, 0.9870421688366237, 0.9832575416569751, 0.9891045902464846, 0.9986137565932358, 0.25876295300831975, 0.7379536067274304, 0.9940516890281219, 0.005571146375658009, 0.28520099643522, 0.05317306713199017, 0.6622463815529684, 0.7851430306949702, 0.012267859854608909, 0.202419687601047, 0.9958063013572077, 0.9944578522305405, 0.9883123532126832, 0.9873466849624427, 0.18618972204218293, 0.10938646169978246, 0.7028662007092406, 0.9798288530358112, 0.9923121048751155, 0.9948906878231742, 0.960048249249074, 0.9889932639462685, 0.9832275093458697, 0.9504444489854679, 0.04888000023353835, 0.9808974567757367, 0.9860376408919856, 0.5677484295225921, 0.10125449698492088, 0.32907711520099286, 0.9910417223956522, 0.9952708023720757, 0.9923000034291862, 0.0769074041167217, 0.9198125532359915, 0.993045232746251, 0.25681695337872046, 0.7375256097029921, 0.9926435360737482, 0.006272628979928899, 0.9940304974548244, 0.9661327857329505, 0.9976726075880469, 0.3388464418336931, 0.6577607400301102, 0.031981186071394274, 0.48245903559131936, 0.3737230029485788, 0.11147727716314576, 0.9965970744303968, 0.3883241630488596, 0.610223684791065, 0.9913117971637149, 0.9761868813042229, 0.25772239338277936, 0.6723192870855114, 0.06723192870855113, 0.9925696908725066, 0.9725678820348499, 0.953523320225091, 0.6399768263016071, 0.17513995762815066, 0.18395203096793183, 0.9975216479808745, 0.9709017683098458, 0.02766477223135246, 0.980223207419255, 0.8685376030626111, 0.13123232526090203, 0.9905144200398349, 0.9968012346163023, 0.9947655735042783, 0.4394411837836147, 0.5602706337026117, 0.9299955578318249, 0.03072672547902505, 0.038920518940098396, 0.5770773809101786, 0.2275016597818973, 0.18865991298986606, 0.9547872582133571, 0.9795366741921135, 0.9885030336045404, 0.9934278120628071, 0.025003639623657765, 0.9701412173979214, 0.6603771977670775, 0.22114957320571899, 0.11837172668383035, 0.9858084995829975, 0.15956896919257113, 0.8377370882609985, 0.9965230188777205, 0.9909452612601998, 0.9995406777265313, 0.961811064717949, 0.6911826427338171, 0.0241250486120006, 0.28346932119100704, 0.991166380764108, 0.995836607226664, 0.9872397736951902, 0.9878132976252134, 0.9982182024445405, 0.9979994465355915, 0.958349363490359, 0.04151439974003758, 0.9964191434493939, 0.9887180078947851, 0.2730105716448281, 0.72678836102724, 0.9834721996837676, 0.9948141425795642, 0.9813338599093264, 0.8023334371398825, 0.19450507567027453, 0.9867696804854771, 0.9703419240856853, 0.007155913894437207, 0.02146774168331162, 0.9799955147903725, 0.9782627107174005, 0.9841333842774909, 0.9706523706204352, 0.0005279588635411669, 0.028773758062993593, 0.9962875384452046, 0.9970987785410883, 0.9992311805081757, 0.988931072602545, 0.9902214220757465, 0.9996854390429499, 0.9996323757751481, 0.9922662892362948, 0.9898075389553445, 0.9963804339017217, 0.03338422066928711, 0.010272067898242188, 0.020544135796484377, 0.38520254618408206, 0.10785671293154298, 0.4416989196244141, 0.6758071143564404, 0.03633371582561507, 0.2834029834397976, 0.8362928150410832, 0.15150690559934904, 0.012019336978653995, 0.9956512258599902, 0.9932349185535695, 0.9817749599710045, 0.9944139093113521, 0.9929321114652371, 0.9981398832781297, 0.9991629546609148, 0.9819197692938496, 0.1019473199932596, 0.1809564929880358, 0.7136312399528172, 0.9837347518206914, 0.9947052034049236, 0.9919652690309908, 0.99902208114834, 0.9638046029678593, 0.020739797293644262, 0.003814215594233428, 0.011681035257339873, 0.9995476409558207, 0.9987187547558746, 0.9946741434433526, 0.9707166062895936, 0.980893183828863, 0.9983350813235513, 0.9680410035538336, 0.9973583226448279, 0.9799657745374349, 0.9966408929267091, 0.9989684241457435, 0.9948838258141561, 0.4773134610206183, 0.3924202541724282, 0.1276209136062195, 0.0022488266714752333, 0.4702848775218823, 0.12759667219585955, 0.4010181126155586, 0.9950859051643269, 0.9880951655754318, 0.0022610873354128873, 0.00904434934165155, 0.9940303489026211, 0.987143629206157, 0.9986792219271193, 0.07428604441366067, 0.9232694091412111], \"Term\": [\"abilene\", \"addict\", \"adore\", \"advice\", \"afraid\", \"age\", \"ain\", \"ain\", \"ain\", \"air\", \"alive\", \"angel\", \"angry\", \"answer\", \"anymore\", \"anytime\", \"arm\", \"army\", \"ash\", \"ass\", \"atlantis\", \"awake\", \"away\", \"away\", \"awww\", \"babe\", \"baby\", \"bad\", \"bank\", \"bar\", \"bar\", \"beach\", \"bear\", \"beat\", \"beautiful\", \"beautiful\", \"beauty\", \"because\", \"because\", \"because\", \"beg\", \"beggar\", \"bell\", \"belong\", \"bet\", \"bet\", \"bet\", \"big\", \"big\", \"big\", \"big\", \"bike\", \"bird\", \"bit\", \"black\", \"black\", \"black\", \"black\", \"blade\", \"bleed\", \"block\", \"blonde_hair\", \"blood\", \"blow\", \"blow\", \"blow\", \"blowin\", \"blue\", \"blue\", \"body\", \"body\", \"body_poetry\", \"bone\", \"boogie\", \"boot\", \"boot\", \"bottle\", \"bout\", \"bout\", \"bowl\", \"boy\", \"boy\", \"boy\", \"brain\", \"brave\", \"break\", \"break\", \"break\", \"breaking\", \"breathe\", \"breathe\", \"bright\", \"bring\", \"bring\", \"bring\", \"bring\", \"broken\", \"brother\", \"bud\", \"buildin\", \"burn\", \"burn\", \"burn\", \"burnin\", \"business\", \"busy\", \"buy\", \"cadillac\", \"cake\", \"california\", \"car\", \"car\", \"carry\", \"case\", \"chain\", \"champagne\", \"chance\", \"changin\", \"chase\", \"chasin\", \"cheater\", \"check\", \"chest\", \"child\", \"chill\", \"chillin\", \"choice\", \"choose\", \"christma\", \"church\", \"city\", \"clear\", \"clock\", \"closet\", \"clothe\", \"cloud\", \"coast\", \"coat\", \"cock\", \"come\", \"come\", \"come\", \"come\", \"comin\", \"comin\", \"common\", \"company\", \"complain\", \"completely\", \"complicated\", \"confusion\", \"corner\", \"corner\", \"corner\", \"count\", \"countin\", \"country\", \"county\", \"cousin\", \"cowboy\", \"cowgirl\", \"crazy\", \"crazy\", \"crazy\", \"crown\", \"cruel\", \"crushin\", \"cryin\", \"crystal_clear\", \"cuervo_gold\", \"cup\", \"dad\", \"daddy\", \"dalla\", \"dance\", \"dance\", \"dancing\", \"dash\", \"dash\", \"day\", \"day\", \"day\", \"dead\", \"dead\", \"dead\", \"decision\", \"dee\", \"define\", \"desire\", \"devil\", \"devoted\", \"diamond\", \"dice\", \"die\", \"die\", \"difference\", \"different\", \"diggin\", \"dirt\", \"dirt\", \"disappear\", \"disappear\", \"distance\", \"dixie\", \"do\", \"do\", \"do\", \"do\", \"dog\", \"don\", \"don\", \"don\", \"don\", \"don\", \"don\", \"dream\", \"dream\", \"dreamer\", \"drift\", \"drifter\", \"drink\", \"drink\", \"drinkin\", \"drinking\", \"drive\", \"drive\", \"drivin\", \"drop\", \"drop\", \"drop\", \"drown\", \"drown\", \"drug\", \"drunk\", \"early\", \"earth\", \"easy\", \"egg\", \"end\", \"end\", \"end\", \"end\", \"endlessly\", \"erase\", \"everybody\", \"everybody\", \"excuse\", \"eye\", \"eye\", \"eye\", \"fake\", \"fall\", \"fame\", \"familiar\", \"family\", \"family\", \"fast\", \"fast\", \"fast\", \"feel\", \"feel\", \"feel\", \"fifth\", \"fightin\", \"fill\", \"finally\", \"fine\", \"finger\", \"fingertip\", \"fish\", \"floor\", \"flow\", \"fly\", \"fly\", \"folk\", \"follow\", \"fool\", \"foot\", \"foot\", \"foot\", \"foot\", \"foot\", \"foreign\", \"forever\", \"forget\", \"forget\", \"forget\", \"forget\", \"forget\", \"forgiveness\", \"forth\", \"free\", \"free\", \"freedom\", \"friday\", \"friend\", \"friend\", \"fuckin\", \"funny\", \"future\", \"gate\", \"generation\", \"get\", \"get\", \"get\", \"ghost\", \"gift\", \"girl\", \"girl\", \"give\", \"give\", \"give\", \"glass\", \"glory\", \"go\", \"go\", \"go\", \"go\", \"god\", \"goin_platinum\", \"gold\", \"gold\", \"gold\", \"golden\", \"gone\", \"good\", \"good\", \"goodbye\", \"goodnight\", \"grass\", \"gray\", \"groove\", \"ground\", \"ground\", \"ground\", \"ground\", \"grow\", \"grow\", \"gunna\", \"guy\", \"half\", \"halfway\", \"hallelujah\", \"hand\", \"hand\", \"hand\", \"hand\", \"hand\", \"hand\", \"hand\", \"hangin\", \"hard\", \"hard\", \"hat\", \"hat\", \"haven\", \"head\", \"head\", \"head\", \"hear\", \"hear\", \"hear\", \"heart\", \"heart\", \"heartach\", \"heartache\", \"heartbeat\", \"heartbreak\", \"heavy\", \"heel\", \"hell\", \"hell\", \"hell\", \"help\", \"hero\", \"high\", \"high\", \"high\", \"hill\", \"hit\", \"hold\", \"holdin\", \"hole\", \"hole\", \"holiday\", \"home\", \"home\", \"home\", \"home\", \"home\", \"homegrown\", \"hometown\", \"honey\", \"honey\", \"honky_tonk\", \"honky_tonk\", \"hoo\", \"hook\", \"hope\", \"hope\", \"horse\", \"hot\", \"hot\", \"hotel\", \"house\", \"hungover\", \"hurry\", \"hurt\", \"ice\", \"ice\", \"ignore\", \"imagine\", \"insane\", \"jack\", \"jet\", \"job\", \"job\", \"joe\", \"john\", \"judge\", \"jump\", \"jump\", \"just\", \"just\", \"just\", \"kentucky\", \"key\", \"kick\", \"kill\", \"kill\", \"kill\", \"kind\", \"kind\", \"kind\", \"kind\", \"kinda\", \"kinda\", \"king\", \"king\", \"kiss\", \"kiss\", \"kiss\", \"know\", \"know\", \"know\", \"lady\", \"lady\", \"lady\", \"land\", \"land\", \"land\", \"land\", \"lane\", \"later\", \"laughter\", \"law\", \"layin\", \"lazy\", \"lean\", \"leave\", \"leave\", \"let\", \"let\", \"let\", \"lie\", \"life\", \"life\", \"life\", \"lift\", \"light\", \"light\", \"like\", \"limousine\", \"little\", \"little\", \"live\", \"live\", \"liver\", \"livin\", \"livin\", \"local\", \"lonely\", \"lonesome\", \"long\", \"long\", \"longer\", \"look\", \"look\", \"look\", \"lookin\", \"lookin\", \"lookin\", \"loose\", \"lord\", \"lord\", \"lose\", \"loser\", \"losin\", \"lot\", \"love\", \"lover\", \"loving\", \"low\", \"low\", \"lucky\", \"mad\", \"make\", \"make\", \"make\", \"make\", \"makeup\", \"makin\", \"mama\", \"mama\", \"man\", \"man\", \"man\", \"man\", \"married\", \"match\", \"matter\", \"maybe\", \"meadow\", \"meeeeeeee\", \"meet\", \"meet\", \"meet\", \"memory\", \"memory\", \"memory\", \"mend\", \"mercury\", \"mexico\", \"midnight\", \"mighty\", \"mile\", \"mile\", \"mile\", \"mind\", \"mind\", \"mind\", \"minded\", \"missin\", \"mistletoe\", \"mix\", \"mmm\", \"momma\", \"momma\", \"mona_lisa\", \"money\", \"mother\", \"mountain\", \"mouth\", \"muddy\", \"music\", \"naturally\", \"naughty\", \"need\", \"needs_superhero\", \"nerve\", \"new_york\", \"nice\", \"night\", \"night\", \"night\", \"nothing\", \"nothing\", \"numb\", \"ocean\", \"okey\", \"old\", \"old\", \"old\", \"old\", \"oughta\", \"pain\", \"pain\", \"paint\", \"paint\", \"palm\", \"party\", \"party\", \"paw_truck\", \"pay\", \"paying_attention\", \"peace\", \"people\", \"pick\", \"pick\", \"pick\", \"pill\", \"plane\", \"play\", \"play\", \"poor\", \"poor\", \"pour\", \"pour\", \"powerful\", \"pray\", \"pray\", \"pray\", \"prayer\", \"pretty\", \"pretty\", \"pretty\", \"pride\", \"pride\", \"pride\", \"probably\", \"problem\", \"promise\", \"proud\", \"proud\", \"purple\", \"purple_rain\", \"queen\", \"quit\", \"race\", \"radio\", \"rain\", \"rain\", \"rain\", \"rain\", \"rainin\", \"raise\", \"reach\", \"reach\", \"ready\", \"ready\", \"real\", \"real\", \"real\", \"reality\", \"really\", \"reason\", \"reckless\", \"red\", \"red\", \"regret\", \"repeat\", \"reputation\", \"resist\", \"rest\", \"rest\", \"rhinestone\", \"rhythm\", \"ride\", \"ride\", \"right\", \"right\", \"right\", \"ring\", \"ring\", \"ring\", \"ring\", \"river\", \"river\", \"road\", \"road\", \"road\", \"road\", \"rock\", \"rock\", \"rock\", \"rock\", \"rock\", \"roll\", \"roll\", \"roll\", \"rollin\", \"root\", \"rose\", \"round\", \"round\", \"run\", \"run\", \"run\", \"run\", \"runway\", \"sail\", \"sand\", \"santa\", \"saw\", \"say\", \"say\", \"say\", \"say\", \"scream\", \"scream\", \"sea\", \"sea\", \"seat\", \"second\", \"secret\", \"secret\", \"self\", \"send\", \"senorita\", \"shade\", \"shade\", \"shade\", \"shadow\", \"shadow\", \"shake\", \"shame\", \"shin\", \"shin\", \"shine\", \"shinin\", \"ship\", \"shoot\", \"shoot\", \"shore\", \"shot\", \"shoulder\", \"shouldn\", \"shout\", \"shout\", \"silence\", \"silent\", \"silver\", \"silver_thunderbird\", \"simple\", \"sing\", \"sing\", \"sip\", \"sittin\", \"sky\", \"sky\", \"sky\", \"sky\", \"sky\", \"slam\", \"sleepin\", \"slow\", \"small_town\", \"smooth\", \"soak\", \"sober\", \"soldier\", \"somebody\", \"son\", \"son\", \"song\", \"song\", \"sorry\", \"sorry\", \"sorry\", \"soul\", \"soul\", \"soul\", \"south\", \"southern\", \"space\", \"sparkle\", \"spend\", \"spend\", \"spend\", \"spendin\", \"spill\", \"spin\", \"stain\", \"standin\", \"state\", \"stay\", \"stay\", \"stead\", \"steady\", \"step\", \"step\", \"step\", \"stick\", \"stone\", \"storm\", \"story\", \"story\", \"strike\", \"string\", \"string\", \"strong\", \"strong\", \"stuff\", \"suffer\", \"sugar\", \"summer\", \"summer\", \"sun\", \"sun\", \"sun\", \"sun\", \"sunset\", \"sunshine\", \"sunshine\", \"survive\", \"sway\", \"sweet\", \"sweet\", \"sweet\", \"swing\", \"switch\", \"taillight\", \"take\", \"take\", \"take\", \"tangle\", \"tear\", \"tear\", \"tease\", \"tell\", \"tell\", \"tennessee\", \"texas\", \"thank\", \"thing\", \"thing\", \"think\", \"think\", \"think\", \"thought\", \"thought\", \"thought\", \"thrill\", \"thumb\", \"thunder\", \"tick\", \"tie\", \"tie\", \"time\", \"time\", \"time\", \"tip\", \"tired\", \"tired\", \"today\", \"tongue\", \"tonight\", \"totally\", \"town\", \"town\", \"town\", \"trade\", \"train\", \"treasure\", \"treat\", \"truck\", \"truth\", \"try\", \"try\", \"tryin\", \"tune\", \"turn\", \"turn\", \"tv\", \"twice\", \"unburdend\", \"understand\", \"understand\", \"unstoppable_today\", \"use\", \"use\", \"use\", \"used\", \"usin\", \"valley\", \"ve\", \"ve\", \"ve\", \"velvet_elvis\", \"voice\", \"walk\", \"walkin\", \"walking\", \"wanna\", \"want\", \"war\", \"war_paint\", \"wash\", \"water\", \"water\", \"water\", \"water\", \"water\", \"water\", \"wave\", \"wave\", \"wave\", \"way\", \"way\", \"way\", \"week\", \"weekend\", \"weight\", \"welcome\", \"weren\", \"wheel\", \"whiskey\", \"whisky\", \"white\", \"white\", \"white\", \"white_trash\", \"whoa\", \"wide_open\", \"wild\", \"will\", \"will\", \"will\", \"will\", \"win\", \"wind\", \"wing\", \"winter_wonderland\", \"wire\", \"wish\", \"woe\", \"woman\", \"wonderful\", \"wood\", \"work\", \"workin\", \"world\", \"world\", \"world\", \"world\", \"worry\", \"worry\", \"worry\", \"worth\", \"wouldn\", \"wouldn\", \"wouldn\", \"wrap\", \"yea\", \"year\", \"young\", \"young\"]}, \"R\": 30, \"lambda.step\": 0.01, \"plot.opts\": {\"xlab\": \"PC1\", \"ylab\": \"PC2\"}, \"topic.order\": [6, 4, 14, 8, 13, 11, 12, 5, 2, 15, 10, 9, 7, 1, 3]};\n",
       "\n",
       "function LDAvis_load_lib(url, callback){\n",
       "  var s = document.createElement('script');\n",
       "  s.src = url;\n",
       "  s.async = true;\n",
       "  s.onreadystatechange = s.onload = callback;\n",
       "  s.onerror = function(){console.warn(\"failed to load library \" + url);};\n",
       "  document.getElementsByTagName(\"head\")[0].appendChild(s);\n",
       "}\n",
       "\n",
       "if(typeof(LDAvis) !== \"undefined\"){\n",
       "   // already loaded: just create the visualization\n",
       "   !function(LDAvis){\n",
       "       new LDAvis(\"#\" + \"ldavis_el275751126009224169179757148\", ldavis_el275751126009224169179757148_data);\n",
       "   }(LDAvis);\n",
       "}else if(typeof define === \"function\" && define.amd){\n",
       "   // require.js is available: use it to load d3/LDAvis\n",
       "   require.config({paths: {d3: \"https://cdnjs.cloudflare.com/ajax/libs/d3/3.5.5/d3.min\"}});\n",
       "   require([\"d3\"], function(d3){\n",
       "      window.d3 = d3;\n",
       "      LDAvis_load_lib(\"https://cdn.rawgit.com/bmabey/pyLDAvis/files/ldavis.v1.0.0.js\", function(){\n",
       "        new LDAvis(\"#\" + \"ldavis_el275751126009224169179757148\", ldavis_el275751126009224169179757148_data);\n",
       "      });\n",
       "    });\n",
       "}else{\n",
       "    // require.js not available: dynamically load d3 & LDAvis\n",
       "    LDAvis_load_lib(\"https://cdnjs.cloudflare.com/ajax/libs/d3/3.5.5/d3.min.js\", function(){\n",
       "         LDAvis_load_lib(\"https://cdn.rawgit.com/bmabey/pyLDAvis/files/ldavis.v1.0.0.js\", function(){\n",
       "                 new LDAvis(\"#\" + \"ldavis_el275751126009224169179757148\", ldavis_el275751126009224169179757148_data);\n",
       "            })\n",
       "         });\n",
       "}\n",
       "</script>"
      ],
      "text/plain": [
       "PreparedData(topic_coordinates=            Freq  cluster  topics         x         y\n",
       "topic                                                \n",
       "5      33.837199        1       1 -0.311832 -0.129754\n",
       "3      17.842333        1       2 -0.293805  0.011667\n",
       "13     12.650715        1       3 -0.279744 -0.049129\n",
       "7       6.598119        1       4 -0.091879  0.032159\n",
       "12      4.635636        1       5  0.051453  0.046809\n",
       "10      4.413179        1       6  0.010377  0.261178\n",
       "11      4.045977        1       7  0.020620  0.248450\n",
       "4       2.961436        1       8  0.068516  0.176638\n",
       "1       2.625079        1       9  0.055538 -0.051535\n",
       "14      2.091335        1      10  0.144096 -0.061829\n",
       "9       1.954924        1      11  0.098402 -0.154481\n",
       "8       1.813477        1      12  0.117570 -0.073825\n",
       "6       1.710385        1      13  0.137909 -0.080222\n",
       "0       1.474546        1      14  0.122972 -0.109324\n",
       "2       1.345660        1      15  0.149807 -0.066801, topic_info=      Category         Freq               Term        Total  loglift  logprob\n",
       "term                                                                         \n",
       "53     Default  4274.000000               baby  4274.000000  30.0000  30.0000\n",
       "10     Default  3990.000000               come  3990.000000  29.0000  29.0000\n",
       "49     Default  2710.000000               want  2710.000000  28.0000  28.0000\n",
       "176    Default  2466.000000              wanna  2466.000000  27.0000  27.0000\n",
       "121    Default  2596.000000              heart  2596.000000  26.0000  26.0000\n",
       "17     Default  7460.000000                get  7460.000000  25.0000  25.0000\n",
       "70     Default  4331.000000               good  4331.000000  24.0000  24.0000\n",
       "132    Default  8222.000000               love  8222.000000  23.0000  23.0000\n",
       "87     Default  2239.000000               need  2239.000000  22.0000  22.0000\n",
       "66     Default  5477.000000                don  5477.000000  21.0000  21.0000\n",
       "81     Default  7379.000000               know  7379.000000  20.0000  20.0000\n",
       "278    Default  1872.000000                man  1872.000000  19.0000  19.0000\n",
       "128    Default  2585.000000               life  2585.000000  18.0000  18.0000\n",
       "0      Default  4770.000000                ain  4770.000000  17.0000  17.0000\n",
       "19     Default  6854.000000                 go  6854.000000  16.0000  16.0000\n",
       "79     Default  7742.000000               just  7742.000000  15.0000  15.0000\n",
       "400    Default  1378.000000              break  1378.000000  14.0000  14.0000\n",
       "25     Default  3245.000000             little  3245.000000  13.0000  13.0000\n",
       "200    Default  3200.000000              night  3200.000000  12.0000  12.0000\n",
       "605    Default   948.000000                bad   948.000000  11.0000  11.0000\n",
       "44     Default  2962.000000              thing  2962.000000  10.0000  10.0000\n",
       "169    Default  1611.000000                old  1611.000000   9.0000   9.0000\n",
       "225    Default  1690.000000               away  1690.000000   8.0000   8.0000\n",
       "190    Default  2895.000000               girl  2895.000000   7.0000   7.0000\n",
       "139    Default  4509.000000                say  4509.000000   6.0000   6.0000\n",
       "97     Default  3788.000000                 ve  3788.000000   5.0000   5.0000\n",
       "1497   Default   968.000000               ring   968.000000   4.0000   4.0000\n",
       "22     Default  4292.000000                let  4292.000000   3.0000   3.0000\n",
       "155    Default   925.000000               blue   925.000000   2.0000   2.0000\n",
       "222    Default  4194.000000               will  4194.000000   1.0000   1.0000\n",
       "...        ...          ...                ...          ...      ...      ...\n",
       "3088   Topic15    75.470007             whisky    76.380986   4.2963  -4.3616\n",
       "10836  Topic15    59.893350  unstoppable_today    60.804462   4.2932  -4.5927\n",
       "634    Topic15    58.084493             mexico    58.995445   4.2927  -4.6234\n",
       "1997   Topic15    57.081529             oughta    57.992483   4.2925  -4.6408\n",
       "508    Topic15    56.690036              brain    57.600990   4.2923  -4.6477\n",
       "2912   Topic15    48.839888             excuse    49.750840   4.2898  -4.7968\n",
       "4882   Topic15    47.714787             beggar    48.631585   4.2893  -4.8201\n",
       "1286   Topic15    46.268721               pill    47.179674   4.2888  -4.8508\n",
       "11115  Topic15    42.108408            crushin    43.020947   4.2868  -4.9451\n",
       "1981   Topic15    40.260142                bud    41.171095   4.2859  -4.9899\n",
       "3148   Topic15    40.039638            company    40.950591   4.2858  -4.9954\n",
       "6944   Topic15    38.889817          confusion    39.800791   4.2851  -5.0246\n",
       "2725   Topic15    35.287422           decision    36.198374   4.2828  -5.1218\n",
       "2958   Topic15    34.149722              loser    35.060676   4.2820  -5.1546\n",
       "1689   Topic15    33.854032              nerve    34.764986   4.2817  -5.1632\n",
       "10886  Topic15    33.879030    needs_superhero    34.790945   4.2817  -5.1625\n",
       "2408   Topic15    31.877434               gray    32.788388   4.2801  -5.2234\n",
       "1294   Topic15    27.367597             thrill    28.278551   4.2755  -5.3759\n",
       "3097   Topic15    27.074943              fifth    27.985897   4.2752  -5.3867\n",
       "7079   Topic15    25.840139               bowl    26.751199   4.2736  -5.4334\n",
       "2718   Topic15    24.726068            changin    25.637022   4.2721  -5.4774\n",
       "8501   Topic15    24.554126              liver    25.465099   4.2719  -5.4844\n",
       "3095   Topic15    23.988587             cousin    24.899544   4.2710  -5.5077\n",
       "2331   Topic15    23.804446             fuckin    24.716715   4.2707  -5.5154\n",
       "1466   Topic15   154.140490             family   191.488801   4.0913  -3.6474\n",
       "1290   Topic15   136.803705              sorry   206.871647   3.8947  -3.7668\n",
       "628    Topic15   151.142087               burn   652.611089   2.8455  -3.6671\n",
       "1396   Topic15    39.356832               wave   137.613230   3.0565  -5.0126\n",
       "979    Topic15    45.167978               kill   250.393193   2.5956  -4.8749\n",
       "1094   Topic15    35.708738              comin   327.455290   2.0923  -5.1099\n",
       "\n",
       "[703 rows x 6 columns], token_table=       Topic      Freq               Term\n",
       "term                                     \n",
       "1003      10  0.986043            abilene\n",
       "2307      14  0.972812             addict\n",
       "3480       9  0.972143              adore\n",
       "1169       3  0.989356             advice\n",
       "920        4  0.996591             afraid\n",
       "1509       6  0.995181                age\n",
       "0          1  0.001887                ain\n",
       "0          2  0.572471                ain\n",
       "0          3  0.425528                ain\n",
       "1108       7  0.995199                air\n",
       "1577       4  0.997917              alive\n",
       "1109       4  0.999087              angel\n",
       "4091      13  0.988187              angry\n",
       "557        4  0.993270             answer\n",
       "1949       1  0.998482            anymore\n",
       "1730      13  0.980398            anytime\n",
       "52         1  0.997385                arm\n",
       "1554       9  0.989197               army\n",
       "1088       9  0.986344                ash\n",
       "1587       3  0.992415                ass\n",
       "11286     12  0.987739           atlantis\n",
       "1819       5  0.988442              awake\n",
       "225        1  0.909293               away\n",
       "225       11  0.089924               away\n",
       "11493     14  0.981320               awww\n",
       "433        7  0.996736               babe\n",
       "53         7  0.999732               baby\n",
       "605       15  0.999041                bad\n",
       "1619       6  0.981517               bank\n",
       "226        2  0.946080                bar\n",
       "...      ...       ...                ...\n",
       "222        4  0.003814               will\n",
       "222        5  0.011681               will\n",
       "350        1  0.999548                win\n",
       "641        6  0.998719               wind\n",
       "949        4  0.994674               wing\n",
       "3709      13  0.970717  winter_wonderland\n",
       "1037      14  0.980893               wire\n",
       "177       13  0.998335               wish\n",
       "8171      14  0.968041                woe\n",
       "542       12  0.997358              woman\n",
       "3942      13  0.979966          wonderful\n",
       "2266       5  0.996641               wood\n",
       "154        3  0.998968               work\n",
       "878        8  0.994884             workin\n",
       "625        1  0.477313              world\n",
       "625        3  0.392420              world\n",
       "625        4  0.127621              world\n",
       "625        6  0.002249              world\n",
       "51         2  0.470285              worry\n",
       "51         7  0.127597              worry\n",
       "51        10  0.401018              worry\n",
       "1561       1  0.995086              worth\n",
       "351        1  0.988095             wouldn\n",
       "351        6  0.002261             wouldn\n",
       "351       15  0.009044             wouldn\n",
       "1553       7  0.994030               wrap\n",
       "3499       9  0.987144                yea\n",
       "983        4  0.998679               year\n",
       "727        4  0.074286              young\n",
       "727        6  0.923269              young\n",
       "\n",
       "[937 rows x 3 columns], R=30, lambda_step=0.01, plot_opts={'xlab': 'PC1', 'ylab': 'PC2'}, topic_order=[6, 4, 14, 8, 13, 11, 12, 5, 2, 15, 10, 9, 7, 1, 3])"
      ]
     },
     "execution_count": 51,
     "metadata": {},
     "output_type": "execute_result"
    }
   ],
   "source": [
    "pyLDAvis.enable_notebook()\n",
    "vis = pyLDAvis.gensim.prepare(country_lda, corpus, id2word)\n",
    "vis"
   ]
  },
  {
   "cell_type": "markdown",
   "metadata": {},
   "source": [
    "### This provides a good general view, but we need to take this a step further.  Another library named Word2Vec specializes in context modeling.  This can be very useful in this instance, as we can distinguish differences between songs from context and meaning.  \n",
    "\n",
    "## Word2Vec\n",
    "\n",
    "Since we already have the lyrics lemmatized, this should be a fairly simple process to go through."
   ]
  },
  {
   "cell_type": "code",
   "execution_count": 52,
   "metadata": {
    "collapsed": true
   },
   "outputs": [],
   "source": [
    "from gensim.models import Word2Vec"
   ]
  },
  {
   "cell_type": "code",
   "execution_count": 53,
   "metadata": {
    "collapsed": true
   },
   "outputs": [],
   "source": [
    "w2v_country = Word2Vec(country_texts, size=100, window=5, min_count=1, workers=4, sg=1)"
   ]
  },
  {
   "cell_type": "code",
   "execution_count": 54,
   "metadata": {},
   "outputs": [
    {
     "data": {
      "text/plain": [
       "<gensim.models.word2vec.Word2Vec at 0x1a3bfaada0>"
      ]
     },
     "execution_count": 54,
     "metadata": {},
     "output_type": "execute_result"
    }
   ],
   "source": [
    "w2v_country"
   ]
  },
  {
   "cell_type": "code",
   "execution_count": 56,
   "metadata": {},
   "outputs": [
    {
     "name": "stderr",
     "output_type": "stream",
     "text": [
      "/Users/peyjmonahmad/anaconda3/lib/python3.6/site-packages/gensim/matutils.py:737: FutureWarning: Conversion of the second argument of issubdtype from `int` to `np.signedinteger` is deprecated. In future, it will be treated as `np.int64 == np.dtype(int).type`.\n",
      "  if np.issubdtype(vec.dtype, np.int):\n"
     ]
    },
    {
     "data": {
      "text/plain": [
       "[('build', 0.7698514461517334),\n",
       " ('payment', 0.7373060584068298),\n",
       " ('white_picket', 0.7340619564056396),\n",
       " ('couch', 0.7254501581192017),\n",
       " ('sticks_stone', 0.7128585577011108),\n",
       " ('homebody', 0.7047714591026306),\n",
       " ('court', 0.7025715112686157),\n",
       " ('mansion', 0.7005638480186462),\n",
       " ('percent', 0.7004590034484863),\n",
       " ('tv', 0.6992987394332886)]"
      ]
     },
     "execution_count": 56,
     "metadata": {},
     "output_type": "execute_result"
    }
   ],
   "source": [
    "# Test out feature that gives most similar words to an input we give.\n",
    "w2v_country.most_similar('house')"
   ]
  },
  {
   "cell_type": "markdown",
   "metadata": {},
   "source": [
    "Since we care more about full songs, we can get the feature vector for every word in a song, and combine them to get a final average feature vector."
   ]
  },
  {
   "cell_type": "code",
   "execution_count": 57,
   "metadata": {
    "collapsed": true
   },
   "outputs": [],
   "source": [
    "def avg_feature_vector(sentence, model, num_features):\n",
    "    \n",
    "    index2word_set= set(model.wv.index2word)\n",
    "    \n",
    "    words = sentence.split()\n",
    "    feature_vec = np.zeros((num_features, ), dtype='float32')\n",
    "    n_words = 0\n",
    "    for word in words:\n",
    "        if word in index2word_set:\n",
    "            n_words += 1\n",
    "            feature_vec = np.add(feature_vec, model[word])\n",
    "    if (n_words > 0):\n",
    "        feature_vec = np.divide(feature_vec, n_words)\n",
    "    return feature_vec"
   ]
  },
  {
   "cell_type": "code",
   "execution_count": 58,
   "metadata": {
    "collapsed": true
   },
   "outputs": [],
   "source": [
    "# Initialize a list to store full song_vectors\n",
    "import numpy as np\n",
    "country_vecs =[]\n",
    "\n",
    "# Each sentence will split words and get the full vector\n",
    "for song in country_songs:\n",
    "    vector = avg_feature_vector(song, model=w2v_country, num_features=100)\n",
    "    country_vecs.append(vector)"
   ]
  },
  {
   "cell_type": "code",
   "execution_count": 60,
   "metadata": {},
   "outputs": [
    {
     "data": {
      "text/plain": [
       "4223"
      ]
     },
     "execution_count": 60,
     "metadata": {},
     "output_type": "execute_result"
    }
   ],
   "source": [
    "# Same length as lyrics list\n",
    "len(country_vecs)"
   ]
  },
  {
   "cell_type": "code",
   "execution_count": 61,
   "metadata": {},
   "outputs": [
    {
     "data": {
      "text/plain": [
       "array([-0.20616944, -0.19234768,  0.03748675, -0.05559431, -0.21528272,\n",
       "        0.04511113, -0.08902641,  0.1482497 ,  0.21938287, -0.40819988,\n",
       "        0.11918472,  0.20369028,  0.17137304,  0.33253282, -0.02734063,\n",
       "        0.0370605 , -0.35945722, -0.1685685 , -0.1576145 , -0.03167114,\n",
       "       -0.02597265, -0.19902012,  0.04680165,  0.26944345,  0.0451737 ,\n",
       "        0.04220282, -0.0771038 ,  0.03675211,  0.04022288,  0.05603847,\n",
       "        0.04904374, -0.08016553,  0.14742991, -0.14963971, -0.01349499,\n",
       "       -0.2671885 , -0.04927472,  0.1760329 ,  0.05099062, -0.20296271,\n",
       "        0.01305126, -0.20145331, -0.0811317 , -0.09281912, -0.13115792,\n",
       "        0.3586981 ,  0.25990576, -0.18677223, -0.14316542, -0.09478278,\n",
       "       -0.08747537,  0.02112587,  0.22701195, -0.3606252 ,  0.28612083,\n",
       "       -0.0607785 ,  0.12128154, -0.00979501,  0.05547552, -0.20449011,\n",
       "       -0.07937807,  0.16710891,  0.21830833,  0.17080797, -0.01327083,\n",
       "       -0.05248574,  0.09550147, -0.10488338, -0.08515953,  0.13336845,\n",
       "       -0.02410635,  0.04780841,  0.32534528,  0.01192132,  0.00474352,\n",
       "       -0.04197236, -0.17223306,  0.21576788,  0.09899995,  0.01895838,\n",
       "       -0.13941877,  0.291028  , -0.12207887,  0.03379681,  0.1201169 ,\n",
       "        0.20972238,  0.17806661,  0.1078572 ,  0.08202915,  0.00993766,\n",
       "       -0.0654036 ,  0.12373519, -0.00507691, -0.01470716,  0.03050365,\n",
       "        0.05138006, -0.18970749, -0.00355869,  0.14644684, -0.18971683],\n",
       "      dtype=float32)"
      ]
     },
     "execution_count": 61,
     "metadata": {},
     "output_type": "execute_result"
    }
   ],
   "source": [
    "# Feature vector of one full song\n",
    "country_vecs[0]"
   ]
  },
  {
   "cell_type": "code",
   "execution_count": 63,
   "metadata": {},
   "outputs": [
    {
     "data": {
      "text/plain": [
       "(100,)"
      ]
     },
     "execution_count": 63,
     "metadata": {},
     "output_type": "execute_result"
    }
   ],
   "source": [
    "# Each song is a 100 dimensional vector\n",
    "country_vecs[1].shape"
   ]
  },
  {
   "cell_type": "markdown",
   "metadata": {},
   "source": [
    "### We have full feature vectors for each song! Now we can use a Nearest Neighbors technique to calculate the shortest cosine distance between songs, and the closest songs to a song we input can be considered a playlist.\n",
    "\n",
    "## Nearest Neighbors (cosine distance)"
   ]
  },
  {
   "cell_type": "code",
   "execution_count": 64,
   "metadata": {
    "collapsed": true
   },
   "outputs": [],
   "source": [
    "from sklearn.neighbors import NearestNeighbors\n",
    "NN = NearestNeighbors(metric='cosine')"
   ]
  },
  {
   "cell_type": "code",
   "execution_count": 65,
   "metadata": {
    "collapsed": true
   },
   "outputs": [],
   "source": [
    "# Convert vector list into array\n",
    "country_array = np.asarray(country_vecs)"
   ]
  },
  {
   "cell_type": "code",
   "execution_count": 66,
   "metadata": {
    "collapsed": true
   },
   "outputs": [],
   "source": [
    "# Fitting Nearest neighbors on the country array\n",
    "NN_country = NN.fit(country_vecs)"
   ]
  },
  {
   "cell_type": "markdown",
   "metadata": {},
   "source": [
    "This array needs to be reshaped in order to be able to compute accurate distances."
   ]
  },
  {
   "cell_type": "code",
   "execution_count": 67,
   "metadata": {
    "collapsed": true
   },
   "outputs": [],
   "source": [
    "country_vec_T = []\n",
    "for vec in country_array:\n",
    "    new_vec = vec.reshape(1,100)\n",
    "    country_vec_T.append(new_vec)"
   ]
  },
  {
   "cell_type": "markdown",
   "metadata": {},
   "source": [
    "Now that we have reshaped vectors, we can store a list of the 10 shortest distances per song."
   ]
  },
  {
   "cell_type": "code",
   "execution_count": 71,
   "metadata": {
    "collapsed": true
   },
   "outputs": [],
   "source": [
    "# List of closest neighbor of a given item, we are extracting the 1st index for each neighbor\n",
    "closest_country_lyrics = []\n",
    "for vec in country_vec_T:\n",
    "    close_10 = NN_country.kneighbors(X=vec,n_neighbors=11)[1]\n",
    "    closest_country_lyrics.append(close_10)"
   ]
  },
  {
   "cell_type": "markdown",
   "metadata": {},
   "source": [
    "The indices of the closest lyrics list map all the way back to our original lyrics list, we can check the lengths to ensure this is true."
   ]
  },
  {
   "cell_type": "code",
   "execution_count": 74,
   "metadata": {},
   "outputs": [
    {
     "data": {
      "text/plain": [
       "4223"
      ]
     },
     "execution_count": 74,
     "metadata": {},
     "output_type": "execute_result"
    }
   ],
   "source": [
    "len(closest_country_lyrics)"
   ]
  },
  {
   "cell_type": "code",
   "execution_count": 75,
   "metadata": {},
   "outputs": [
    {
     "data": {
      "text/plain": [
       "4223"
      ]
     },
     "execution_count": 75,
     "metadata": {},
     "output_type": "execute_result"
    }
   ],
   "source": [
    "len(country_songs)"
   ]
  },
  {
   "cell_type": "markdown",
   "metadata": {},
   "source": [
    "For each index we check, the next 10 indices are the nine closest songs.  Here we can try this out for the first song."
   ]
  },
  {
   "cell_type": "code",
   "execution_count": 76,
   "metadata": {},
   "outputs": [
    {
     "data": {
      "text/plain": [
       "array([[   0,  937, 2793, 2717, 1926, 2869, 3987, 1709, 3447, 1535, 4216]])"
      ]
     },
     "execution_count": 76,
     "metadata": {},
     "output_type": "execute_result"
    }
   ],
   "source": [
    "closest_country_lyrics[0]"
   ]
  },
  {
   "cell_type": "markdown",
   "metadata": {},
   "source": [
    "The single closest song to the first song (0th index), is the 938th song and the next closest is the 2794th song.  Let's look at the corresponding lyrics to see if this makes sense."
   ]
  },
  {
   "cell_type": "code",
   "execution_count": 77,
   "metadata": {},
   "outputs": [
    {
     "data": {
      "text/plain": [
       "\"First thing I'ma pour me a little wibo Shoot it quick and forget about my job No ain't gonna worry bout tomorrow Tomorrow, Corona Nothing but a coconut aroma Slip into a tropical coma Turn my beach chair into a sofa And don't you want to get  Drunk, drunk lay in the sand And get stuck, stuck A bunch of rum till we're numb, numb Come on and get you some some Some of that some Turn the light band up, up Give me more of that steel drum Pour me another one And another one And another and another Come on come on Let's all get Drunk, drunk  Next round buzzing with my new friends I found bikinis and palm trees Dancing around got a tall stack Of shot glasses upside down And don't you want to get  Drunk, drunk lay in the sand And get stuck, stuck A bunch of rum till we're numb, numb Come on and get you some some Some of that some Turn the light band up, up Give me more of that steel drum Pour me another one And another one And another and another Come on come on Let's all get Drunk, drunk  One Long Island, two Long Island, three Long Island, four One Long Island, two Long Island, three Long Island, four  Drunk, drunk lay in the sand And get stuck, stuck A bunch of rum till we're numb, numb Come on and get you some some Some of that some Turn the light band up, up Give me more of that steel drum Pour me another one And another one And another and another Come on come on Let's all get Drunk, drunk Drunk, drunk\""
      ]
     },
     "execution_count": 77,
     "metadata": {},
     "output_type": "execute_result"
    }
   ],
   "source": [
    "country_songs[0]"
   ]
  },
  {
   "cell_type": "code",
   "execution_count": 78,
   "metadata": {},
   "outputs": [
    {
     "data": {
      "text/plain": [
       "'There\\'s a sun set setting on another good night, Little can\\'t wait tailgate party on ice. Chilling in the back of a four-wheel drive, \\'Bout to pop a top, let it rock. Some are gonna wanna fight, some are gonna wanna dance, Some are gonna wanna carry \\'round one in each hand. Yeah, we all have a get a little crazy plan When we break out and we go out.  Everybody\\'s working out doing twelve ounce curls. Boys buzzing, hung up on the country girls, Fishing for the line that\\'ll kick her heart into gear. Hey brother, need another over here. Got the Kid Rock good time playlist on. All the worries in the world, they \\'bout to be gone. Some drunk dude\\'s in the crowd yelling, \"Let\\'s get weird, y\\'all.\" Brought to you by a beer.  A hungover headache, sun coming up. Got her number, no name, can\\'t remember what it was. If you can\\'t find your wallet or your phone or your truck, Must have done it good, talking real good. You\\'re hurting now, dragging \\'round, moving slow But at least you got the stories and pizza on the stove. Let hovering on to eight hours to go Till it\\'s back on, tie one off.  Everybody\\'s working out doing twelve ounce curls. Boys buzzing, hung up on the country girls, Fishing for the line that\\'ll kick her heart into gear. Hey brother, need another over here. Got the Kid Rock good time playlist on. All the worries in the world, they \\'bout to be gone. Some drunk dude\\'s in the crowd yelling, \"Let\\'s get weird, y\\'all.\" Brought to you by a beer.  Everybody\\'s working out doing twelve ounce curls. Boys buzzing, hung up on the country girls, Fishing for the line that\\'ll kick her heart into gear. Hey brother, need another over here. Got the Kid Rock good time playlist on. All the worries in the world, they \\'bout to be gone. Some drunk dude\\'s in the crowd yelling, \"Let\\'s get weird, y\\'all.\" Brought to you by a beer.  It\\'s all brought to you by a beer. It\\'s all brought to you by a beer.  It\\'ll get your head hurting in the morning light. It\\'ll get you hungover, it\\'ll get you back right. Hell, you might even have yourself a chance tonight.'"
      ]
     },
     "execution_count": 78,
     "metadata": {},
     "output_type": "execute_result"
    }
   ],
   "source": [
    "country_songs[937]"
   ]
  },
  {
   "cell_type": "code",
   "execution_count": 79,
   "metadata": {},
   "outputs": [
    {
     "data": {
      "text/plain": [
       "\"We bought to back it on up in the parkin lot got the beer on ice and the grill is hot on your mark get set baby reddy or not we gonna get some We got ribs and things chicken and bake beans plates of styrofome we came to get it on Days like the dark where ever you all park just get some cause everyboddy want some  Tailgate. If you came here to party well baby don't worry If you can't wait we bought to get started so you better hurry up Before it's too late so come on hunn this is gonna be fun let the pickup run sit ur bunns on my Tailgate!  I seen a little hot tub that would fit bought ten in the back of a jacked up chevy's 10 Built a bonfire thirty foot in the air bought 30 thousnd folks screamin hell yeah We got the easy ups and the lawn chairs down Long leged girls walkin' around with them daisy dukes on and red lipstick sun tan lotion rubbin I'm lovein it  Tailgate. If you came here to party well baby don't worry if you can't wait we bought to get started so you better hurry up before its to late so come on Hun this goanna be fun let the pickup run and sit your buns on my Tailgate  Good lord this is how it was supposed to be rockin' tailgate party with friends and family we got jim jack john and even jose all my roughty friends reddy to play we may get a little loud but we don't hurt no one this is just our way of tryin' to have some fun rednecks thugs geeks and bums we got it goin' on y'all allways welcome to...  Tailgate! If you came here to party well baby don't worry if you can't wait we bought to get started so you better hurry up before its to late so come on Hun its goanna be fun let the pickup run sit your buns on my Tailgate!\""
      ]
     },
     "execution_count": 79,
     "metadata": {},
     "output_type": "execute_result"
    }
   ],
   "source": [
    "country_songs[2793]"
   ]
  },
  {
   "cell_type": "markdown",
   "metadata": {},
   "source": [
    "As you can see, all of these songs clearly have some close lyrical similarities.  All of them appear to entail a song about drinking beer, partying, and looks like a tailgate as well."
   ]
  },
  {
   "cell_type": "markdown",
   "metadata": {},
   "source": [
    "To make this more practical, we should map it back to actual song names and artists, so it can look like an actual playlist.  We can create this function to give us the name and artist of the 10 closest songs to any country song that we input, as long as its in our original corpus of songs and lyrics."
   ]
  },
  {
   "cell_type": "markdown",
   "metadata": {},
   "source": [
    "### Playlist function"
   ]
  },
  {
   "cell_type": "code",
   "execution_count": 83,
   "metadata": {
    "collapsed": true
   },
   "outputs": [],
   "source": [
    "def similar_country_lyrics(artist,song):\n",
    "    \n",
    "    \"\"\"This function takes in an artist and song in our country songs library.\n",
    "    Once we input a song, it will generate the lyrics, and find the index in our list of lyrics\n",
    "    that it matches.  Then it will use that same index to search for the 10 closest songs in\n",
    "    our closest lyrics list.  Finally, it will then map back to our original list, to retrieve\n",
    "    the song name and artist of the closest songs.\"\"\"\n",
    "    \n",
    "    # Intialize 2 lists\n",
    "    neighbors_lyrics=[]\n",
    "    neighbors = []\n",
    "    \n",
    "    # Get lyrics of song that we input and clean it\n",
    "    lyrics = PyLyrics.getLyrics(artist,song)\n",
    "    clean_lyrics = lyrics.replace('\\n',' ')\n",
    "    \n",
    "    # Find index that matches the lyrics of the song\n",
    "    position = country_songs.index(clean_lyrics)\n",
    "    \n",
    "    # Use same index to map to the closest lyrics list\n",
    "    for song in closest_country_lyrics[position]:\n",
    "        for index in song:\n",
    "            if index != position:\n",
    "                # Append the closest indices to new list\n",
    "                neighbors_lyrics.append(country_songs[index])\n",
    "    \n",
    "    # Go back to the first list and append the song and artist name of the 10 closest songs\n",
    "    for dicts in country_lyrics:\n",
    "        for key,val in dicts.items():\n",
    "            for i in neighbors_lyrics:\n",
    "                if val == i:\n",
    "                    neighbors.append(dicts['Artist'] + ' : ' + key)\n",
    "                    neighbors = list(set(neighbors))\n",
    "    \n",
    "    return neighbors"
   ]
  },
  {
   "cell_type": "markdown",
   "metadata": {},
   "source": [
    "## Give me my playlist!"
   ]
  },
  {
   "cell_type": "code",
   "execution_count": 85,
   "metadata": {},
   "outputs": [
    {
     "name": "stderr",
     "output_type": "stream",
     "text": [
      "/Users/peyjmonahmad/anaconda3/lib/python3.6/site-packages/bs4/__init__.py:181: UserWarning: No parser was explicitly specified, so I'm using the best available HTML parser for this system (\"lxml\"). This usually isn't a problem, but if you run this code on another system, or in a different virtual environment, it may use a different parser and behave differently.\n",
      "\n",
      "The code that caused this warning is on line 193 of the file /Users/peyjmonahmad/anaconda3/lib/python3.6/runpy.py. To get rid of this warning, change code that looks like this:\n",
      "\n",
      " BeautifulSoup(YOUR_MARKUP})\n",
      "\n",
      "to this:\n",
      "\n",
      " BeautifulSoup(YOUR_MARKUP, \"lxml\")\n",
      "\n",
      "  markup_type=markup_type))\n"
     ]
    },
    {
     "data": {
      "text/plain": [
       "[\"Tracy Byrd : How'd I Wind Up In Jamaica\",\n",
       " 'The Lost Trailers : Summer Of Love',\n",
       " 'Kelsea Ballerini : Looking at Stars',\n",
       " \"Kip Moore : Heart's Desire\",\n",
       " \"Jason Aldean : Burnin' It Down\",\n",
       " 'Maren Morris : Company You Keep',\n",
       " 'Chad Brock : Population Minus One',\n",
       " 'Jon Pardi : California Sunrise',\n",
       " 'Scotty McCreery : Before Midnight',\n",
       " 'Blake Shelton : Some Beach']"
      ]
     },
     "execution_count": 85,
     "metadata": {},
     "output_type": "execute_result"
    }
   ],
   "source": [
    "# Get 10 closest songs to popular Keith Urban Song\n",
    "similar_country_lyrics('Keith Urban','Never Comin Down')"
   ]
  },
  {
   "cell_type": "code",
   "execution_count": 89,
   "metadata": {},
   "outputs": [
    {
     "name": "stderr",
     "output_type": "stream",
     "text": [
      "/Users/peyjmonahmad/anaconda3/lib/python3.6/site-packages/bs4/__init__.py:181: UserWarning: No parser was explicitly specified, so I'm using the best available HTML parser for this system (\"lxml\"). This usually isn't a problem, but if you run this code on another system, or in a different virtual environment, it may use a different parser and behave differently.\n",
      "\n",
      "The code that caused this warning is on line 193 of the file /Users/peyjmonahmad/anaconda3/lib/python3.6/runpy.py. To get rid of this warning, change code that looks like this:\n",
      "\n",
      " BeautifulSoup(YOUR_MARKUP})\n",
      "\n",
      "to this:\n",
      "\n",
      " BeautifulSoup(YOUR_MARKUP, \"lxml\")\n",
      "\n",
      "  markup_type=markup_type))\n"
     ]
    },
    {
     "data": {
      "text/plain": [
       "['Travis Tritt : Help Me Hold On (Live)',\n",
       " 'Sara Evans : You Never Know',\n",
       " \"Travis Tritt : Doesn't the Good Outweigh the Bad\",\n",
       " 'Kira Isabella : Love Me Like That',\n",
       " 'Casey James : So Sweet',\n",
       " 'Kelsea Ballerini : XO',\n",
       " \"Gretchen Wilson : I'd Love to Be Your Last\",\n",
       " 'Hank Williams, Jr. : Queen Of My Heart',\n",
       " 'Tracy Byrd : Just Let Me Be In Love',\n",
       " 'Gloriana : Turn My World Around']"
      ]
     },
     "execution_count": 89,
     "metadata": {},
     "output_type": "execute_result"
    }
   ],
   "source": [
    "similar_country_lyrics('Tim McGraw',\"It's Your Love\")"
   ]
  },
  {
   "cell_type": "markdown",
   "metadata": {},
   "source": [
    "Given 2 songs by Keith Urban and Tim McGraw that we fed into function, here is a playlist of 10 similar songs for each!"
   ]
  },
  {
   "cell_type": "markdown",
   "metadata": {},
   "source": [
    "### Since we have created a playlist based solely on lyrical similarities, we must incorporate audio features and do the same.  This process will be very straightforward since the audio features are already numeric.\n",
    "\n",
    "## Audio Features"
   ]
  },
  {
   "cell_type": "markdown",
   "metadata": {},
   "source": [
    "Remember, we have the list of country audio features that we loaded earlier."
   ]
  },
  {
   "cell_type": "code",
   "execution_count": 106,
   "metadata": {},
   "outputs": [
    {
     "data": {
      "text/plain": [
       "{'Artist': 'Kelsea Ballerini',\n",
       " 'audio': [{'acousticness': 0.195,\n",
       "   'analysis_url': 'https://api.spotify.com/v1/audio-analysis/6ENrvUXtRhkE3yl0xj8fO5',\n",
       "   'danceability': 0.542,\n",
       "   'duration_ms': 226853,\n",
       "   'energy': 0.748,\n",
       "   'id': '6ENrvUXtRhkE3yl0xj8fO5',\n",
       "   'instrumentalness': 3.57e-06,\n",
       "   'key': 8,\n",
       "   'liveness': 0.102,\n",
       "   'loudness': -6.688,\n",
       "   'mode': 1,\n",
       "   'speechiness': 0.0593,\n",
       "   'tempo': 87.982,\n",
       "   'time_signature': 4,\n",
       "   'track_href': 'https://api.spotify.com/v1/tracks/6ENrvUXtRhkE3yl0xj8fO5',\n",
       "   'type': 'audio_features',\n",
       "   'uri': 'spotify:track:6ENrvUXtRhkE3yl0xj8fO5',\n",
       "   'valence': 0.409}],\n",
       " 'id': '6ENrvUXtRhkE3yl0xj8fO5',\n",
       " 'song': 'Graveyard'}"
      ]
     },
     "execution_count": 106,
     "metadata": {},
     "output_type": "execute_result"
    }
   ],
   "source": [
    "country_tracks[0]"
   ]
  },
  {
   "cell_type": "code",
   "execution_count": 147,
   "metadata": {},
   "outputs": [],
   "source": [
    "# Convert this list of dictionaries to a dataframe\n",
    "country_audio_df = pd.DataFrame(country_tracks)"
   ]
  },
  {
   "cell_type": "code",
   "execution_count": 148,
   "metadata": {},
   "outputs": [
    {
     "data": {
      "text/html": [
       "<div>\n",
       "<style>\n",
       "    .dataframe thead tr:only-child th {\n",
       "        text-align: right;\n",
       "    }\n",
       "\n",
       "    .dataframe thead th {\n",
       "        text-align: left;\n",
       "    }\n",
       "\n",
       "    .dataframe tbody tr th {\n",
       "        vertical-align: top;\n",
       "    }\n",
       "</style>\n",
       "<table border=\"1\" class=\"dataframe\">\n",
       "  <thead>\n",
       "    <tr style=\"text-align: right;\">\n",
       "      <th></th>\n",
       "      <th>Artist</th>\n",
       "      <th>audio</th>\n",
       "      <th>id</th>\n",
       "      <th>song</th>\n",
       "    </tr>\n",
       "  </thead>\n",
       "  <tbody>\n",
       "    <tr>\n",
       "      <th>0</th>\n",
       "      <td>Kelsea Ballerini</td>\n",
       "      <td>[{'danceability': 0.542, 'energy': 0.748, 'key...</td>\n",
       "      <td>6ENrvUXtRhkE3yl0xj8fO5</td>\n",
       "      <td>Graveyard</td>\n",
       "    </tr>\n",
       "    <tr>\n",
       "      <th>1</th>\n",
       "      <td>Kelsea Ballerini</td>\n",
       "      <td>[{'danceability': 0.643, 'energy': 0.72, 'key'...</td>\n",
       "      <td>5NfJGBAL9mgFPRQxKJmiX2</td>\n",
       "      <td>Miss Me More</td>\n",
       "    </tr>\n",
       "    <tr>\n",
       "      <th>2</th>\n",
       "      <td>Kelsea Ballerini</td>\n",
       "      <td>[{'danceability': 0.523, 'energy': 0.787, 'key...</td>\n",
       "      <td>0sr84SDJ9VN4EB7p2mWGur</td>\n",
       "      <td>Get over Yourself</td>\n",
       "    </tr>\n",
       "    <tr>\n",
       "      <th>3</th>\n",
       "      <td>Kelsea Ballerini</td>\n",
       "      <td>[{'danceability': 0.614, 'energy': 0.832, 'key...</td>\n",
       "      <td>4A92qdxWEIojASeyffiaWn</td>\n",
       "      <td>Roses</td>\n",
       "    </tr>\n",
       "    <tr>\n",
       "      <th>4</th>\n",
       "      <td>Kelsea Ballerini</td>\n",
       "      <td>[{'danceability': 0.614, 'energy': 0.625, 'key...</td>\n",
       "      <td>19WNVv6GaJMI19Qka6RfEJ</td>\n",
       "      <td>Machine Heart</td>\n",
       "    </tr>\n",
       "  </tbody>\n",
       "</table>\n",
       "</div>"
      ],
      "text/plain": [
       "             Artist                                              audio  \\\n",
       "0  Kelsea Ballerini  [{'danceability': 0.542, 'energy': 0.748, 'key...   \n",
       "1  Kelsea Ballerini  [{'danceability': 0.643, 'energy': 0.72, 'key'...   \n",
       "2  Kelsea Ballerini  [{'danceability': 0.523, 'energy': 0.787, 'key...   \n",
       "3  Kelsea Ballerini  [{'danceability': 0.614, 'energy': 0.832, 'key...   \n",
       "4  Kelsea Ballerini  [{'danceability': 0.614, 'energy': 0.625, 'key...   \n",
       "\n",
       "                       id               song  \n",
       "0  6ENrvUXtRhkE3yl0xj8fO5          Graveyard  \n",
       "1  5NfJGBAL9mgFPRQxKJmiX2       Miss Me More  \n",
       "2  0sr84SDJ9VN4EB7p2mWGur  Get over Yourself  \n",
       "3  4A92qdxWEIojASeyffiaWn              Roses  \n",
       "4  19WNVv6GaJMI19Qka6RfEJ      Machine Heart  "
      ]
     },
     "execution_count": 148,
     "metadata": {},
     "output_type": "execute_result"
    }
   ],
   "source": [
    "country_audio_df.head()"
   ]
  },
  {
   "cell_type": "markdown",
   "metadata": {},
   "source": [
    "We can see a problem right away, as all audio features are encapsulated in one list.  Let's seperate all these features."
   ]
  },
  {
   "cell_type": "code",
   "execution_count": 149,
   "metadata": {
    "collapsed": true
   },
   "outputs": [],
   "source": [
    "# Create list from audio series of df\n",
    "country_audio_list = list(country_audio_df['audio'])"
   ]
  },
  {
   "cell_type": "code",
   "execution_count": 150,
   "metadata": {},
   "outputs": [
    {
     "data": {
      "text/plain": [
       "4808"
      ]
     },
     "execution_count": 150,
     "metadata": {},
     "output_type": "execute_result"
    }
   ],
   "source": [
    "len(country_audio_list)"
   ]
  },
  {
   "cell_type": "code",
   "execution_count": 151,
   "metadata": {},
   "outputs": [
    {
     "data": {
      "text/plain": [
       "[{'acousticness': 0.195,\n",
       "  'analysis_url': 'https://api.spotify.com/v1/audio-analysis/6ENrvUXtRhkE3yl0xj8fO5',\n",
       "  'danceability': 0.542,\n",
       "  'duration_ms': 226853,\n",
       "  'energy': 0.748,\n",
       "  'id': '6ENrvUXtRhkE3yl0xj8fO5',\n",
       "  'instrumentalness': 3.57e-06,\n",
       "  'key': 8,\n",
       "  'liveness': 0.102,\n",
       "  'loudness': -6.688,\n",
       "  'mode': 1,\n",
       "  'speechiness': 0.0593,\n",
       "  'tempo': 87.982,\n",
       "  'time_signature': 4,\n",
       "  'track_href': 'https://api.spotify.com/v1/tracks/6ENrvUXtRhkE3yl0xj8fO5',\n",
       "  'type': 'audio_features',\n",
       "  'uri': 'spotify:track:6ENrvUXtRhkE3yl0xj8fO5',\n",
       "  'valence': 0.409}]"
      ]
     },
     "execution_count": 151,
     "metadata": {},
     "output_type": "execute_result"
    }
   ],
   "source": [
    "country_audio_list[0]"
   ]
  },
  {
   "cell_type": "code",
   "execution_count": 152,
   "metadata": {
    "collapsed": true
   },
   "outputs": [],
   "source": [
    "# Take this list out of this, we want it as a dictionary.\n",
    "i = []\n",
    "for audio in country_audio_list:\n",
    "    features = audio[0]\n",
    "    i.append(features)"
   ]
  },
  {
   "cell_type": "code",
   "execution_count": 153,
   "metadata": {},
   "outputs": [
    {
     "data": {
      "text/plain": [
       "{'acousticness': 0.195,\n",
       " 'analysis_url': 'https://api.spotify.com/v1/audio-analysis/6ENrvUXtRhkE3yl0xj8fO5',\n",
       " 'danceability': 0.542,\n",
       " 'duration_ms': 226853,\n",
       " 'energy': 0.748,\n",
       " 'id': '6ENrvUXtRhkE3yl0xj8fO5',\n",
       " 'instrumentalness': 3.57e-06,\n",
       " 'key': 8,\n",
       " 'liveness': 0.102,\n",
       " 'loudness': -6.688,\n",
       " 'mode': 1,\n",
       " 'speechiness': 0.0593,\n",
       " 'tempo': 87.982,\n",
       " 'time_signature': 4,\n",
       " 'track_href': 'https://api.spotify.com/v1/tracks/6ENrvUXtRhkE3yl0xj8fO5',\n",
       " 'type': 'audio_features',\n",
       " 'uri': 'spotify:track:6ENrvUXtRhkE3yl0xj8fO5',\n",
       " 'valence': 0.409}"
      ]
     },
     "execution_count": 153,
     "metadata": {},
     "output_type": "execute_result"
    }
   ],
   "source": [
    "# Should just be in dictionary form with no list\n",
    "i[0]"
   ]
  },
  {
   "cell_type": "markdown",
   "metadata": {},
   "source": [
    "Each audio feature to be its own column in the dataframe, so we can do a short list comprehension for each feature."
   ]
  },
  {
   "cell_type": "code",
   "execution_count": 154,
   "metadata": {},
   "outputs": [],
   "source": [
    "country_audio_df['danceability'] = [d['danceability'] for d in i]\n",
    "country_audio_df['energy'] = [d['energy'] for d in i]\n",
    "country_audio_df['key'] = [d['key'] for d in i]\n",
    "country_audio_df['loudness']= [d['loudness'] for d in i]\n",
    "country_audio_df['mode'] = [d['mode'] for d in i]\n",
    "country_audio_df['speechiness'] = [d['speechiness'] for d in i]\n",
    "country_audio_df['acousticness'] = [d['acousticness'] for d in i]\n",
    "country_audio_df['instrumentalness'] = [d['instrumentalness'] for d in i]\n",
    "country_audio_df['liveness'] = [d['liveness'] for d in i]\n",
    "country_audio_df['valence'] = [d['valence'] for d in i]\n",
    "country_audio_df['tempo'] = [d['tempo'] for d in i]\n",
    "country_audio_df['types'] = [d['type'] for d in i]\n",
    "country_audio_df['id'] = [d['id'] for d in i]\n",
    "country_audio_df['audio_uri'] = [d['uri'] for d in i]\n",
    "country_audio_df['href'] = [d['track_href'] for d in i]\n",
    "country_audio_df['analysis_url'] = [d['analysis_url'] for d in i]\n",
    "country_audio_df['duration_ms'] = [d['duration_ms'] for d in i]\n",
    "country_audio_df['time_signature'] = [d['time_signature'] for d in i]"
   ]
  },
  {
   "cell_type": "code",
   "execution_count": 156,
   "metadata": {},
   "outputs": [
    {
     "data": {
      "text/html": [
       "<div>\n",
       "<style>\n",
       "    .dataframe thead tr:only-child th {\n",
       "        text-align: right;\n",
       "    }\n",
       "\n",
       "    .dataframe thead th {\n",
       "        text-align: left;\n",
       "    }\n",
       "\n",
       "    .dataframe tbody tr th {\n",
       "        vertical-align: top;\n",
       "    }\n",
       "</style>\n",
       "<table border=\"1\" class=\"dataframe\">\n",
       "  <thead>\n",
       "    <tr style=\"text-align: right;\">\n",
       "      <th></th>\n",
       "      <th>Artist</th>\n",
       "      <th>audio</th>\n",
       "      <th>id</th>\n",
       "      <th>song</th>\n",
       "      <th>danceability</th>\n",
       "      <th>energy</th>\n",
       "      <th>key</th>\n",
       "      <th>loudness</th>\n",
       "      <th>mode</th>\n",
       "      <th>speechiness</th>\n",
       "      <th>...</th>\n",
       "      <th>instrumentalness</th>\n",
       "      <th>liveness</th>\n",
       "      <th>valence</th>\n",
       "      <th>tempo</th>\n",
       "      <th>types</th>\n",
       "      <th>audio_uri</th>\n",
       "      <th>href</th>\n",
       "      <th>analysis_url</th>\n",
       "      <th>duration_ms</th>\n",
       "      <th>time_signature</th>\n",
       "    </tr>\n",
       "  </thead>\n",
       "  <tbody>\n",
       "    <tr>\n",
       "      <th>0</th>\n",
       "      <td>Kelsea Ballerini</td>\n",
       "      <td>[{'danceability': 0.542, 'energy': 0.748, 'key...</td>\n",
       "      <td>6ENrvUXtRhkE3yl0xj8fO5</td>\n",
       "      <td>Graveyard</td>\n",
       "      <td>0.542</td>\n",
       "      <td>0.748</td>\n",
       "      <td>8</td>\n",
       "      <td>-6.688</td>\n",
       "      <td>1</td>\n",
       "      <td>0.0593</td>\n",
       "      <td>...</td>\n",
       "      <td>0.000004</td>\n",
       "      <td>0.1020</td>\n",
       "      <td>0.409</td>\n",
       "      <td>87.982</td>\n",
       "      <td>audio_features</td>\n",
       "      <td>spotify:track:6ENrvUXtRhkE3yl0xj8fO5</td>\n",
       "      <td>https://api.spotify.com/v1/tracks/6ENrvUXtRhkE...</td>\n",
       "      <td>https://api.spotify.com/v1/audio-analysis/6ENr...</td>\n",
       "      <td>226853</td>\n",
       "      <td>4</td>\n",
       "    </tr>\n",
       "    <tr>\n",
       "      <th>1</th>\n",
       "      <td>Kelsea Ballerini</td>\n",
       "      <td>[{'danceability': 0.643, 'energy': 0.72, 'key'...</td>\n",
       "      <td>5NfJGBAL9mgFPRQxKJmiX2</td>\n",
       "      <td>Miss Me More</td>\n",
       "      <td>0.643</td>\n",
       "      <td>0.720</td>\n",
       "      <td>2</td>\n",
       "      <td>-7.146</td>\n",
       "      <td>1</td>\n",
       "      <td>0.0527</td>\n",
       "      <td>...</td>\n",
       "      <td>0.000000</td>\n",
       "      <td>0.0834</td>\n",
       "      <td>0.491</td>\n",
       "      <td>96.028</td>\n",
       "      <td>audio_features</td>\n",
       "      <td>spotify:track:5NfJGBAL9mgFPRQxKJmiX2</td>\n",
       "      <td>https://api.spotify.com/v1/tracks/5NfJGBAL9mgF...</td>\n",
       "      <td>https://api.spotify.com/v1/audio-analysis/5NfJ...</td>\n",
       "      <td>192840</td>\n",
       "      <td>4</td>\n",
       "    </tr>\n",
       "    <tr>\n",
       "      <th>2</th>\n",
       "      <td>Kelsea Ballerini</td>\n",
       "      <td>[{'danceability': 0.523, 'energy': 0.787, 'key...</td>\n",
       "      <td>0sr84SDJ9VN4EB7p2mWGur</td>\n",
       "      <td>Get over Yourself</td>\n",
       "      <td>0.523</td>\n",
       "      <td>0.787</td>\n",
       "      <td>9</td>\n",
       "      <td>-7.909</td>\n",
       "      <td>1</td>\n",
       "      <td>0.0778</td>\n",
       "      <td>...</td>\n",
       "      <td>0.000000</td>\n",
       "      <td>0.1540</td>\n",
       "      <td>0.505</td>\n",
       "      <td>84.072</td>\n",
       "      <td>audio_features</td>\n",
       "      <td>spotify:track:0sr84SDJ9VN4EB7p2mWGur</td>\n",
       "      <td>https://api.spotify.com/v1/tracks/0sr84SDJ9VN4...</td>\n",
       "      <td>https://api.spotify.com/v1/audio-analysis/0sr8...</td>\n",
       "      <td>200067</td>\n",
       "      <td>4</td>\n",
       "    </tr>\n",
       "    <tr>\n",
       "      <th>3</th>\n",
       "      <td>Kelsea Ballerini</td>\n",
       "      <td>[{'danceability': 0.614, 'energy': 0.832, 'key...</td>\n",
       "      <td>4A92qdxWEIojASeyffiaWn</td>\n",
       "      <td>Roses</td>\n",
       "      <td>0.614</td>\n",
       "      <td>0.832</td>\n",
       "      <td>2</td>\n",
       "      <td>-5.527</td>\n",
       "      <td>1</td>\n",
       "      <td>0.0430</td>\n",
       "      <td>...</td>\n",
       "      <td>0.000000</td>\n",
       "      <td>0.3670</td>\n",
       "      <td>0.378</td>\n",
       "      <td>105.063</td>\n",
       "      <td>audio_features</td>\n",
       "      <td>spotify:track:4A92qdxWEIojASeyffiaWn</td>\n",
       "      <td>https://api.spotify.com/v1/tracks/4A92qdxWEIoj...</td>\n",
       "      <td>https://api.spotify.com/v1/audio-analysis/4A92...</td>\n",
       "      <td>177893</td>\n",
       "      <td>4</td>\n",
       "    </tr>\n",
       "    <tr>\n",
       "      <th>4</th>\n",
       "      <td>Kelsea Ballerini</td>\n",
       "      <td>[{'danceability': 0.614, 'energy': 0.625, 'key...</td>\n",
       "      <td>19WNVv6GaJMI19Qka6RfEJ</td>\n",
       "      <td>Machine Heart</td>\n",
       "      <td>0.614</td>\n",
       "      <td>0.625</td>\n",
       "      <td>9</td>\n",
       "      <td>-5.814</td>\n",
       "      <td>1</td>\n",
       "      <td>0.0341</td>\n",
       "      <td>...</td>\n",
       "      <td>0.000000</td>\n",
       "      <td>0.1100</td>\n",
       "      <td>0.278</td>\n",
       "      <td>115.003</td>\n",
       "      <td>audio_features</td>\n",
       "      <td>spotify:track:19WNVv6GaJMI19Qka6RfEJ</td>\n",
       "      <td>https://api.spotify.com/v1/tracks/19WNVv6GaJMI...</td>\n",
       "      <td>https://api.spotify.com/v1/audio-analysis/19WN...</td>\n",
       "      <td>189107</td>\n",
       "      <td>4</td>\n",
       "    </tr>\n",
       "  </tbody>\n",
       "</table>\n",
       "<p>5 rows × 21 columns</p>\n",
       "</div>"
      ],
      "text/plain": [
       "             Artist                                              audio  \\\n",
       "0  Kelsea Ballerini  [{'danceability': 0.542, 'energy': 0.748, 'key...   \n",
       "1  Kelsea Ballerini  [{'danceability': 0.643, 'energy': 0.72, 'key'...   \n",
       "2  Kelsea Ballerini  [{'danceability': 0.523, 'energy': 0.787, 'key...   \n",
       "3  Kelsea Ballerini  [{'danceability': 0.614, 'energy': 0.832, 'key...   \n",
       "4  Kelsea Ballerini  [{'danceability': 0.614, 'energy': 0.625, 'key...   \n",
       "\n",
       "                       id               song  danceability  energy  key  \\\n",
       "0  6ENrvUXtRhkE3yl0xj8fO5          Graveyard         0.542   0.748    8   \n",
       "1  5NfJGBAL9mgFPRQxKJmiX2       Miss Me More         0.643   0.720    2   \n",
       "2  0sr84SDJ9VN4EB7p2mWGur  Get over Yourself         0.523   0.787    9   \n",
       "3  4A92qdxWEIojASeyffiaWn              Roses         0.614   0.832    2   \n",
       "4  19WNVv6GaJMI19Qka6RfEJ      Machine Heart         0.614   0.625    9   \n",
       "\n",
       "   loudness  mode  speechiness       ...        instrumentalness  liveness  \\\n",
       "0    -6.688     1       0.0593       ...                0.000004    0.1020   \n",
       "1    -7.146     1       0.0527       ...                0.000000    0.0834   \n",
       "2    -7.909     1       0.0778       ...                0.000000    0.1540   \n",
       "3    -5.527     1       0.0430       ...                0.000000    0.3670   \n",
       "4    -5.814     1       0.0341       ...                0.000000    0.1100   \n",
       "\n",
       "   valence    tempo           types                             audio_uri  \\\n",
       "0    0.409   87.982  audio_features  spotify:track:6ENrvUXtRhkE3yl0xj8fO5   \n",
       "1    0.491   96.028  audio_features  spotify:track:5NfJGBAL9mgFPRQxKJmiX2   \n",
       "2    0.505   84.072  audio_features  spotify:track:0sr84SDJ9VN4EB7p2mWGur   \n",
       "3    0.378  105.063  audio_features  spotify:track:4A92qdxWEIojASeyffiaWn   \n",
       "4    0.278  115.003  audio_features  spotify:track:19WNVv6GaJMI19Qka6RfEJ   \n",
       "\n",
       "                                                href  \\\n",
       "0  https://api.spotify.com/v1/tracks/6ENrvUXtRhkE...   \n",
       "1  https://api.spotify.com/v1/tracks/5NfJGBAL9mgF...   \n",
       "2  https://api.spotify.com/v1/tracks/0sr84SDJ9VN4...   \n",
       "3  https://api.spotify.com/v1/tracks/4A92qdxWEIoj...   \n",
       "4  https://api.spotify.com/v1/tracks/19WNVv6GaJMI...   \n",
       "\n",
       "                                        analysis_url duration_ms  \\\n",
       "0  https://api.spotify.com/v1/audio-analysis/6ENr...      226853   \n",
       "1  https://api.spotify.com/v1/audio-analysis/5NfJ...      192840   \n",
       "2  https://api.spotify.com/v1/audio-analysis/0sr8...      200067   \n",
       "3  https://api.spotify.com/v1/audio-analysis/4A92...      177893   \n",
       "4  https://api.spotify.com/v1/audio-analysis/19WN...      189107   \n",
       "\n",
       "   time_signature  \n",
       "0               4  \n",
       "1               4  \n",
       "2               4  \n",
       "3               4  \n",
       "4               4  \n",
       "\n",
       "[5 rows x 21 columns]"
      ]
     },
     "execution_count": 156,
     "metadata": {},
     "output_type": "execute_result"
    }
   ],
   "source": [
    "# Should have seperate column for each audio feature\n",
    "country_audio_df.head()"
   ]
  },
  {
   "cell_type": "code",
   "execution_count": 157,
   "metadata": {
    "collapsed": true
   },
   "outputs": [],
   "source": [
    "# Drop full audio dictionary column\n",
    "country_audio_df = country_audio_df.drop(['audio'],axis=1)"
   ]
  },
  {
   "cell_type": "code",
   "execution_count": 158,
   "metadata": {},
   "outputs": [
    {
     "data": {
      "text/html": [
       "<div>\n",
       "<style>\n",
       "    .dataframe thead tr:only-child th {\n",
       "        text-align: right;\n",
       "    }\n",
       "\n",
       "    .dataframe thead th {\n",
       "        text-align: left;\n",
       "    }\n",
       "\n",
       "    .dataframe tbody tr th {\n",
       "        vertical-align: top;\n",
       "    }\n",
       "</style>\n",
       "<table border=\"1\" class=\"dataframe\">\n",
       "  <thead>\n",
       "    <tr style=\"text-align: right;\">\n",
       "      <th></th>\n",
       "      <th>Artist</th>\n",
       "      <th>id</th>\n",
       "      <th>song</th>\n",
       "      <th>danceability</th>\n",
       "      <th>energy</th>\n",
       "      <th>key</th>\n",
       "      <th>loudness</th>\n",
       "      <th>mode</th>\n",
       "      <th>speechiness</th>\n",
       "      <th>acousticness</th>\n",
       "      <th>instrumentalness</th>\n",
       "      <th>liveness</th>\n",
       "      <th>valence</th>\n",
       "      <th>tempo</th>\n",
       "      <th>types</th>\n",
       "      <th>audio_uri</th>\n",
       "      <th>href</th>\n",
       "      <th>analysis_url</th>\n",
       "      <th>duration_ms</th>\n",
       "      <th>time_signature</th>\n",
       "    </tr>\n",
       "  </thead>\n",
       "  <tbody>\n",
       "    <tr>\n",
       "      <th>0</th>\n",
       "      <td>Kelsea Ballerini</td>\n",
       "      <td>6ENrvUXtRhkE3yl0xj8fO5</td>\n",
       "      <td>Graveyard</td>\n",
       "      <td>0.542</td>\n",
       "      <td>0.748</td>\n",
       "      <td>8</td>\n",
       "      <td>-6.688</td>\n",
       "      <td>1</td>\n",
       "      <td>0.0593</td>\n",
       "      <td>0.19500</td>\n",
       "      <td>0.000004</td>\n",
       "      <td>0.1020</td>\n",
       "      <td>0.409</td>\n",
       "      <td>87.982</td>\n",
       "      <td>audio_features</td>\n",
       "      <td>spotify:track:6ENrvUXtRhkE3yl0xj8fO5</td>\n",
       "      <td>https://api.spotify.com/v1/tracks/6ENrvUXtRhkE...</td>\n",
       "      <td>https://api.spotify.com/v1/audio-analysis/6ENr...</td>\n",
       "      <td>226853</td>\n",
       "      <td>4</td>\n",
       "    </tr>\n",
       "    <tr>\n",
       "      <th>1</th>\n",
       "      <td>Kelsea Ballerini</td>\n",
       "      <td>5NfJGBAL9mgFPRQxKJmiX2</td>\n",
       "      <td>Miss Me More</td>\n",
       "      <td>0.643</td>\n",
       "      <td>0.720</td>\n",
       "      <td>2</td>\n",
       "      <td>-7.146</td>\n",
       "      <td>1</td>\n",
       "      <td>0.0527</td>\n",
       "      <td>0.01400</td>\n",
       "      <td>0.000000</td>\n",
       "      <td>0.0834</td>\n",
       "      <td>0.491</td>\n",
       "      <td>96.028</td>\n",
       "      <td>audio_features</td>\n",
       "      <td>spotify:track:5NfJGBAL9mgFPRQxKJmiX2</td>\n",
       "      <td>https://api.spotify.com/v1/tracks/5NfJGBAL9mgF...</td>\n",
       "      <td>https://api.spotify.com/v1/audio-analysis/5NfJ...</td>\n",
       "      <td>192840</td>\n",
       "      <td>4</td>\n",
       "    </tr>\n",
       "    <tr>\n",
       "      <th>2</th>\n",
       "      <td>Kelsea Ballerini</td>\n",
       "      <td>0sr84SDJ9VN4EB7p2mWGur</td>\n",
       "      <td>Get over Yourself</td>\n",
       "      <td>0.523</td>\n",
       "      <td>0.787</td>\n",
       "      <td>9</td>\n",
       "      <td>-7.909</td>\n",
       "      <td>1</td>\n",
       "      <td>0.0778</td>\n",
       "      <td>0.03070</td>\n",
       "      <td>0.000000</td>\n",
       "      <td>0.1540</td>\n",
       "      <td>0.505</td>\n",
       "      <td>84.072</td>\n",
       "      <td>audio_features</td>\n",
       "      <td>spotify:track:0sr84SDJ9VN4EB7p2mWGur</td>\n",
       "      <td>https://api.spotify.com/v1/tracks/0sr84SDJ9VN4...</td>\n",
       "      <td>https://api.spotify.com/v1/audio-analysis/0sr8...</td>\n",
       "      <td>200067</td>\n",
       "      <td>4</td>\n",
       "    </tr>\n",
       "    <tr>\n",
       "      <th>3</th>\n",
       "      <td>Kelsea Ballerini</td>\n",
       "      <td>4A92qdxWEIojASeyffiaWn</td>\n",
       "      <td>Roses</td>\n",
       "      <td>0.614</td>\n",
       "      <td>0.832</td>\n",
       "      <td>2</td>\n",
       "      <td>-5.527</td>\n",
       "      <td>1</td>\n",
       "      <td>0.0430</td>\n",
       "      <td>0.00223</td>\n",
       "      <td>0.000000</td>\n",
       "      <td>0.3670</td>\n",
       "      <td>0.378</td>\n",
       "      <td>105.063</td>\n",
       "      <td>audio_features</td>\n",
       "      <td>spotify:track:4A92qdxWEIojASeyffiaWn</td>\n",
       "      <td>https://api.spotify.com/v1/tracks/4A92qdxWEIoj...</td>\n",
       "      <td>https://api.spotify.com/v1/audio-analysis/4A92...</td>\n",
       "      <td>177893</td>\n",
       "      <td>4</td>\n",
       "    </tr>\n",
       "    <tr>\n",
       "      <th>4</th>\n",
       "      <td>Kelsea Ballerini</td>\n",
       "      <td>19WNVv6GaJMI19Qka6RfEJ</td>\n",
       "      <td>Machine Heart</td>\n",
       "      <td>0.614</td>\n",
       "      <td>0.625</td>\n",
       "      <td>9</td>\n",
       "      <td>-5.814</td>\n",
       "      <td>1</td>\n",
       "      <td>0.0341</td>\n",
       "      <td>0.16500</td>\n",
       "      <td>0.000000</td>\n",
       "      <td>0.1100</td>\n",
       "      <td>0.278</td>\n",
       "      <td>115.003</td>\n",
       "      <td>audio_features</td>\n",
       "      <td>spotify:track:19WNVv6GaJMI19Qka6RfEJ</td>\n",
       "      <td>https://api.spotify.com/v1/tracks/19WNVv6GaJMI...</td>\n",
       "      <td>https://api.spotify.com/v1/audio-analysis/19WN...</td>\n",
       "      <td>189107</td>\n",
       "      <td>4</td>\n",
       "    </tr>\n",
       "  </tbody>\n",
       "</table>\n",
       "</div>"
      ],
      "text/plain": [
       "             Artist                      id               song  danceability  \\\n",
       "0  Kelsea Ballerini  6ENrvUXtRhkE3yl0xj8fO5          Graveyard         0.542   \n",
       "1  Kelsea Ballerini  5NfJGBAL9mgFPRQxKJmiX2       Miss Me More         0.643   \n",
       "2  Kelsea Ballerini  0sr84SDJ9VN4EB7p2mWGur  Get over Yourself         0.523   \n",
       "3  Kelsea Ballerini  4A92qdxWEIojASeyffiaWn              Roses         0.614   \n",
       "4  Kelsea Ballerini  19WNVv6GaJMI19Qka6RfEJ      Machine Heart         0.614   \n",
       "\n",
       "   energy  key  loudness  mode  speechiness  acousticness  instrumentalness  \\\n",
       "0   0.748    8    -6.688     1       0.0593       0.19500          0.000004   \n",
       "1   0.720    2    -7.146     1       0.0527       0.01400          0.000000   \n",
       "2   0.787    9    -7.909     1       0.0778       0.03070          0.000000   \n",
       "3   0.832    2    -5.527     1       0.0430       0.00223          0.000000   \n",
       "4   0.625    9    -5.814     1       0.0341       0.16500          0.000000   \n",
       "\n",
       "   liveness  valence    tempo           types  \\\n",
       "0    0.1020    0.409   87.982  audio_features   \n",
       "1    0.0834    0.491   96.028  audio_features   \n",
       "2    0.1540    0.505   84.072  audio_features   \n",
       "3    0.3670    0.378  105.063  audio_features   \n",
       "4    0.1100    0.278  115.003  audio_features   \n",
       "\n",
       "                              audio_uri  \\\n",
       "0  spotify:track:6ENrvUXtRhkE3yl0xj8fO5   \n",
       "1  spotify:track:5NfJGBAL9mgFPRQxKJmiX2   \n",
       "2  spotify:track:0sr84SDJ9VN4EB7p2mWGur   \n",
       "3  spotify:track:4A92qdxWEIojASeyffiaWn   \n",
       "4  spotify:track:19WNVv6GaJMI19Qka6RfEJ   \n",
       "\n",
       "                                                href  \\\n",
       "0  https://api.spotify.com/v1/tracks/6ENrvUXtRhkE...   \n",
       "1  https://api.spotify.com/v1/tracks/5NfJGBAL9mgF...   \n",
       "2  https://api.spotify.com/v1/tracks/0sr84SDJ9VN4...   \n",
       "3  https://api.spotify.com/v1/tracks/4A92qdxWEIoj...   \n",
       "4  https://api.spotify.com/v1/tracks/19WNVv6GaJMI...   \n",
       "\n",
       "                                        analysis_url  duration_ms  \\\n",
       "0  https://api.spotify.com/v1/audio-analysis/6ENr...       226853   \n",
       "1  https://api.spotify.com/v1/audio-analysis/5NfJ...       192840   \n",
       "2  https://api.spotify.com/v1/audio-analysis/0sr8...       200067   \n",
       "3  https://api.spotify.com/v1/audio-analysis/4A92...       177893   \n",
       "4  https://api.spotify.com/v1/audio-analysis/19WN...       189107   \n",
       "\n",
       "   time_signature  \n",
       "0               4  \n",
       "1               4  \n",
       "2               4  \n",
       "3               4  \n",
       "4               4  "
      ]
     },
     "execution_count": 158,
     "metadata": {},
     "output_type": "execute_result"
    }
   ],
   "source": [
    "country_audio_df.head()"
   ]
  },
  {
   "cell_type": "markdown",
   "metadata": {},
   "source": [
    "We need to drop duplicate songs as well, there could be a lot that snuck in there."
   ]
  },
  {
   "cell_type": "code",
   "execution_count": 160,
   "metadata": {
    "collapsed": true
   },
   "outputs": [],
   "source": [
    "country_audio_df = country_audio_df.drop_duplicates(subset='song')"
   ]
  },
  {
   "cell_type": "code",
   "execution_count": 161,
   "metadata": {},
   "outputs": [
    {
     "data": {
      "text/plain": [
       "4143"
      ]
     },
     "execution_count": 161,
     "metadata": {},
     "output_type": "execute_result"
    }
   ],
   "source": [
    "len(country_audio_df)"
   ]
  },
  {
   "cell_type": "code",
   "execution_count": 163,
   "metadata": {
    "collapsed": true
   },
   "outputs": [],
   "source": [
    "# Work with numeric columns only\n",
    "country_audio_features = country_audio_df[['danceability','energy','acousticness','key','loudness','mode','speechiness','instrumentalness','liveness','valence','tempo','duration_ms','time_signature']]"
   ]
  },
  {
   "cell_type": "markdown",
   "metadata": {},
   "source": [
    "Quick analysis of the features"
   ]
  },
  {
   "cell_type": "code",
   "execution_count": 164,
   "metadata": {},
   "outputs": [
    {
     "data": {
      "text/html": [
       "<div>\n",
       "<style>\n",
       "    .dataframe thead tr:only-child th {\n",
       "        text-align: right;\n",
       "    }\n",
       "\n",
       "    .dataframe thead th {\n",
       "        text-align: left;\n",
       "    }\n",
       "\n",
       "    .dataframe tbody tr th {\n",
       "        vertical-align: top;\n",
       "    }\n",
       "</style>\n",
       "<table border=\"1\" class=\"dataframe\">\n",
       "  <thead>\n",
       "    <tr style=\"text-align: right;\">\n",
       "      <th></th>\n",
       "      <th>danceability</th>\n",
       "      <th>energy</th>\n",
       "      <th>acousticness</th>\n",
       "      <th>key</th>\n",
       "      <th>loudness</th>\n",
       "      <th>mode</th>\n",
       "      <th>speechiness</th>\n",
       "      <th>instrumentalness</th>\n",
       "      <th>liveness</th>\n",
       "      <th>valence</th>\n",
       "      <th>tempo</th>\n",
       "      <th>duration_ms</th>\n",
       "      <th>time_signature</th>\n",
       "    </tr>\n",
       "  </thead>\n",
       "  <tbody>\n",
       "    <tr>\n",
       "      <th>count</th>\n",
       "      <td>4143.000000</td>\n",
       "      <td>4143.000000</td>\n",
       "      <td>4143.000000</td>\n",
       "      <td>4143.000000</td>\n",
       "      <td>4143.000000</td>\n",
       "      <td>4143.000000</td>\n",
       "      <td>4143.000000</td>\n",
       "      <td>4143.000000</td>\n",
       "      <td>4143.000000</td>\n",
       "      <td>4143.000000</td>\n",
       "      <td>4143.000000</td>\n",
       "      <td>4143.000000</td>\n",
       "      <td>4143.000000</td>\n",
       "    </tr>\n",
       "    <tr>\n",
       "      <th>mean</th>\n",
       "      <td>0.553074</td>\n",
       "      <td>0.660494</td>\n",
       "      <td>0.250885</td>\n",
       "      <td>5.177166</td>\n",
       "      <td>-6.455070</td>\n",
       "      <td>0.887762</td>\n",
       "      <td>0.042479</td>\n",
       "      <td>0.005284</td>\n",
       "      <td>0.197683</td>\n",
       "      <td>0.507854</td>\n",
       "      <td>124.646406</td>\n",
       "      <td>219972.205889</td>\n",
       "      <td>3.916003</td>\n",
       "    </tr>\n",
       "    <tr>\n",
       "      <th>std</th>\n",
       "      <td>0.107446</td>\n",
       "      <td>0.201615</td>\n",
       "      <td>0.255452</td>\n",
       "      <td>3.431680</td>\n",
       "      <td>2.936286</td>\n",
       "      <td>0.315697</td>\n",
       "      <td>0.043908</td>\n",
       "      <td>0.044140</td>\n",
       "      <td>0.173468</td>\n",
       "      <td>0.223441</td>\n",
       "      <td>31.478153</td>\n",
       "      <td>41346.541345</td>\n",
       "      <td>0.331353</td>\n",
       "    </tr>\n",
       "    <tr>\n",
       "      <th>min</th>\n",
       "      <td>0.000000</td>\n",
       "      <td>0.000000</td>\n",
       "      <td>0.000000</td>\n",
       "      <td>0.000000</td>\n",
       "      <td>-60.000000</td>\n",
       "      <td>0.000000</td>\n",
       "      <td>0.000000</td>\n",
       "      <td>0.000000</td>\n",
       "      <td>0.000000</td>\n",
       "      <td>0.000000</td>\n",
       "      <td>0.000000</td>\n",
       "      <td>10470.000000</td>\n",
       "      <td>0.000000</td>\n",
       "    </tr>\n",
       "    <tr>\n",
       "      <th>25%</th>\n",
       "      <td>0.489000</td>\n",
       "      <td>0.528000</td>\n",
       "      <td>0.044050</td>\n",
       "      <td>2.000000</td>\n",
       "      <td>-7.641000</td>\n",
       "      <td>1.000000</td>\n",
       "      <td>0.028900</td>\n",
       "      <td>0.000000</td>\n",
       "      <td>0.101000</td>\n",
       "      <td>0.323000</td>\n",
       "      <td>99.040000</td>\n",
       "      <td>195312.000000</td>\n",
       "      <td>4.000000</td>\n",
       "    </tr>\n",
       "    <tr>\n",
       "      <th>50%</th>\n",
       "      <td>0.560000</td>\n",
       "      <td>0.700000</td>\n",
       "      <td>0.157000</td>\n",
       "      <td>5.000000</td>\n",
       "      <td>-5.852000</td>\n",
       "      <td>1.000000</td>\n",
       "      <td>0.033800</td>\n",
       "      <td>0.000001</td>\n",
       "      <td>0.129000</td>\n",
       "      <td>0.498000</td>\n",
       "      <td>123.920000</td>\n",
       "      <td>216427.000000</td>\n",
       "      <td>4.000000</td>\n",
       "    </tr>\n",
       "    <tr>\n",
       "      <th>75%</th>\n",
       "      <td>0.624000</td>\n",
       "      <td>0.823000</td>\n",
       "      <td>0.388000</td>\n",
       "      <td>8.000000</td>\n",
       "      <td>-4.666500</td>\n",
       "      <td>1.000000</td>\n",
       "      <td>0.042800</td>\n",
       "      <td>0.000043</td>\n",
       "      <td>0.239000</td>\n",
       "      <td>0.688000</td>\n",
       "      <td>145.970000</td>\n",
       "      <td>239786.500000</td>\n",
       "      <td>4.000000</td>\n",
       "    </tr>\n",
       "    <tr>\n",
       "      <th>max</th>\n",
       "      <td>0.901000</td>\n",
       "      <td>0.991000</td>\n",
       "      <td>0.994000</td>\n",
       "      <td>11.000000</td>\n",
       "      <td>-0.521000</td>\n",
       "      <td>1.000000</td>\n",
       "      <td>0.959000</td>\n",
       "      <td>0.935000</td>\n",
       "      <td>0.993000</td>\n",
       "      <td>0.976000</td>\n",
       "      <td>209.674000</td>\n",
       "      <td>623553.000000</td>\n",
       "      <td>5.000000</td>\n",
       "    </tr>\n",
       "  </tbody>\n",
       "</table>\n",
       "</div>"
      ],
      "text/plain": [
       "       danceability       energy  acousticness          key     loudness  \\\n",
       "count   4143.000000  4143.000000   4143.000000  4143.000000  4143.000000   \n",
       "mean       0.553074     0.660494      0.250885     5.177166    -6.455070   \n",
       "std        0.107446     0.201615      0.255452     3.431680     2.936286   \n",
       "min        0.000000     0.000000      0.000000     0.000000   -60.000000   \n",
       "25%        0.489000     0.528000      0.044050     2.000000    -7.641000   \n",
       "50%        0.560000     0.700000      0.157000     5.000000    -5.852000   \n",
       "75%        0.624000     0.823000      0.388000     8.000000    -4.666500   \n",
       "max        0.901000     0.991000      0.994000    11.000000    -0.521000   \n",
       "\n",
       "              mode  speechiness  instrumentalness     liveness      valence  \\\n",
       "count  4143.000000  4143.000000       4143.000000  4143.000000  4143.000000   \n",
       "mean      0.887762     0.042479          0.005284     0.197683     0.507854   \n",
       "std       0.315697     0.043908          0.044140     0.173468     0.223441   \n",
       "min       0.000000     0.000000          0.000000     0.000000     0.000000   \n",
       "25%       1.000000     0.028900          0.000000     0.101000     0.323000   \n",
       "50%       1.000000     0.033800          0.000001     0.129000     0.498000   \n",
       "75%       1.000000     0.042800          0.000043     0.239000     0.688000   \n",
       "max       1.000000     0.959000          0.935000     0.993000     0.976000   \n",
       "\n",
       "             tempo    duration_ms  time_signature  \n",
       "count  4143.000000    4143.000000     4143.000000  \n",
       "mean    124.646406  219972.205889        3.916003  \n",
       "std      31.478153   41346.541345        0.331353  \n",
       "min       0.000000   10470.000000        0.000000  \n",
       "25%      99.040000  195312.000000        4.000000  \n",
       "50%     123.920000  216427.000000        4.000000  \n",
       "75%     145.970000  239786.500000        4.000000  \n",
       "max     209.674000  623553.000000        5.000000  "
      ]
     },
     "execution_count": 164,
     "metadata": {},
     "output_type": "execute_result"
    }
   ],
   "source": [
    "country_audio_features.describe()"
   ]
  },
  {
   "cell_type": "code",
   "execution_count": 165,
   "metadata": {},
   "outputs": [
    {
     "data": {
      "text/html": [
       "<div>\n",
       "<style>\n",
       "    .dataframe thead tr:only-child th {\n",
       "        text-align: right;\n",
       "    }\n",
       "\n",
       "    .dataframe thead th {\n",
       "        text-align: left;\n",
       "    }\n",
       "\n",
       "    .dataframe tbody tr th {\n",
       "        vertical-align: top;\n",
       "    }\n",
       "</style>\n",
       "<table border=\"1\" class=\"dataframe\">\n",
       "  <thead>\n",
       "    <tr style=\"text-align: right;\">\n",
       "      <th></th>\n",
       "      <th>danceability</th>\n",
       "      <th>energy</th>\n",
       "      <th>acousticness</th>\n",
       "      <th>key</th>\n",
       "      <th>loudness</th>\n",
       "      <th>mode</th>\n",
       "      <th>speechiness</th>\n",
       "      <th>instrumentalness</th>\n",
       "      <th>liveness</th>\n",
       "      <th>valence</th>\n",
       "      <th>tempo</th>\n",
       "      <th>duration_ms</th>\n",
       "      <th>time_signature</th>\n",
       "    </tr>\n",
       "  </thead>\n",
       "  <tbody>\n",
       "    <tr>\n",
       "      <th>danceability</th>\n",
       "      <td>1.000000</td>\n",
       "      <td>0.129277</td>\n",
       "      <td>-0.120115</td>\n",
       "      <td>-0.002444</td>\n",
       "      <td>0.109999</td>\n",
       "      <td>-0.013043</td>\n",
       "      <td>-0.002424</td>\n",
       "      <td>-0.062134</td>\n",
       "      <td>-0.128985</td>\n",
       "      <td>0.396139</td>\n",
       "      <td>-0.249974</td>\n",
       "      <td>-0.175766</td>\n",
       "      <td>0.203706</td>\n",
       "    </tr>\n",
       "    <tr>\n",
       "      <th>energy</th>\n",
       "      <td>0.129277</td>\n",
       "      <td>1.000000</td>\n",
       "      <td>-0.727848</td>\n",
       "      <td>0.034227</td>\n",
       "      <td>0.748437</td>\n",
       "      <td>-0.085720</td>\n",
       "      <td>0.111771</td>\n",
       "      <td>-0.022094</td>\n",
       "      <td>0.171897</td>\n",
       "      <td>0.595365</td>\n",
       "      <td>0.206736</td>\n",
       "      <td>-0.121704</td>\n",
       "      <td>0.290012</td>\n",
       "    </tr>\n",
       "    <tr>\n",
       "      <th>acousticness</th>\n",
       "      <td>-0.120115</td>\n",
       "      <td>-0.727848</td>\n",
       "      <td>1.000000</td>\n",
       "      <td>-0.001359</td>\n",
       "      <td>-0.542061</td>\n",
       "      <td>0.098491</td>\n",
       "      <td>0.003656</td>\n",
       "      <td>0.012524</td>\n",
       "      <td>-0.065364</td>\n",
       "      <td>-0.366161</td>\n",
       "      <td>-0.140177</td>\n",
       "      <td>0.014595</td>\n",
       "      <td>-0.184910</td>\n",
       "    </tr>\n",
       "    <tr>\n",
       "      <th>key</th>\n",
       "      <td>-0.002444</td>\n",
       "      <td>0.034227</td>\n",
       "      <td>-0.001359</td>\n",
       "      <td>1.000000</td>\n",
       "      <td>0.040377</td>\n",
       "      <td>-0.054513</td>\n",
       "      <td>0.023564</td>\n",
       "      <td>-0.009005</td>\n",
       "      <td>0.027714</td>\n",
       "      <td>0.029512</td>\n",
       "      <td>-0.018438</td>\n",
       "      <td>-0.019993</td>\n",
       "      <td>0.021371</td>\n",
       "    </tr>\n",
       "    <tr>\n",
       "      <th>loudness</th>\n",
       "      <td>0.109999</td>\n",
       "      <td>0.748437</td>\n",
       "      <td>-0.542061</td>\n",
       "      <td>0.040377</td>\n",
       "      <td>1.000000</td>\n",
       "      <td>-0.006219</td>\n",
       "      <td>-0.009879</td>\n",
       "      <td>-0.095472</td>\n",
       "      <td>0.041919</td>\n",
       "      <td>0.357425</td>\n",
       "      <td>0.206830</td>\n",
       "      <td>-0.086629</td>\n",
       "      <td>0.290100</td>\n",
       "    </tr>\n",
       "    <tr>\n",
       "      <th>mode</th>\n",
       "      <td>-0.013043</td>\n",
       "      <td>-0.085720</td>\n",
       "      <td>0.098491</td>\n",
       "      <td>-0.054513</td>\n",
       "      <td>-0.006219</td>\n",
       "      <td>1.000000</td>\n",
       "      <td>-0.106296</td>\n",
       "      <td>-0.028030</td>\n",
       "      <td>0.026010</td>\n",
       "      <td>-0.046047</td>\n",
       "      <td>-0.015098</td>\n",
       "      <td>0.025917</td>\n",
       "      <td>-0.009367</td>\n",
       "    </tr>\n",
       "    <tr>\n",
       "      <th>speechiness</th>\n",
       "      <td>-0.002424</td>\n",
       "      <td>0.111771</td>\n",
       "      <td>0.003656</td>\n",
       "      <td>0.023564</td>\n",
       "      <td>-0.009879</td>\n",
       "      <td>-0.106296</td>\n",
       "      <td>1.000000</td>\n",
       "      <td>-0.001876</td>\n",
       "      <td>0.112487</td>\n",
       "      <td>0.116094</td>\n",
       "      <td>0.109175</td>\n",
       "      <td>-0.154880</td>\n",
       "      <td>0.057427</td>\n",
       "    </tr>\n",
       "    <tr>\n",
       "      <th>instrumentalness</th>\n",
       "      <td>-0.062134</td>\n",
       "      <td>-0.022094</td>\n",
       "      <td>0.012524</td>\n",
       "      <td>-0.009005</td>\n",
       "      <td>-0.095472</td>\n",
       "      <td>-0.028030</td>\n",
       "      <td>-0.001876</td>\n",
       "      <td>1.000000</td>\n",
       "      <td>0.003801</td>\n",
       "      <td>-0.019296</td>\n",
       "      <td>-0.040841</td>\n",
       "      <td>0.003898</td>\n",
       "      <td>-0.049547</td>\n",
       "    </tr>\n",
       "    <tr>\n",
       "      <th>liveness</th>\n",
       "      <td>-0.128985</td>\n",
       "      <td>0.171897</td>\n",
       "      <td>-0.065364</td>\n",
       "      <td>0.027714</td>\n",
       "      <td>0.041919</td>\n",
       "      <td>0.026010</td>\n",
       "      <td>0.112487</td>\n",
       "      <td>0.003801</td>\n",
       "      <td>1.000000</td>\n",
       "      <td>0.094486</td>\n",
       "      <td>0.032156</td>\n",
       "      <td>0.088649</td>\n",
       "      <td>0.048896</td>\n",
       "    </tr>\n",
       "    <tr>\n",
       "      <th>valence</th>\n",
       "      <td>0.396139</td>\n",
       "      <td>0.595365</td>\n",
       "      <td>-0.366161</td>\n",
       "      <td>0.029512</td>\n",
       "      <td>0.357425</td>\n",
       "      <td>-0.046047</td>\n",
       "      <td>0.116094</td>\n",
       "      <td>-0.019296</td>\n",
       "      <td>0.094486</td>\n",
       "      <td>1.000000</td>\n",
       "      <td>0.137665</td>\n",
       "      <td>-0.302763</td>\n",
       "      <td>0.205539</td>\n",
       "    </tr>\n",
       "    <tr>\n",
       "      <th>tempo</th>\n",
       "      <td>-0.249974</td>\n",
       "      <td>0.206736</td>\n",
       "      <td>-0.140177</td>\n",
       "      <td>-0.018438</td>\n",
       "      <td>0.206830</td>\n",
       "      <td>-0.015098</td>\n",
       "      <td>0.109175</td>\n",
       "      <td>-0.040841</td>\n",
       "      <td>0.032156</td>\n",
       "      <td>0.137665</td>\n",
       "      <td>1.000000</td>\n",
       "      <td>-0.026362</td>\n",
       "      <td>0.061641</td>\n",
       "    </tr>\n",
       "    <tr>\n",
       "      <th>duration_ms</th>\n",
       "      <td>-0.175766</td>\n",
       "      <td>-0.121704</td>\n",
       "      <td>0.014595</td>\n",
       "      <td>-0.019993</td>\n",
       "      <td>-0.086629</td>\n",
       "      <td>0.025917</td>\n",
       "      <td>-0.154880</td>\n",
       "      <td>0.003898</td>\n",
       "      <td>0.088649</td>\n",
       "      <td>-0.302763</td>\n",
       "      <td>-0.026362</td>\n",
       "      <td>1.000000</td>\n",
       "      <td>-0.018524</td>\n",
       "    </tr>\n",
       "    <tr>\n",
       "      <th>time_signature</th>\n",
       "      <td>0.203706</td>\n",
       "      <td>0.290012</td>\n",
       "      <td>-0.184910</td>\n",
       "      <td>0.021371</td>\n",
       "      <td>0.290100</td>\n",
       "      <td>-0.009367</td>\n",
       "      <td>0.057427</td>\n",
       "      <td>-0.049547</td>\n",
       "      <td>0.048896</td>\n",
       "      <td>0.205539</td>\n",
       "      <td>0.061641</td>\n",
       "      <td>-0.018524</td>\n",
       "      <td>1.000000</td>\n",
       "    </tr>\n",
       "  </tbody>\n",
       "</table>\n",
       "</div>"
      ],
      "text/plain": [
       "                  danceability    energy  acousticness       key  loudness  \\\n",
       "danceability          1.000000  0.129277     -0.120115 -0.002444  0.109999   \n",
       "energy                0.129277  1.000000     -0.727848  0.034227  0.748437   \n",
       "acousticness         -0.120115 -0.727848      1.000000 -0.001359 -0.542061   \n",
       "key                  -0.002444  0.034227     -0.001359  1.000000  0.040377   \n",
       "loudness              0.109999  0.748437     -0.542061  0.040377  1.000000   \n",
       "mode                 -0.013043 -0.085720      0.098491 -0.054513 -0.006219   \n",
       "speechiness          -0.002424  0.111771      0.003656  0.023564 -0.009879   \n",
       "instrumentalness     -0.062134 -0.022094      0.012524 -0.009005 -0.095472   \n",
       "liveness             -0.128985  0.171897     -0.065364  0.027714  0.041919   \n",
       "valence               0.396139  0.595365     -0.366161  0.029512  0.357425   \n",
       "tempo                -0.249974  0.206736     -0.140177 -0.018438  0.206830   \n",
       "duration_ms          -0.175766 -0.121704      0.014595 -0.019993 -0.086629   \n",
       "time_signature        0.203706  0.290012     -0.184910  0.021371  0.290100   \n",
       "\n",
       "                      mode  speechiness  instrumentalness  liveness   valence  \\\n",
       "danceability     -0.013043    -0.002424         -0.062134 -0.128985  0.396139   \n",
       "energy           -0.085720     0.111771         -0.022094  0.171897  0.595365   \n",
       "acousticness      0.098491     0.003656          0.012524 -0.065364 -0.366161   \n",
       "key              -0.054513     0.023564         -0.009005  0.027714  0.029512   \n",
       "loudness         -0.006219    -0.009879         -0.095472  0.041919  0.357425   \n",
       "mode              1.000000    -0.106296         -0.028030  0.026010 -0.046047   \n",
       "speechiness      -0.106296     1.000000         -0.001876  0.112487  0.116094   \n",
       "instrumentalness -0.028030    -0.001876          1.000000  0.003801 -0.019296   \n",
       "liveness          0.026010     0.112487          0.003801  1.000000  0.094486   \n",
       "valence          -0.046047     0.116094         -0.019296  0.094486  1.000000   \n",
       "tempo            -0.015098     0.109175         -0.040841  0.032156  0.137665   \n",
       "duration_ms       0.025917    -0.154880          0.003898  0.088649 -0.302763   \n",
       "time_signature   -0.009367     0.057427         -0.049547  0.048896  0.205539   \n",
       "\n",
       "                     tempo  duration_ms  time_signature  \n",
       "danceability     -0.249974    -0.175766        0.203706  \n",
       "energy            0.206736    -0.121704        0.290012  \n",
       "acousticness     -0.140177     0.014595       -0.184910  \n",
       "key              -0.018438    -0.019993        0.021371  \n",
       "loudness          0.206830    -0.086629        0.290100  \n",
       "mode             -0.015098     0.025917       -0.009367  \n",
       "speechiness       0.109175    -0.154880        0.057427  \n",
       "instrumentalness -0.040841     0.003898       -0.049547  \n",
       "liveness          0.032156     0.088649        0.048896  \n",
       "valence           0.137665    -0.302763        0.205539  \n",
       "tempo             1.000000    -0.026362        0.061641  \n",
       "duration_ms      -0.026362     1.000000       -0.018524  \n",
       "time_signature    0.061641    -0.018524        1.000000  "
      ]
     },
     "execution_count": 165,
     "metadata": {},
     "output_type": "execute_result"
    }
   ],
   "source": [
    "country_audio_features.corr()"
   ]
  },
  {
   "cell_type": "code",
   "execution_count": 167,
   "metadata": {},
   "outputs": [
    {
     "data": {
      "text/plain": [
       "<matplotlib.axes._subplots.AxesSubplot at 0x1a47a20b38>"
      ]
     },
     "execution_count": 167,
     "metadata": {},
     "output_type": "execute_result"
    },
    {
     "data": {
      "image/png": "[encoded data removed]",
      "text/plain": [
       "<Figure size 432x288 with 2 Axes>"
      ]
     },
     "metadata": {},
     "output_type": "display_data"
    }
   ],
   "source": [
    "import seaborn as sns\n",
    "sns.heatmap(country_audio_features.corr(),cmap='seismic')"
   ]
  },
  {
   "cell_type": "markdown",
   "metadata": {},
   "source": [
    "Most features appear to be negatively correlated with eachother."
   ]
  },
  {
   "cell_type": "markdown",
   "metadata": {},
   "source": [
    "We can convert these features to arrays and use nearest neighbors to perform similar tasks as before to find songs with the closest audio features to eachother."
   ]
  },
  {
   "cell_type": "code",
   "execution_count": 168,
   "metadata": {
    "collapsed": true
   },
   "outputs": [],
   "source": [
    "country_audio_array = np.array(country_audio_features)"
   ]
  },
  {
   "cell_type": "code",
   "execution_count": 170,
   "metadata": {
    "collapsed": true
   },
   "outputs": [],
   "source": [
    "# Reshape with 13 dimensions\n",
    "country_NN_audio = NN.fit(country_audio_array)\n",
    "audio_vec_cT = []\n",
    "for vec in country_audio_array:\n",
    "    new_vec = vec.reshape(1,13)\n",
    "    audio_vec_cT.append(new_vec)"
   ]
  },
  {
   "cell_type": "code",
   "execution_count": 172,
   "metadata": {},
   "outputs": [],
   "source": [
    "closest_country_audio = []\n",
    "for vec in audio_vec_cT:\n",
    "    close_10 = country_NN_audio.kneighbors(X=vec,n_neighbors=10)[1]\n",
    "    closest_country_audio.append(close_10)"
   ]
  },
  {
   "cell_type": "markdown",
   "metadata": {},
   "source": [
    "Very similar to the function before, but the song will map to the audio features list instead of the lyrics list."
   ]
  },
  {
   "cell_type": "code",
   "execution_count": 225,
   "metadata": {
    "collapsed": true
   },
   "outputs": [],
   "source": [
    "def similar_country_audio(artist,song):\n",
    "    neighbors_lyrics=[]\n",
    "    neighbors = []\n",
    "    \n",
    "    lyrics = PyLyrics.getLyrics(artist,song)\n",
    "    clean_lyrics = lyrics.replace('\\n',' ')\n",
    "    \n",
    "    position = country_songs.index(clean_lyrics)\n",
    "   \n",
    "    for song in closest_country_audio[position]:\n",
    "        for index in song:\n",
    "            if index != position:\n",
    "                neighbors_lyrics.append(country_songs[index])\n",
    "    \n",
    "    for dicts in country_lyrics:\n",
    "        for key,val in dicts.items():\n",
    "            for i in neighbors_lyrics:\n",
    "                if val == i:\n",
    "                    neighbors.append(dicts['Artist'] + ' : ' + key)\n",
    "                    neighbors = list(set(neighbors))\n",
    "    \n",
    "    return neighbors"
   ]
  },
  {
   "cell_type": "markdown",
   "metadata": {},
   "source": [
    "We will use the same two songs as before for examples."
   ]
  },
  {
   "cell_type": "code",
   "execution_count": 226,
   "metadata": {},
   "outputs": [
    {
     "name": "stderr",
     "output_type": "stream",
     "text": [
      "/Users/peyjmonahmad/anaconda3/lib/python3.6/site-packages/bs4/__init__.py:181: UserWarning: No parser was explicitly specified, so I'm using the best available HTML parser for this system (\"lxml\"). This usually isn't a problem, but if you run this code on another system, or in a different virtual environment, it may use a different parser and behave differently.\n",
      "\n",
      "The code that caused this warning is on line 193 of the file /Users/peyjmonahmad/anaconda3/lib/python3.6/runpy.py. To get rid of this warning, change code that looks like this:\n",
      "\n",
      " BeautifulSoup(YOUR_MARKUP})\n",
      "\n",
      "to this:\n",
      "\n",
      " BeautifulSoup(YOUR_MARKUP, \"lxml\")\n",
      "\n",
      "  markup_type=markup_type))\n"
     ]
    },
    {
     "data": {
      "text/plain": [
       "['Hank Williams, Jr. : Queen Of My Heart',\n",
       " 'Chris LeDoux : Bareback Jack',\n",
       " 'Miranda Lambert : Ugly Lights',\n",
       " 'Ashley Monroe : Orphan',\n",
       " 'JB and The Moonshine Band : Kiss Me That Way',\n",
       " 'Lonestar : Life as We Know It',\n",
       " 'Thomas Rhett : Smooth Like The Summer',\n",
       " 'Kip Moore : Comeback Kid',\n",
       " \"Jo Dee Messina : My Give A Damn's Busted\"]"
      ]
     },
     "execution_count": 226,
     "metadata": {},
     "output_type": "execute_result"
    }
   ],
   "source": [
    "similar_country_audio('Keith Urban','Never Comin Down')"
   ]
  },
  {
   "cell_type": "code",
   "execution_count": 227,
   "metadata": {},
   "outputs": [
    {
     "name": "stderr",
     "output_type": "stream",
     "text": [
      "/Users/peyjmonahmad/anaconda3/lib/python3.6/site-packages/bs4/__init__.py:181: UserWarning: No parser was explicitly specified, so I'm using the best available HTML parser for this system (\"lxml\"). This usually isn't a problem, but if you run this code on another system, or in a different virtual environment, it may use a different parser and behave differently.\n",
      "\n",
      "The code that caused this warning is on line 193 of the file /Users/peyjmonahmad/anaconda3/lib/python3.6/runpy.py. To get rid of this warning, change code that looks like this:\n",
      "\n",
      " BeautifulSoup(YOUR_MARKUP})\n",
      "\n",
      "to this:\n",
      "\n",
      " BeautifulSoup(YOUR_MARKUP, \"lxml\")\n",
      "\n",
      "  markup_type=markup_type))\n"
     ]
    },
    {
     "data": {
      "text/plain": [
       "['Eli Young Band : Never Land',\n",
       " \"Brooks & Dunn : She's Not the Cheatin' Kind\",\n",
       " 'Gretchen Wilson : The Earrings Song',\n",
       " 'Steve Earle : Local Memory',\n",
       " 'Hank Williams, Jr. : Keep Your Hands To Yourself',\n",
       " 'Blake Shelton : When the Wine Wears Off',\n",
       " \"Steve Miller Band : Tell Me What's The Reason\",\n",
       " 'Carrie Underwood : Undo It',\n",
       " 'Taylor Swift : Dancing With Our Hands Tied']"
      ]
     },
     "execution_count": 227,
     "metadata": {},
     "output_type": "execute_result"
    }
   ],
   "source": [
    "similar_country_audio('Tim McGraw',\"It's Your Love\")"
   ]
  },
  {
   "cell_type": "markdown",
   "metadata": {},
   "source": [
    "If you go back and see similar lyrics, it is clear that songs with closest audio features are different then closest lyrics.  We do not expect them to have any relation."
   ]
  },
  {
   "cell_type": "markdown",
   "metadata": {},
   "source": [
    "### Now since we have seperate lists of the closest lyrical and closest audio features, we can combine these together to create an optimal similarity playlist!\n",
    "\n",
    "The one issue we need to take care of is that the audio list and lyrics are not of the same length.  It is imperative that these two lists are the same length, so we can map each song to the same index of both lists.  "
   ]
  },
  {
   "cell_type": "code",
   "execution_count": 183,
   "metadata": {},
   "outputs": [],
   "source": [
    "# Convert full dataframe into a list of dictionaries\n",
    "country_tracks = list(country_audio_df.T.to_dict().values())"
   ]
  },
  {
   "cell_type": "code",
   "execution_count": 184,
   "metadata": {},
   "outputs": [
    {
     "data": {
      "text/plain": [
       "4143"
      ]
     },
     "execution_count": 184,
     "metadata": {},
     "output_type": "execute_result"
    }
   ],
   "source": [
    "len(country_tracks)"
   ]
  },
  {
   "cell_type": "code",
   "execution_count": 186,
   "metadata": {},
   "outputs": [
    {
     "data": {
      "text/plain": [
       "4223"
      ]
     },
     "execution_count": 186,
     "metadata": {},
     "output_type": "execute_result"
    }
   ],
   "source": [
    "len(country_songs)"
   ]
  },
  {
   "cell_type": "markdown",
   "metadata": {},
   "source": [
    "For simplicity, we will only include songs in the lyric list that are also in the audio list."
   ]
  },
  {
   "cell_type": "code",
   "execution_count": 187,
   "metadata": {
    "collapsed": true
   },
   "outputs": [],
   "source": [
    "# Initialize new list of artist and song of each track in audio list\n",
    "country_artist_song = []\n",
    "for dicts in country_tracks:\n",
    "    c_dict = {}\n",
    "    c_dict[dicts['Artist']] = dicts['song']\n",
    "    country_artist_song.append(c_dict)"
   ]
  },
  {
   "cell_type": "code",
   "execution_count": 189,
   "metadata": {},
   "outputs": [
    {
     "data": {
      "text/plain": [
       "[{'Kelsea Ballerini': 'Graveyard'},\n",
       " {'Kelsea Ballerini': 'Miss Me More'},\n",
       " {'Kelsea Ballerini': 'Get over Yourself'},\n",
       " {'Kelsea Ballerini': 'Roses'},\n",
       " {'Kelsea Ballerini': 'Machine Heart'}]"
      ]
     },
     "execution_count": 189,
     "metadata": {},
     "output_type": "execute_result"
    }
   ],
   "source": [
    "country_artist_song[:5]"
   ]
  },
  {
   "cell_type": "markdown",
   "metadata": {},
   "source": [
    "Now we construct a new lyrics list, by looping through each song/artist and retrieving lyrics from the PyLyrics library (This will take some time)"
   ]
  },
  {
   "cell_type": "code",
   "execution_count": 193,
   "metadata": {},
   "outputs": [
    {
     "name": "stderr",
     "output_type": "stream",
     "text": [
      "/Users/peyjmonahmad/anaconda3/lib/python3.6/site-packages/bs4/__init__.py:181: UserWarning: No parser was explicitly specified, so I'm using the best available HTML parser for this system (\"lxml\"). This usually isn't a problem, but if you run this code on another system, or in a different virtual environment, it may use a different parser and behave differently.\n",
      "\n",
      "The code that caused this warning is on line 193 of the file /Users/peyjmonahmad/anaconda3/lib/python3.6/runpy.py. To get rid of this warning, change code that looks like this:\n",
      "\n",
      " BeautifulSoup(YOUR_MARKUP})\n",
      "\n",
      "to this:\n",
      "\n",
      " BeautifulSoup(YOUR_MARKUP, \"lxml\")\n",
      "\n",
      "  markup_type=markup_type))\n"
     ]
    }
   ],
   "source": [
    "country_new_lyrics = []\n",
    "for i in country_artist_song:\n",
    "    for artist,song in i.items():\n",
    "        lyrics = PyLyrics.getLyrics(artist,song)\n",
    "        clean_lyrics = lyrics.replace('\\n',' ')\n",
    "        country_new_lyrics.append(clean_lyrics)"
   ]
  },
  {
   "cell_type": "markdown",
   "metadata": {},
   "source": [
    "Great, now the new lyrics list and audio list should be the same length."
   ]
  },
  {
   "cell_type": "code",
   "execution_count": 195,
   "metadata": {},
   "outputs": [
    {
     "data": {
      "text/plain": [
       "4143"
      ]
     },
     "execution_count": 195,
     "metadata": {},
     "output_type": "execute_result"
    }
   ],
   "source": [
    "len(country_new_lyrics)"
   ]
  },
  {
   "cell_type": "code",
   "execution_count": 196,
   "metadata": {},
   "outputs": [
    {
     "data": {
      "text/plain": [
       "4143"
      ]
     },
     "execution_count": 196,
     "metadata": {},
     "output_type": "execute_result"
    }
   ],
   "source": [
    "len(country_tracks)"
   ]
  },
  {
   "cell_type": "markdown",
   "metadata": {},
   "source": [
    "The lyrics and audio features now correspond with eachother."
   ]
  },
  {
   "cell_type": "code",
   "execution_count": 197,
   "metadata": {},
   "outputs": [
    {
     "data": {
      "text/plain": [
       "\"I don't wanna be another skeleton in your closet Another rose that you throw, 'cause you know that it ain't okay Just a name on a stone in a row down the road forgotten 'Cause I was falling fast, now I'm just a dash between two dates  I don't wanna be another heart in your graveyard In the cold, hard dirt that you throw down I don't wanna watch you drive away in a black car to a new bar  So you can find another hopeless, broken girl in a little black dress And you take her, break her, lay her heart to rest in peace Right here next to me  Maybe I was naive to believe you would never hurt me But now I know why you hide in your darkest suit and shades? You put on a show, so nobody knows your hands and your shoes are dirty I guess you don't need a shovel to dig a grave  I don't wanna be another heart in your graveyard In the cold, hard dirt that you throw down I don't wanna watch you drive away in a black car to a new bar  So you can find another hopeless, broken girl in a little black dress And you take her, break her, lay her heart to rest in peace Right here next to me, yeah  You gonna go out one night when you see me out 'Cause the ghost of a broken heart don't stay six feet down You gonna go out one night when you see me out 'Cause the ghost of a broken heart don't stay six feet down  I don't wanna be another heart in your graveyard In the cold, hard dirt that you throw down I don't wanna watch you drive away in a black car to a new bar  So you can find another hopeless, broken girl in a little black dress And you take her, break her, lay her heart to rest in peace Right here next to me  Hopeless, broken girl And you just take her, break her heart Let her rest in peace Right there next to me I don't wanna be another heart I don't wanna be another heart In your graveyard, babe In your graveyard, hey\""
      ]
     },
     "execution_count": 197,
     "metadata": {},
     "output_type": "execute_result"
    }
   ],
   "source": [
    "country_new_lyrics[0]"
   ]
  },
  {
   "cell_type": "code",
   "execution_count": 198,
   "metadata": {},
   "outputs": [
    {
     "data": {
      "text/plain": [
       "{'Artist': 'Kelsea Ballerini',\n",
       " 'acousticness': 0.195,\n",
       " 'analysis_url': 'https://api.spotify.com/v1/audio-analysis/6ENrvUXtRhkE3yl0xj8fO5',\n",
       " 'audio_uri': 'spotify:track:6ENrvUXtRhkE3yl0xj8fO5',\n",
       " 'danceability': 0.542,\n",
       " 'duration_ms': 226853,\n",
       " 'energy': 0.748,\n",
       " 'href': 'https://api.spotify.com/v1/tracks/6ENrvUXtRhkE3yl0xj8fO5',\n",
       " 'id': '6ENrvUXtRhkE3yl0xj8fO5',\n",
       " 'instrumentalness': 3.57e-06,\n",
       " 'key': 8,\n",
       " 'liveness': 0.102,\n",
       " 'loudness': -6.688,\n",
       " 'mode': 1,\n",
       " 'song': 'Graveyard',\n",
       " 'speechiness': 0.0593,\n",
       " 'tempo': 87.982,\n",
       " 'time_signature': 4,\n",
       " 'types': 'audio_features',\n",
       " 'valence': 0.409}"
      ]
     },
     "execution_count": 198,
     "metadata": {},
     "output_type": "execute_result"
    }
   ],
   "source": [
    "country_tracks[0]"
   ]
  },
  {
   "cell_type": "markdown",
   "metadata": {},
   "source": [
    "The last steps consist of combining the lyrics and audio features, and creating a playlist equally weighting both."
   ]
  },
  {
   "cell_type": "code",
   "execution_count": 216,
   "metadata": {},
   "outputs": [],
   "source": [
    "# Combine lyrical and audio arrays\n",
    "total_array = np.concatenate((new_country_array,country_audio_array),axis=1)"
   ]
  },
  {
   "cell_type": "markdown",
   "metadata": {},
   "source": [
    "It is very import to standardize these arrays, in order to have similar spacial distances between the arrays and limited bias."
   ]
  },
  {
   "cell_type": "code",
   "execution_count": 217,
   "metadata": {
    "collapsed": true
   },
   "outputs": [],
   "source": [
    "from sklearn.preprocessing import StandardScaler\n",
    "scaler = StandardScaler()\n",
    "total_array_scaled = scaler.fit_transform(total_array)"
   ]
  },
  {
   "cell_type": "code",
   "execution_count": 221,
   "metadata": {},
   "outputs": [
    {
     "data": {
      "text/plain": [
       "(4143, 113)"
      ]
     },
     "execution_count": 221,
     "metadata": {},
     "output_type": "execute_result"
    }
   ],
   "source": [
    "total_array_scaled.shape"
   ]
  },
  {
   "cell_type": "code",
   "execution_count": 218,
   "metadata": {},
   "outputs": [
    {
     "data": {
      "text/plain": [
       "array([ 8.05976851e-01, -2.97591955e-01, -1.04048144e+00, -7.01637302e-01,\n",
       "        9.90813086e-01, -3.19338277e-01, -2.14253094e+00,  2.60309482e-02,\n",
       "       -9.46502260e-01, -4.89307430e-01, -6.69297366e-01, -1.23671040e-01,\n",
       "       -8.16122432e-01, -5.14828806e-01,  2.01733836e-03, -4.49979458e-01,\n",
       "        6.86378741e-01, -8.45576821e-01,  3.74301851e-01,  6.41540032e-01,\n",
       "       -3.20350782e-01,  4.40138801e-01,  2.69142043e-01,  6.89334815e-01,\n",
       "       -5.92988826e-01, -7.47243182e-02,  1.68462815e-01,  1.13352246e+00,\n",
       "        1.20996160e+00, -4.34331408e-01, -7.96587086e-01, -2.36877591e-01,\n",
       "        1.34769510e+00,  6.81989897e-01, -2.29803182e-01, -1.00887425e+00,\n",
       "       -1.49076185e+00,  5.83139004e-01, -9.00738185e-01,  2.18603869e+00,\n",
       "        2.34249644e-01,  1.19928707e+00,  1.24229185e-01, -1.27023622e+00,\n",
       "       -6.64033937e-01, -1.55699178e-01, -1.90751702e-01,  7.74910945e-01,\n",
       "       -1.55146669e+00,  1.80734574e+00,  5.20383202e-01, -8.65638492e-01,\n",
       "        1.22120448e+00,  8.36833821e-01, -1.04387604e-01,  8.67989854e-01,\n",
       "        2.60633632e-01, -3.21067811e-01, -1.79223844e+00,  2.98527241e-01,\n",
       "       -3.87777567e-01,  1.13346830e+00, -8.45503096e-01, -1.90221205e-01,\n",
       "       -8.52018905e-01,  1.72200369e+00,  7.38825759e-01,  1.36629067e-01,\n",
       "       -1.45322969e-02,  8.80777771e-01, -5.10294340e-01, -2.02741428e-02,\n",
       "       -1.53178277e-01, -8.78325898e-01, -1.07086499e+00,  4.66110257e-01,\n",
       "        4.05710347e-01, -1.35743986e+00, -1.21835322e+00,  9.60618508e-01,\n",
       "        2.68683927e-01,  3.36656643e-01, -4.88017291e-01,  5.13656613e-01,\n",
       "        6.03624203e-01,  8.53870040e-01,  1.44607326e+00, -1.40760235e-01,\n",
       "       -5.22987645e-01,  5.28940036e-01,  1.64341021e-01, -1.96556724e-01,\n",
       "        8.95165518e-01,  1.11553774e-01,  8.57922294e-01, -1.48327875e+00,\n",
       "       -1.70889025e+00,  1.29935315e+00,  6.20193060e-01,  4.06239088e-02,\n",
       "       -1.03078801e-01,  4.34078959e-01, -2.18795294e-01,  8.22680007e-01,\n",
       "       -7.93378566e-02,  3.55566318e-01,  3.83143854e-01, -1.19634935e-01,\n",
       "       -5.51656642e-01, -4.42468914e-01, -1.16489778e+00,  1.66437735e-01,\n",
       "        2.53528243e-01])"
      ]
     },
     "execution_count": 218,
     "metadata": {},
     "output_type": "execute_result"
    }
   ],
   "source": [
    "total_array_scaled[0]"
   ]
  },
  {
   "cell_type": "code",
   "execution_count": 219,
   "metadata": {
    "collapsed": true
   },
   "outputs": [],
   "source": [
    "#Fitting Nearest neighbors on the combined array\n",
    "NN_total= NN.fit(total_array_scaled)"
   ]
  },
  {
   "cell_type": "code",
   "execution_count": 222,
   "metadata": {
    "collapsed": true
   },
   "outputs": [],
   "source": [
    "#Reshaping the vecs to 113 dimensions (100 + 13) to fit in model\n",
    "vec_total_T = []\n",
    "for vec in total_array_scaled:\n",
    "    new_vec = vec.reshape(1,113)\n",
    "    vec_total_T.append(new_vec)"
   ]
  },
  {
   "cell_type": "code",
   "execution_count": 223,
   "metadata": {
    "collapsed": true
   },
   "outputs": [],
   "source": [
    "# Construct list of closest lyrical and audio features\n",
    "closest_both = []\n",
    "for vec in vec_total_T:\n",
    "    close_10 = NN_total.kneighbors(X=vec,n_neighbors=11)[1]\n",
    "    closest_both.append(close_10)"
   ]
  },
  {
   "cell_type": "markdown",
   "metadata": {},
   "source": [
    "### Create optimal playlists!"
   ]
  },
  {
   "cell_type": "code",
   "execution_count": 239,
   "metadata": {
    "collapsed": true
   },
   "outputs": [],
   "source": [
    "def similar_both(artist,song):\n",
    "    neighbors_lyrics=[]\n",
    "    neighbors = []\n",
    "    \n",
    "    lyrics = PyLyrics.getLyrics(artist,song)\n",
    "    clean_lyrics = lyrics.replace('\\n',' ')\n",
    "    \n",
    "    position = country_new_lyrics.index(clean_lyrics)\n",
    "   \n",
    "    for song in closest_both[position]:\n",
    "        for index in song:\n",
    "            if index != position:\n",
    "                neighbors_lyrics.append(country_new_lyrics[index])\n",
    "    \n",
    "    for dicts in country_lyrics:\n",
    "        for key,val in dicts.items():\n",
    "            for i in neighbors_lyrics:\n",
    "                if val == i:\n",
    "                    neighbors.append(dicts['Artist'] + ' : ' + key)\n",
    "                    neighbors = list(set(neighbors))\n",
    "        \n",
    "    print('Here is your playlist!' + '\\n')\n",
    "    \n",
    "    for neighbor in neighbors:\n",
    "        print(neighbor)"
   ]
  },
  {
   "cell_type": "code",
   "execution_count": 240,
   "metadata": {},
   "outputs": [
    {
     "name": "stdout",
     "output_type": "stream",
     "text": [
      "Here is your playlist!\n",
      "\n",
      "Zac Brown Band : Jump Right In\n",
      "Jerrod Niemann : Day Drinkin'\n",
      "Keith Urban : Drop Top\n",
      "Brett Eldredge : Crystal Clear\n",
      "Julie Roberts : NASCAR Party\n",
      "Keith Anderson : Stick It\n",
      "Chuck Wicks : Salt Life\n",
      "Florida Georgia Line : Summerland\n",
      "Jon Pardi : California Sunrise\n",
      "Blake Shelton : Some Beach\n"
     ]
    },
    {
     "name": "stderr",
     "output_type": "stream",
     "text": [
      "/Users/peyjmonahmad/anaconda3/lib/python3.6/site-packages/bs4/__init__.py:181: UserWarning: No parser was explicitly specified, so I'm using the best available HTML parser for this system (\"lxml\"). This usually isn't a problem, but if you run this code on another system, or in a different virtual environment, it may use a different parser and behave differently.\n",
      "\n",
      "The code that caused this warning is on line 193 of the file /Users/peyjmonahmad/anaconda3/lib/python3.6/runpy.py. To get rid of this warning, change code that looks like this:\n",
      "\n",
      " BeautifulSoup(YOUR_MARKUP})\n",
      "\n",
      "to this:\n",
      "\n",
      " BeautifulSoup(YOUR_MARKUP, \"lxml\")\n",
      "\n",
      "  markup_type=markup_type))\n"
     ]
    }
   ],
   "source": [
    "similar_both('Keith Urban','Never Comin Down')"
   ]
  },
  {
   "cell_type": "code",
   "execution_count": 230,
   "metadata": {},
   "outputs": [
    {
     "name": "stderr",
     "output_type": "stream",
     "text": [
      "/Users/peyjmonahmad/anaconda3/lib/python3.6/site-packages/bs4/__init__.py:181: UserWarning: No parser was explicitly specified, so I'm using the best available HTML parser for this system (\"lxml\"). This usually isn't a problem, but if you run this code on another system, or in a different virtual environment, it may use a different parser and behave differently.\n",
      "\n",
      "The code that caused this warning is on line 193 of the file /Users/peyjmonahmad/anaconda3/lib/python3.6/runpy.py. To get rid of this warning, change code that looks like this:\n",
      "\n",
      " BeautifulSoup(YOUR_MARKUP})\n",
      "\n",
      "to this:\n",
      "\n",
      " BeautifulSoup(YOUR_MARKUP, \"lxml\")\n",
      "\n",
      "  markup_type=markup_type))\n"
     ]
    },
    {
     "data": {
      "text/plain": [
       "['Carolyn Dawn Johnson : Love Rules',\n",
       " 'Keith Anderson : Lazy With Your Love',\n",
       " 'Kelly Clarkson : Love So Soft',\n",
       " 'Ricky Skaggs : Hold On Tight (Let It Go)',\n",
       " \"Trisha Yearwood : I'll Still Love You More\",\n",
       " \"Gretchen Wilson : I'd Love to Be Your Last\",\n",
       " \"Steve Miller Band : Tell Me What's The Reason\",\n",
       " 'Alan Jackson : O How I Love Jesus',\n",
       " \"Trent Willmon : I'll Love You Anyway\",\n",
       " 'Jo Dee Messina : Because You Love Me']"
      ]
     },
     "execution_count": 230,
     "metadata": {},
     "output_type": "execute_result"
    }
   ],
   "source": [
    "similar_both('Tim McGraw',\"It's Your Love\")"
   ]
  },
  {
   "cell_type": "markdown",
   "metadata": {},
   "source": [
    "And there it is! If you look back at other similarities to these songs, you can see that there are no overlaps, which is great.  Now that we have three different types of playlists, we can do one last thing and combine it into one large function."
   ]
  },
  {
   "cell_type": "markdown",
   "metadata": {},
   "source": [
    "### Pick your playlist!"
   ]
  },
  {
   "cell_type": "code",
   "execution_count": 241,
   "metadata": {
    "collapsed": true
   },
   "outputs": [],
   "source": [
    "def get_playlists(artist,song):\n",
    "    \n",
    "    neighbors_lyrics=[]\n",
    "    neighbors = []\n",
    "    \n",
    "    neighbors_audio = []\n",
    "    neighbors1 = []\n",
    "    \n",
    "    neighbors_both = []\n",
    "    neighbors2= []\n",
    "\n",
    "    lyrics = PyLyrics.getLyrics(artist,song)\n",
    "    clean_lyrics = lyrics.replace('\\n',' ')\n",
    "\n",
    "    position = country_new_lyrics.index(clean_lyrics)\n",
    "\n",
    "    for song in closest_country_lyrics[position]:\n",
    "        for index in song:\n",
    "            if index != position:\n",
    "                neighbors_lyrics.append(country_new_lyrics[index])\n",
    "\n",
    "    for song in closest_country_audio[position]:\n",
    "        for index in song:\n",
    "            if index != position:\n",
    "                neighbors_audio.append(country_new_lyrics[index])\n",
    "\n",
    "    for song in closest_both[position]:\n",
    "        for index in song:\n",
    "            if index != position:\n",
    "                neighbors_both.append(country_new_lyrics[index])\n",
    "\n",
    "    for dicts in country_lyrics:\n",
    "        for key,val in dicts.items():\n",
    "            for i in neighbors_lyrics:\n",
    "                if val == i:\n",
    "                    neighbors.append(dicts['Artist'] + ' : ' + key)\n",
    "                    neighbors = list(set(neighbors))\n",
    "\n",
    "    for dicts in country_lyrics:\n",
    "        for key,val in dicts.items():\n",
    "            for i in neighbors_audio:\n",
    "                if val == i:\n",
    "                    neighbors1.append(dicts['Artist'] + ' : ' + key)\n",
    "                    neighbors1 = list(set(neighbors1))\n",
    "\n",
    "    for dicts in country_lyrics:\n",
    "        for key,val in dicts.items():\n",
    "            for i in neighbors_both:\n",
    "                if val == i:\n",
    "                    neighbors2.append(dicts['Artist'] + ' : ' + key)\n",
    "                    neighbors2 = list(set(neighbors2))\n",
    "\n",
    "    print('Lyrical playlist:' + '\\n')\n",
    "    \n",
    "    for neighbor in neighbors:\n",
    "        print(neighbor)\n",
    "    \n",
    "    print('\\n')\n",
    "    \n",
    "    print('Audio playlist:' + '\\n')\n",
    "    \n",
    "    for neighbor in neighbors1:\n",
    "        print(neighbor)\n",
    "    \n",
    "    print('\\n')\n",
    "    \n",
    "    print('Combined playlist:' + '\\n')\n",
    "    \n",
    "    for neighbor in neighbors2:\n",
    "        print(neighbor)"
   ]
  },
  {
   "cell_type": "markdown",
   "metadata": {},
   "source": [
    "This function should print out three unique playlists."
   ]
  },
  {
   "cell_type": "code",
   "execution_count": 246,
   "metadata": {},
   "outputs": [
    {
     "name": "stdout",
     "output_type": "stream",
     "text": [
      "Lyrical playlist:\n",
      "\n",
      "Josh Gracin : Over Me\n",
      "The Lost Trailers : I'm A Country Man\n",
      "Ashton Shepherd : Regular Joe\n",
      "Sheryl Crow : Woo Woo\n",
      "Jewel : Nicotine Love\n",
      "Cross Canadian Ragweed : Soul Agent\n",
      "Kenny Rogers : Winter Wonderland\n",
      "Chris Young : What If I Stay\n",
      "Dierks Bentley : Goodbye In Telluride\n",
      "Brantley Gilbert : It's About To Get Dirty\n",
      "\n",
      "\n",
      "Audio playlist:\n",
      "\n",
      "Vince Gill : Make You Feel Real Good\n",
      "George Strait : Goin' Goin' Gone\n",
      "Darryl Worley : Living In The Here And Now\n",
      "Carolyn Dawn Johnson : Teach Me\n",
      "Keith Urban : Red Camaro\n",
      "LOCASH : I Know Somebody\n",
      "The Band Perry : Don’t Let Me Be Lonely\n",
      "Sia : Santa's Coming For Us\n",
      "Steve Azar : You're My Life\n",
      "\n",
      "\n",
      "Combined playlist:\n",
      "\n",
      "Zac Brown Band : Jump Right In\n",
      "Jerrod Niemann : Day Drinkin'\n",
      "Keith Urban : Drop Top\n",
      "Brett Eldredge : Crystal Clear\n",
      "Julie Roberts : NASCAR Party\n",
      "Keith Anderson : Stick It\n",
      "Chuck Wicks : Salt Life\n",
      "Florida Georgia Line : Summerland\n",
      "Jon Pardi : California Sunrise\n",
      "Blake Shelton : Some Beach\n"
     ]
    },
    {
     "name": "stderr",
     "output_type": "stream",
     "text": [
      "/Users/peyjmonahmad/anaconda3/lib/python3.6/site-packages/bs4/__init__.py:181: UserWarning: No parser was explicitly specified, so I'm using the best available HTML parser for this system (\"lxml\"). This usually isn't a problem, but if you run this code on another system, or in a different virtual environment, it may use a different parser and behave differently.\n",
      "\n",
      "The code that caused this warning is on line 193 of the file /Users/peyjmonahmad/anaconda3/lib/python3.6/runpy.py. To get rid of this warning, change code that looks like this:\n",
      "\n",
      " BeautifulSoup(YOUR_MARKUP})\n",
      "\n",
      "to this:\n",
      "\n",
      " BeautifulSoup(YOUR_MARKUP, \"lxml\")\n",
      "\n",
      "  markup_type=markup_type))\n"
     ]
    }
   ],
   "source": [
    "get_playlists('Keith Urban','Never Comin Down')"
   ]
  },
  {
   "cell_type": "markdown",
   "metadata": {},
   "source": [
    "### Awesome. So, at the end we just had to input one song and it will spit out three different playlists of similarities.\n",
    "\n",
    "### That is all I have for playlist generators.  If you have any suggestions or improvements feel free to message me.  I will be installing this generator into a Flask Web application shortly.\n",
    "\n",
    "### Things to note: I performed these same steps across four major genres, but it was not included to avoid repetition.  There are also some minor pieces of code that were not included to improve readability and reduce redudancy.\n",
    "\n",
    "### Thanks for following along!"
   ]
  }
 ],
 "metadata": {
  "kernelspec": {
   "display_name": "Python 3",
   "language": "python",
   "name": "python3"
  },
  "language_info": {
   "codemirror_mode": {
    "name": "ipython",
    "version": 3
   },
   "file_extension": ".py",
   "mimetype": "text/x-python",
   "name": "python",
   "nbconvert_exporter": "python",
   "pygments_lexer": "ipython3",
   "version": "3.6.3"
  }
 },
 "nbformat": 4,
 "nbformat_minor": 2
}
